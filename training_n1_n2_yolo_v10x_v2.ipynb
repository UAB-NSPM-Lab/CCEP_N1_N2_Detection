{
 "cells": [
  {
   "cell_type": "code",
   "execution_count": 1,
   "id": "31cdfe65",
   "metadata": {},
   "outputs": [
    {
     "name": "stderr",
     "output_type": "stream",
     "text": [
      "/home/sahaj432/.conda/envs/mcmc/lib/python3.12/site-packages/torch/utils/_pytree.py:185: FutureWarning: optree is installed but the version is too old to support PyTorch Dynamo in C++ pytree. C++ pytree support is disabled. Please consider upgrading optree using `python3 -m pip install --upgrade 'optree>=0.13.0'`.\n",
      "  warnings.warn(\n"
     ]
    }
   ],
   "source": [
    "from ultralytics import YOLO\n"
   ]
  },
  {
   "cell_type": "code",
   "execution_count": 2,
   "id": "14fcee1c",
   "metadata": {},
   "outputs": [],
   "source": [
    "model = YOLO(\"yolov10x.pt\") #/home/sahaj432/Desktop/NSPM_Lab/main_n_peak/code/"
   ]
  },
  {
   "cell_type": "code",
   "execution_count": 3,
   "id": "d00ffb13",
   "metadata": {
    "scrolled": true
   },
   "outputs": [
    {
     "name": "stdout",
     "output_type": "stream",
     "text": [
      "New https://pypi.org/project/ultralytics/8.3.154 available 😃 Update with 'pip install -U ultralytics'\n",
      "Ultralytics 8.3.90 🚀 Python-3.12.3 torch-2.6.0+cu124 CUDA:0 (NVIDIA A100 80GB PCIe, 81038MiB)\n",
      "\u001b[34m\u001b[1mengine/trainer: \u001b[0mtask=detect, mode=train, model=yolov10x.pt, data=/home/sahaj432/Desktop/NSPM_Lab/main_n_peak/code_v2/Dataset/n1_n2_new.v7i.yolov8/data.yaml, epochs=100, time=None, patience=100, batch=8, imgsz=(1016, 1408), save=True, save_period=-1, cache=False, device=0, workers=8, project=None, name=yolov10x_n1_n2_custom, exist_ok=False, pretrained=True, optimizer=auto, verbose=True, seed=0, deterministic=True, single_cls=False, rect=False, cos_lr=False, close_mosaic=10, resume=False, amp=True, fraction=1.0, profile=False, freeze=None, multi_scale=False, overlap_mask=True, mask_ratio=4, dropout=0.0, val=True, split=val, save_json=False, save_hybrid=False, conf=None, iou=0.7, max_det=300, half=False, dnn=False, plots=True, source=None, vid_stride=1, stream_buffer=False, visualize=False, augment=False, agnostic_nms=False, classes=None, retina_masks=False, embed=None, show=False, save_frames=False, save_txt=False, save_conf=False, save_crop=False, show_labels=True, show_conf=True, show_boxes=True, line_width=None, format=torchscript, keras=False, optimize=False, int8=False, dynamic=False, simplify=True, opset=None, workspace=None, nms=False, lr0=0.01, lrf=0.01, momentum=0.937, weight_decay=0.0005, warmup_epochs=3.0, warmup_momentum=0.8, warmup_bias_lr=0.1, box=7.5, cls=0.5, dfl=1.5, pose=12.0, kobj=1.0, nbs=64, hsv_h=0.015, hsv_s=0.7, hsv_v=0.4, degrees=0.0, translate=0.1, scale=0.5, shear=0.0, perspective=0.0, flipud=0.0, fliplr=0.5, bgr=0.0, mosaic=1.0, mixup=0.0, copy_paste=0.0, copy_paste_mode=flip, auto_augment=randaugment, erasing=0.4, crop_fraction=1.0, cfg=None, tracker=botsort.yaml, save_dir=runs/detect/yolov10x_n1_n2_custom\n",
      "Overriding model.yaml nc=80 with nc=3\n",
      "\n",
      "                   from  n    params  module                                       arguments                     \n",
      "  0                  -1  1      2320  ultralytics.nn.modules.conv.Conv             [3, 80, 3, 2]                 \n",
      "  1                  -1  1    115520  ultralytics.nn.modules.conv.Conv             [80, 160, 3, 2]               \n",
      "  2                  -1  3    436800  ultralytics.nn.modules.block.C2f             [160, 160, 3, True]           \n",
      "  3                  -1  1    461440  ultralytics.nn.modules.conv.Conv             [160, 320, 3, 2]              \n",
      "  4                  -1  6   3281920  ultralytics.nn.modules.block.C2f             [320, 320, 6, True]           \n",
      "  5                  -1  1    213120  ultralytics.nn.modules.block.SCDown          [320, 640, 3, 2]              \n",
      "  6                  -1  6   4604160  ultralytics.nn.modules.block.C2fCIB          [640, 640, 6, True]           \n",
      "  7                  -1  1    417920  ultralytics.nn.modules.block.SCDown          [640, 640, 3, 2]              \n",
      "  8                  -1  3   2712960  ultralytics.nn.modules.block.C2fCIB          [640, 640, 3, True]           \n",
      "  9                  -1  1   1025920  ultralytics.nn.modules.block.SPPF            [640, 640, 5]                 \n",
      " 10                  -1  1   1545920  ultralytics.nn.modules.block.PSA             [640, 640]                    \n",
      " 11                  -1  1         0  torch.nn.modules.upsampling.Upsample         [None, 2, 'nearest']          \n",
      " 12             [-1, 6]  1         0  ultralytics.nn.modules.conv.Concat           [1]                           \n",
      " 13                  -1  3   3122560  ultralytics.nn.modules.block.C2fCIB          [1280, 640, 3, True]          \n",
      " 14                  -1  1         0  torch.nn.modules.upsampling.Upsample         [None, 2, 'nearest']          \n",
      " 15             [-1, 4]  1         0  ultralytics.nn.modules.conv.Concat           [1]                           \n",
      " 16                  -1  3   1948800  ultralytics.nn.modules.block.C2f             [960, 320, 3]                 \n",
      " 17                  -1  1    922240  ultralytics.nn.modules.conv.Conv             [320, 320, 3, 2]              \n",
      " 18            [-1, 13]  1         0  ultralytics.nn.modules.conv.Concat           [1]                           \n",
      " 19                  -1  3   2917760  ultralytics.nn.modules.block.C2fCIB          [960, 640, 3, True]           \n",
      " 20                  -1  1    417920  ultralytics.nn.modules.block.SCDown          [640, 640, 3, 2]              \n",
      " 21            [-1, 10]  1         0  ultralytics.nn.modules.conv.Concat           [1]                           \n",
      " 22                  -1  3   3122560  ultralytics.nn.modules.block.C2fCIB          [1280, 640, 3, True]          \n",
      " 23        [16, 19, 22]  1   4390818  ultralytics.nn.modules.head.v10Detect        [3, [320, 640, 640]]          \n",
      "YOLOv10x summary: 400 layers, 31,660,658 parameters, 31,660,642 gradients, 171.0 GFLOPs\n",
      "\n",
      "Transferred 1123/1135 items from pretrained weights\n",
      "\u001b[34m\u001b[1mTensorBoard: \u001b[0mStart with 'tensorboard --logdir runs/detect/yolov10x_n1_n2_custom', view at http://localhost:6006/\n",
      "Freezing layer 'model.23.dfl.conv.weight'\n",
      "\u001b[34m\u001b[1mAMP: \u001b[0mrunning Automatic Mixed Precision (AMP) checks...\n",
      "\u001b[34m\u001b[1mAMP: \u001b[0mchecks passed ✅\n",
      "WARNING ⚠️ updating to 'imgsz=1408'. 'train' and 'val' imgsz must be an integer, while 'predict' and 'export' imgsz may be a [h, w] list or an integer, i.e. 'yolo export imgsz=640,480' or 'yolo export imgsz=640'\n"
     ]
    },
    {
     "name": "stderr",
     "output_type": "stream",
     "text": [
      "\u001b[34m\u001b[1mtrain: \u001b[0mScanning /data/user/home/sahaj432/Desktop/NSPM_Lab/main_n_peak/code_v2/Dataset/n1_n2_new.v7i.yolov8/train/labels... 1115 images, 0 backgrounds, 0 corrupt: 100%|██████████| 1115/1115 [00:03<00:00, 290.63it/s]\n"
     ]
    },
    {
     "name": "stdout",
     "output_type": "stream",
     "text": [
      "\u001b[34m\u001b[1mtrain: \u001b[0mNew cache created: /data/user/home/sahaj432/Desktop/NSPM_Lab/main_n_peak/code_v2/Dataset/n1_n2_new.v7i.yolov8/train/labels.cache\n"
     ]
    },
    {
     "name": "stderr",
     "output_type": "stream",
     "text": [
      "\u001b[34m\u001b[1mval: \u001b[0mScanning /data/user/home/sahaj432/Desktop/NSPM_Lab/main_n_peak/code_v2/Dataset/n1_n2_new.v7i.yolov8/valid/labels.cache... 241 images, 0 backgrounds, 0 corrupt: 100%|██████████| 241/241 [00:00<?, ?it/s]\n",
      "/home/sahaj432/.conda/envs/mcmc/lib/python3.12/site-packages/torch/utils/data/dataloader.py:624: UserWarning: This DataLoader will create 16 worker processes in total. Our suggested max number of worker in current system is 12, which is smaller than what this DataLoader is going to create. Please be aware that excessive worker creation might get DataLoader running slow or even freeze, lower the worker number to avoid potential slowness/freeze if necessary.\n",
      "  warnings.warn(\n"
     ]
    },
    {
     "name": "stdout",
     "output_type": "stream",
     "text": [
      "Plotting labels to runs/detect/yolov10x_n1_n2_custom/labels.jpg... \n",
      "\u001b[34m\u001b[1moptimizer:\u001b[0m 'optimizer=auto' found, ignoring 'lr0=0.01' and 'momentum=0.937' and determining best 'optimizer', 'lr0' and 'momentum' automatically... \n",
      "\u001b[34m\u001b[1moptimizer:\u001b[0m AdamW(lr=0.001429, momentum=0.9) with parameter groups 185 weight(decay=0.0), 198 weight(decay=0.0005), 197 bias(decay=0.0)\n",
      "\u001b[34m\u001b[1mTensorBoard: \u001b[0mmodel graph visualization added ✅\n",
      "Image sizes 1408 train, 1408 val\n",
      "Using 8 dataloader workers\n",
      "Logging results to \u001b[1mruns/detect/yolov10x_n1_n2_custom\u001b[0m\n",
      "Starting training for 100 epochs...\n",
      "\n",
      "      Epoch    GPU_mem   box_loss   cls_loss   dfl_loss  Instances       Size\n"
     ]
    },
    {
     "name": "stderr",
     "output_type": "stream",
     "text": [
      "      1/100      43.6G      4.222      13.14      4.628         11       1408: 100%|██████████| 140/140 [01:20<00:00,  1.75it/s]\n",
      "                 Class     Images  Instances      Box(P          R      mAP50  mAP50-95): 100%|██████████| 16/16 [00:04<00:00,  3.28it/s]"
     ]
    },
    {
     "name": "stdout",
     "output_type": "stream",
     "text": [
      "                   all        241        406          0          0          0          0\n"
     ]
    },
    {
     "name": "stderr",
     "output_type": "stream",
     "text": [
      "\n"
     ]
    },
    {
     "name": "stdout",
     "output_type": "stream",
     "text": [
      "\n",
      "      Epoch    GPU_mem   box_loss   cls_loss   dfl_loss  Instances       Size\n"
     ]
    },
    {
     "name": "stderr",
     "output_type": "stream",
     "text": [
      "      2/100      46.9G      3.742      4.049      4.238          9       1408: 100%|██████████| 140/140 [01:12<00:00,  1.93it/s]\n",
      "                 Class     Images  Instances      Box(P          R      mAP50  mAP50-95): 100%|██████████| 16/16 [00:03<00:00,  4.01it/s]"
     ]
    },
    {
     "name": "stdout",
     "output_type": "stream",
     "text": [
      "                   all        241        406          0          0          0          0\n"
     ]
    },
    {
     "name": "stderr",
     "output_type": "stream",
     "text": [
      "\n"
     ]
    },
    {
     "name": "stdout",
     "output_type": "stream",
     "text": [
      "\n",
      "      Epoch    GPU_mem   box_loss   cls_loss   dfl_loss  Instances       Size\n"
     ]
    },
    {
     "name": "stderr",
     "output_type": "stream",
     "text": [
      "      3/100        47G      3.612      3.666      4.141          9       1408: 100%|██████████| 140/140 [01:12<00:00,  1.94it/s]\n",
      "                 Class     Images  Instances      Box(P          R      mAP50  mAP50-95): 100%|██████████| 16/16 [00:03<00:00,  4.08it/s]"
     ]
    },
    {
     "name": "stdout",
     "output_type": "stream",
     "text": [
      "                   all        241        406          0          0          0          0\n"
     ]
    },
    {
     "name": "stderr",
     "output_type": "stream",
     "text": [
      "\n"
     ]
    },
    {
     "name": "stdout",
     "output_type": "stream",
     "text": [
      "\n",
      "      Epoch    GPU_mem   box_loss   cls_loss   dfl_loss  Instances       Size\n"
     ]
    },
    {
     "name": "stderr",
     "output_type": "stream",
     "text": [
      "      4/100      47.1G      3.299      3.552      3.904         11       1408: 100%|██████████| 140/140 [01:12<00:00,  1.94it/s]\n",
      "                 Class     Images  Instances      Box(P          R      mAP50  mAP50-95): 100%|██████████| 16/16 [00:04<00:00,  3.88it/s]"
     ]
    },
    {
     "name": "stdout",
     "output_type": "stream",
     "text": [
      "                   all        241        406      0.495       0.53      0.513      0.205\n"
     ]
    },
    {
     "name": "stderr",
     "output_type": "stream",
     "text": [
      "\n"
     ]
    },
    {
     "name": "stdout",
     "output_type": "stream",
     "text": [
      "\n",
      "      Epoch    GPU_mem   box_loss   cls_loss   dfl_loss  Instances       Size\n"
     ]
    },
    {
     "name": "stderr",
     "output_type": "stream",
     "text": [
      "      5/100      47.1G      3.114      3.272      3.737         12       1408: 100%|██████████| 140/140 [01:12<00:00,  1.94it/s]\n",
      "                 Class     Images  Instances      Box(P          R      mAP50  mAP50-95): 100%|██████████| 16/16 [00:04<00:00,  3.93it/s]"
     ]
    },
    {
     "name": "stdout",
     "output_type": "stream",
     "text": [
      "                   all        241        406      0.168      0.207      0.133     0.0412\n"
     ]
    },
    {
     "name": "stderr",
     "output_type": "stream",
     "text": [
      "\n"
     ]
    },
    {
     "name": "stdout",
     "output_type": "stream",
     "text": [
      "\n",
      "      Epoch    GPU_mem   box_loss   cls_loss   dfl_loss  Instances       Size\n"
     ]
    },
    {
     "name": "stderr",
     "output_type": "stream",
     "text": [
      "      6/100      47.1G      2.949      2.954      3.601         11       1408: 100%|██████████| 140/140 [01:12<00:00,  1.94it/s]\n",
      "                 Class     Images  Instances      Box(P          R      mAP50  mAP50-95): 100%|██████████| 16/16 [00:04<00:00,  3.91it/s]"
     ]
    },
    {
     "name": "stdout",
     "output_type": "stream",
     "text": [
      "                   all        241        406      0.657       0.66      0.692      0.292\n"
     ]
    },
    {
     "name": "stderr",
     "output_type": "stream",
     "text": [
      "\n"
     ]
    },
    {
     "name": "stdout",
     "output_type": "stream",
     "text": [
      "\n",
      "      Epoch    GPU_mem   box_loss   cls_loss   dfl_loss  Instances       Size\n"
     ]
    },
    {
     "name": "stderr",
     "output_type": "stream",
     "text": [
      "      7/100      47.1G      2.953      2.989       3.58          9       1408: 100%|██████████| 140/140 [01:12<00:00,  1.94it/s]\n",
      "                 Class     Images  Instances      Box(P          R      mAP50  mAP50-95): 100%|██████████| 16/16 [00:04<00:00,  3.91it/s]"
     ]
    },
    {
     "name": "stdout",
     "output_type": "stream",
     "text": [
      "                   all        241        406      0.761       0.68      0.743      0.324\n"
     ]
    },
    {
     "name": "stderr",
     "output_type": "stream",
     "text": [
      "\n"
     ]
    },
    {
     "name": "stdout",
     "output_type": "stream",
     "text": [
      "\n",
      "      Epoch    GPU_mem   box_loss   cls_loss   dfl_loss  Instances       Size\n"
     ]
    },
    {
     "name": "stderr",
     "output_type": "stream",
     "text": [
      "      8/100      47.1G      2.854      2.839       3.42         12       1408: 100%|██████████| 140/140 [01:11<00:00,  1.94it/s]\n",
      "                 Class     Images  Instances      Box(P          R      mAP50  mAP50-95): 100%|██████████| 16/16 [00:04<00:00,  3.92it/s]"
     ]
    },
    {
     "name": "stdout",
     "output_type": "stream",
     "text": [
      "                   all        241        406      0.743      0.711      0.748      0.328\n"
     ]
    },
    {
     "name": "stderr",
     "output_type": "stream",
     "text": [
      "\n"
     ]
    },
    {
     "name": "stdout",
     "output_type": "stream",
     "text": [
      "\n",
      "      Epoch    GPU_mem   box_loss   cls_loss   dfl_loss  Instances       Size\n"
     ]
    },
    {
     "name": "stderr",
     "output_type": "stream",
     "text": [
      "      9/100      47.1G      2.782       2.74      3.387          8       1408: 100%|██████████| 140/140 [01:12<00:00,  1.94it/s]\n",
      "                 Class     Images  Instances      Box(P          R      mAP50  mAP50-95): 100%|██████████| 16/16 [00:04<00:00,  3.92it/s]"
     ]
    },
    {
     "name": "stdout",
     "output_type": "stream",
     "text": [
      "                   all        241        406      0.559      0.606      0.599      0.282\n"
     ]
    },
    {
     "name": "stderr",
     "output_type": "stream",
     "text": [
      "\n"
     ]
    },
    {
     "name": "stdout",
     "output_type": "stream",
     "text": [
      "\n",
      "      Epoch    GPU_mem   box_loss   cls_loss   dfl_loss  Instances       Size\n"
     ]
    },
    {
     "name": "stderr",
     "output_type": "stream",
     "text": [
      "     10/100      47.1G      2.759      2.632      3.397          7       1408: 100%|██████████| 140/140 [01:12<00:00,  1.94it/s]\n",
      "                 Class     Images  Instances      Box(P          R      mAP50  mAP50-95): 100%|██████████| 16/16 [00:04<00:00,  3.92it/s]"
     ]
    },
    {
     "name": "stdout",
     "output_type": "stream",
     "text": [
      "                   all        241        406      0.779      0.733      0.821      0.394\n"
     ]
    },
    {
     "name": "stderr",
     "output_type": "stream",
     "text": [
      "\n"
     ]
    },
    {
     "name": "stdout",
     "output_type": "stream",
     "text": [
      "\n",
      "      Epoch    GPU_mem   box_loss   cls_loss   dfl_loss  Instances       Size\n"
     ]
    },
    {
     "name": "stderr",
     "output_type": "stream",
     "text": [
      "     11/100      47.1G      2.714       2.54      3.317         17       1408: 100%|██████████| 140/140 [01:12<00:00,  1.94it/s]\n",
      "                 Class     Images  Instances      Box(P          R      mAP50  mAP50-95): 100%|██████████| 16/16 [00:04<00:00,  3.92it/s]"
     ]
    },
    {
     "name": "stdout",
     "output_type": "stream",
     "text": [
      "                   all        241        406      0.746      0.674      0.778      0.384\n"
     ]
    },
    {
     "name": "stderr",
     "output_type": "stream",
     "text": [
      "\n"
     ]
    },
    {
     "name": "stdout",
     "output_type": "stream",
     "text": [
      "\n",
      "      Epoch    GPU_mem   box_loss   cls_loss   dfl_loss  Instances       Size\n"
     ]
    },
    {
     "name": "stderr",
     "output_type": "stream",
     "text": [
      "     12/100      47.1G      2.761      2.515      3.353         16       1408: 100%|██████████| 140/140 [01:12<00:00,  1.94it/s]\n",
      "                 Class     Images  Instances      Box(P          R      mAP50  mAP50-95): 100%|██████████| 16/16 [00:04<00:00,  3.92it/s]"
     ]
    },
    {
     "name": "stdout",
     "output_type": "stream",
     "text": [
      "                   all        241        406      0.866      0.766      0.856      0.463\n"
     ]
    },
    {
     "name": "stderr",
     "output_type": "stream",
     "text": [
      "\n"
     ]
    },
    {
     "name": "stdout",
     "output_type": "stream",
     "text": [
      "\n",
      "      Epoch    GPU_mem   box_loss   cls_loss   dfl_loss  Instances       Size\n"
     ]
    },
    {
     "name": "stderr",
     "output_type": "stream",
     "text": [
      "     13/100      47.1G      2.661      2.372      3.277          7       1408: 100%|██████████| 140/140 [01:12<00:00,  1.94it/s]\n",
      "                 Class     Images  Instances      Box(P          R      mAP50  mAP50-95): 100%|██████████| 16/16 [00:04<00:00,  3.93it/s]"
     ]
    },
    {
     "name": "stdout",
     "output_type": "stream",
     "text": [
      "                   all        241        406      0.648      0.394      0.474      0.125\n"
     ]
    },
    {
     "name": "stderr",
     "output_type": "stream",
     "text": [
      "\n"
     ]
    },
    {
     "name": "stdout",
     "output_type": "stream",
     "text": [
      "\n",
      "      Epoch    GPU_mem   box_loss   cls_loss   dfl_loss  Instances       Size\n"
     ]
    },
    {
     "name": "stderr",
     "output_type": "stream",
     "text": [
      "     14/100      47.1G      2.654      2.348      3.245         11       1408: 100%|██████████| 140/140 [01:12<00:00,  1.94it/s]\n",
      "                 Class     Images  Instances      Box(P          R      mAP50  mAP50-95): 100%|██████████| 16/16 [00:04<00:00,  3.92it/s]"
     ]
    },
    {
     "name": "stdout",
     "output_type": "stream",
     "text": [
      "                   all        241        406      0.761      0.801      0.838       0.47\n"
     ]
    },
    {
     "name": "stderr",
     "output_type": "stream",
     "text": [
      "\n"
     ]
    },
    {
     "name": "stdout",
     "output_type": "stream",
     "text": [
      "\n",
      "      Epoch    GPU_mem   box_loss   cls_loss   dfl_loss  Instances       Size\n"
     ]
    },
    {
     "name": "stderr",
     "output_type": "stream",
     "text": [
      "     15/100      47.1G      2.613      2.357      3.192         15       1408: 100%|██████████| 140/140 [01:12<00:00,  1.94it/s]\n",
      "                 Class     Images  Instances      Box(P          R      mAP50  mAP50-95): 100%|██████████| 16/16 [00:04<00:00,  3.91it/s]"
     ]
    },
    {
     "name": "stdout",
     "output_type": "stream",
     "text": [
      "                   all        241        406      0.797      0.756      0.837      0.443\n"
     ]
    },
    {
     "name": "stderr",
     "output_type": "stream",
     "text": [
      "\n"
     ]
    },
    {
     "name": "stdout",
     "output_type": "stream",
     "text": [
      "\n",
      "      Epoch    GPU_mem   box_loss   cls_loss   dfl_loss  Instances       Size\n"
     ]
    },
    {
     "name": "stderr",
     "output_type": "stream",
     "text": [
      "     16/100      47.2G      2.528      2.338      3.143          7       1408: 100%|██████████| 140/140 [01:12<00:00,  1.94it/s]\n",
      "                 Class     Images  Instances      Box(P          R      mAP50  mAP50-95): 100%|██████████| 16/16 [00:04<00:00,  3.91it/s]"
     ]
    },
    {
     "name": "stdout",
     "output_type": "stream",
     "text": [
      "                   all        241        406      0.762      0.769      0.804      0.366\n"
     ]
    },
    {
     "name": "stderr",
     "output_type": "stream",
     "text": [
      "\n"
     ]
    },
    {
     "name": "stdout",
     "output_type": "stream",
     "text": [
      "\n",
      "      Epoch    GPU_mem   box_loss   cls_loss   dfl_loss  Instances       Size\n"
     ]
    },
    {
     "name": "stderr",
     "output_type": "stream",
     "text": [
      "     17/100      47.2G      2.561       2.31      3.127         14       1408: 100%|██████████| 140/140 [01:12<00:00,  1.94it/s]\n",
      "                 Class     Images  Instances      Box(P          R      mAP50  mAP50-95): 100%|██████████| 16/16 [00:04<00:00,  3.91it/s]"
     ]
    },
    {
     "name": "stdout",
     "output_type": "stream",
     "text": [
      "                   all        241        406      0.794      0.784      0.856      0.476\n"
     ]
    },
    {
     "name": "stderr",
     "output_type": "stream",
     "text": [
      "\n"
     ]
    },
    {
     "name": "stdout",
     "output_type": "stream",
     "text": [
      "\n",
      "      Epoch    GPU_mem   box_loss   cls_loss   dfl_loss  Instances       Size\n"
     ]
    },
    {
     "name": "stderr",
     "output_type": "stream",
     "text": [
      "     18/100      47.2G      2.499      2.239      3.075          8       1408: 100%|██████████| 140/140 [01:12<00:00,  1.94it/s]\n",
      "                 Class     Images  Instances      Box(P          R      mAP50  mAP50-95): 100%|██████████| 16/16 [00:04<00:00,  3.96it/s]"
     ]
    },
    {
     "name": "stdout",
     "output_type": "stream",
     "text": [
      "                   all        241        406        0.5      0.269      0.304     0.0774\n"
     ]
    },
    {
     "name": "stderr",
     "output_type": "stream",
     "text": [
      "\n"
     ]
    },
    {
     "name": "stdout",
     "output_type": "stream",
     "text": [
      "\n",
      "      Epoch    GPU_mem   box_loss   cls_loss   dfl_loss  Instances       Size\n"
     ]
    },
    {
     "name": "stderr",
     "output_type": "stream",
     "text": [
      "     19/100      47.2G      2.496      2.224      3.097         18       1408: 100%|██████████| 140/140 [01:12<00:00,  1.94it/s]\n",
      "                 Class     Images  Instances      Box(P          R      mAP50  mAP50-95): 100%|██████████| 16/16 [00:04<00:00,  3.92it/s]"
     ]
    },
    {
     "name": "stdout",
     "output_type": "stream",
     "text": [
      "                   all        241        406      0.581      0.477      0.469      0.143\n"
     ]
    },
    {
     "name": "stderr",
     "output_type": "stream",
     "text": [
      "\n"
     ]
    },
    {
     "name": "stdout",
     "output_type": "stream",
     "text": [
      "\n",
      "      Epoch    GPU_mem   box_loss   cls_loss   dfl_loss  Instances       Size\n"
     ]
    },
    {
     "name": "stderr",
     "output_type": "stream",
     "text": [
      "     20/100      47.3G      2.471      2.092       3.06         10       1408: 100%|██████████| 140/140 [01:12<00:00,  1.93it/s]\n",
      "                 Class     Images  Instances      Box(P          R      mAP50  mAP50-95): 100%|██████████| 16/16 [00:04<00:00,  3.91it/s]"
     ]
    },
    {
     "name": "stdout",
     "output_type": "stream",
     "text": [
      "                   all        241        406      0.895       0.76       0.85      0.462\n"
     ]
    },
    {
     "name": "stderr",
     "output_type": "stream",
     "text": [
      "\n"
     ]
    },
    {
     "name": "stdout",
     "output_type": "stream",
     "text": [
      "\n",
      "      Epoch    GPU_mem   box_loss   cls_loss   dfl_loss  Instances       Size\n"
     ]
    },
    {
     "name": "stderr",
     "output_type": "stream",
     "text": [
      "     21/100      47.3G      2.526      2.109      3.101         10       1408: 100%|██████████| 140/140 [01:12<00:00,  1.94it/s]\n",
      "                 Class     Images  Instances      Box(P          R      mAP50  mAP50-95): 100%|██████████| 16/16 [00:04<00:00,  3.90it/s]"
     ]
    },
    {
     "name": "stdout",
     "output_type": "stream",
     "text": [
      "                   all        241        406      0.872      0.769      0.876      0.502\n"
     ]
    },
    {
     "name": "stderr",
     "output_type": "stream",
     "text": [
      "\n"
     ]
    },
    {
     "name": "stdout",
     "output_type": "stream",
     "text": [
      "\n",
      "      Epoch    GPU_mem   box_loss   cls_loss   dfl_loss  Instances       Size\n"
     ]
    },
    {
     "name": "stderr",
     "output_type": "stream",
     "text": [
      "     22/100      47.3G       2.48      2.126       3.06          8       1408: 100%|██████████| 140/140 [01:12<00:00,  1.94it/s]\n",
      "                 Class     Images  Instances      Box(P          R      mAP50  mAP50-95): 100%|██████████| 16/16 [00:04<00:00,  3.91it/s]"
     ]
    },
    {
     "name": "stdout",
     "output_type": "stream",
     "text": [
      "                   all        241        406      0.878      0.822      0.897      0.515\n"
     ]
    },
    {
     "name": "stderr",
     "output_type": "stream",
     "text": [
      "\n"
     ]
    },
    {
     "name": "stdout",
     "output_type": "stream",
     "text": [
      "\n",
      "      Epoch    GPU_mem   box_loss   cls_loss   dfl_loss  Instances       Size\n"
     ]
    },
    {
     "name": "stderr",
     "output_type": "stream",
     "text": [
      "     23/100      47.3G      2.447      2.104      3.031         13       1408: 100%|██████████| 140/140 [01:12<00:00,  1.94it/s]\n",
      "                 Class     Images  Instances      Box(P          R      mAP50  mAP50-95): 100%|██████████| 16/16 [00:04<00:00,  3.92it/s]"
     ]
    },
    {
     "name": "stdout",
     "output_type": "stream",
     "text": [
      "                   all        241        406      0.875      0.795      0.892      0.498\n"
     ]
    },
    {
     "name": "stderr",
     "output_type": "stream",
     "text": [
      "\n"
     ]
    },
    {
     "name": "stdout",
     "output_type": "stream",
     "text": [
      "\n",
      "      Epoch    GPU_mem   box_loss   cls_loss   dfl_loss  Instances       Size\n"
     ]
    },
    {
     "name": "stderr",
     "output_type": "stream",
     "text": [
      "     24/100      47.3G      2.428      2.037      2.994         12       1408: 100%|██████████| 140/140 [01:12<00:00,  1.94it/s]\n",
      "                 Class     Images  Instances      Box(P          R      mAP50  mAP50-95): 100%|██████████| 16/16 [00:04<00:00,  3.92it/s]"
     ]
    },
    {
     "name": "stdout",
     "output_type": "stream",
     "text": [
      "                   all        241        406      0.879       0.79      0.878      0.497\n"
     ]
    },
    {
     "name": "stderr",
     "output_type": "stream",
     "text": [
      "\n"
     ]
    },
    {
     "name": "stdout",
     "output_type": "stream",
     "text": [
      "\n",
      "      Epoch    GPU_mem   box_loss   cls_loss   dfl_loss  Instances       Size\n"
     ]
    },
    {
     "name": "stderr",
     "output_type": "stream",
     "text": [
      "     25/100      47.3G      2.413      2.021      2.975         13       1408: 100%|██████████| 140/140 [01:12<00:00,  1.94it/s]\n",
      "                 Class     Images  Instances      Box(P          R      mAP50  mAP50-95): 100%|██████████| 16/16 [00:04<00:00,  3.92it/s]"
     ]
    },
    {
     "name": "stdout",
     "output_type": "stream",
     "text": [
      "                   all        241        406      0.867      0.757      0.872      0.506\n"
     ]
    },
    {
     "name": "stderr",
     "output_type": "stream",
     "text": [
      "\n"
     ]
    },
    {
     "name": "stdout",
     "output_type": "stream",
     "text": [
      "\n",
      "      Epoch    GPU_mem   box_loss   cls_loss   dfl_loss  Instances       Size\n"
     ]
    },
    {
     "name": "stderr",
     "output_type": "stream",
     "text": [
      "     26/100      47.3G       2.37      1.972      2.948          8       1408: 100%|██████████| 140/140 [01:12<00:00,  1.94it/s]\n",
      "                 Class     Images  Instances      Box(P          R      mAP50  mAP50-95): 100%|██████████| 16/16 [00:04<00:00,  3.92it/s]"
     ]
    },
    {
     "name": "stdout",
     "output_type": "stream",
     "text": [
      "                   all        241        406      0.872      0.827      0.912       0.55\n"
     ]
    },
    {
     "name": "stderr",
     "output_type": "stream",
     "text": [
      "\n"
     ]
    },
    {
     "name": "stdout",
     "output_type": "stream",
     "text": [
      "\n",
      "      Epoch    GPU_mem   box_loss   cls_loss   dfl_loss  Instances       Size\n"
     ]
    },
    {
     "name": "stderr",
     "output_type": "stream",
     "text": [
      "     27/100      47.3G      2.458      2.038      2.966         13       1408: 100%|██████████| 140/140 [01:12<00:00,  1.94it/s]\n",
      "                 Class     Images  Instances      Box(P          R      mAP50  mAP50-95): 100%|██████████| 16/16 [00:04<00:00,  3.94it/s]"
     ]
    },
    {
     "name": "stdout",
     "output_type": "stream",
     "text": [
      "                   all        241        406      0.898      0.237      0.344        0.1\n"
     ]
    },
    {
     "name": "stderr",
     "output_type": "stream",
     "text": [
      "\n"
     ]
    },
    {
     "name": "stdout",
     "output_type": "stream",
     "text": [
      "\n",
      "      Epoch    GPU_mem   box_loss   cls_loss   dfl_loss  Instances       Size\n"
     ]
    },
    {
     "name": "stderr",
     "output_type": "stream",
     "text": [
      "     28/100      47.3G      2.367      1.949      2.978         11       1408: 100%|██████████| 140/140 [01:12<00:00,  1.93it/s]\n",
      "                 Class     Images  Instances      Box(P          R      mAP50  mAP50-95): 100%|██████████| 16/16 [00:04<00:00,  3.92it/s]"
     ]
    },
    {
     "name": "stdout",
     "output_type": "stream",
     "text": [
      "                   all        241        406      0.906        0.8      0.911       0.55\n"
     ]
    },
    {
     "name": "stderr",
     "output_type": "stream",
     "text": [
      "\n"
     ]
    },
    {
     "name": "stdout",
     "output_type": "stream",
     "text": [
      "\n",
      "      Epoch    GPU_mem   box_loss   cls_loss   dfl_loss  Instances       Size\n"
     ]
    },
    {
     "name": "stderr",
     "output_type": "stream",
     "text": [
      "     29/100      47.3G      2.387      1.971       2.95         11       1408: 100%|██████████| 140/140 [01:12<00:00,  1.94it/s]\n",
      "                 Class     Images  Instances      Box(P          R      mAP50  mAP50-95): 100%|██████████| 16/16 [00:04<00:00,  3.92it/s]"
     ]
    },
    {
     "name": "stdout",
     "output_type": "stream",
     "text": [
      "                   all        241        406      0.901      0.806       0.91      0.528\n"
     ]
    },
    {
     "name": "stderr",
     "output_type": "stream",
     "text": [
      "\n"
     ]
    },
    {
     "name": "stdout",
     "output_type": "stream",
     "text": [
      "\n",
      "      Epoch    GPU_mem   box_loss   cls_loss   dfl_loss  Instances       Size\n"
     ]
    },
    {
     "name": "stderr",
     "output_type": "stream",
     "text": [
      "     30/100      47.3G      2.385      1.937      2.935         14       1408: 100%|██████████| 140/140 [01:12<00:00,  1.94it/s]\n",
      "                 Class     Images  Instances      Box(P          R      mAP50  mAP50-95): 100%|██████████| 16/16 [00:04<00:00,  3.92it/s]"
     ]
    },
    {
     "name": "stdout",
     "output_type": "stream",
     "text": [
      "                   all        241        406      0.863      0.792      0.886      0.528\n"
     ]
    },
    {
     "name": "stderr",
     "output_type": "stream",
     "text": [
      "\n"
     ]
    },
    {
     "name": "stdout",
     "output_type": "stream",
     "text": [
      "\n",
      "      Epoch    GPU_mem   box_loss   cls_loss   dfl_loss  Instances       Size\n"
     ]
    },
    {
     "name": "stderr",
     "output_type": "stream",
     "text": [
      "     31/100      47.3G      2.354      1.957       2.93         15       1408: 100%|██████████| 140/140 [01:12<00:00,  1.94it/s]\n",
      "                 Class     Images  Instances      Box(P          R      mAP50  mAP50-95): 100%|██████████| 16/16 [00:04<00:00,  3.93it/s]"
     ]
    },
    {
     "name": "stdout",
     "output_type": "stream",
     "text": [
      "                   all        241        406      0.547      0.557      0.609      0.262\n"
     ]
    },
    {
     "name": "stderr",
     "output_type": "stream",
     "text": [
      "\n"
     ]
    },
    {
     "name": "stdout",
     "output_type": "stream",
     "text": [
      "\n",
      "      Epoch    GPU_mem   box_loss   cls_loss   dfl_loss  Instances       Size\n"
     ]
    },
    {
     "name": "stderr",
     "output_type": "stream",
     "text": [
      "     32/100      47.3G      2.388      1.918       2.94         15       1408: 100%|██████████| 140/140 [01:12<00:00,  1.94it/s]\n",
      "                 Class     Images  Instances      Box(P          R      mAP50  mAP50-95): 100%|██████████| 16/16 [00:04<00:00,  3.92it/s]"
     ]
    },
    {
     "name": "stdout",
     "output_type": "stream",
     "text": [
      "                   all        241        406      0.892       0.81      0.903      0.531\n"
     ]
    },
    {
     "name": "stderr",
     "output_type": "stream",
     "text": [
      "\n"
     ]
    },
    {
     "name": "stdout",
     "output_type": "stream",
     "text": [
      "\n",
      "      Epoch    GPU_mem   box_loss   cls_loss   dfl_loss  Instances       Size\n"
     ]
    },
    {
     "name": "stderr",
     "output_type": "stream",
     "text": [
      "     33/100      47.3G      2.323      1.866      2.912         16       1408: 100%|██████████| 140/140 [01:12<00:00,  1.94it/s]\n",
      "                 Class     Images  Instances      Box(P          R      mAP50  mAP50-95): 100%|██████████| 16/16 [00:04<00:00,  3.93it/s]"
     ]
    },
    {
     "name": "stdout",
     "output_type": "stream",
     "text": [
      "                   all        241        406      0.864      0.855      0.915      0.548\n"
     ]
    },
    {
     "name": "stderr",
     "output_type": "stream",
     "text": [
      "\n"
     ]
    },
    {
     "name": "stdout",
     "output_type": "stream",
     "text": [
      "\n",
      "      Epoch    GPU_mem   box_loss   cls_loss   dfl_loss  Instances       Size\n"
     ]
    },
    {
     "name": "stderr",
     "output_type": "stream",
     "text": [
      "     34/100      47.3G      2.303      1.862      2.866         13       1408: 100%|██████████| 140/140 [01:12<00:00,  1.94it/s]\n",
      "                 Class     Images  Instances      Box(P          R      mAP50  mAP50-95): 100%|██████████| 16/16 [00:04<00:00,  3.92it/s]"
     ]
    },
    {
     "name": "stdout",
     "output_type": "stream",
     "text": [
      "                   all        241        406      0.862      0.828      0.899      0.545\n"
     ]
    },
    {
     "name": "stderr",
     "output_type": "stream",
     "text": [
      "\n"
     ]
    },
    {
     "name": "stdout",
     "output_type": "stream",
     "text": [
      "\n",
      "      Epoch    GPU_mem   box_loss   cls_loss   dfl_loss  Instances       Size\n"
     ]
    },
    {
     "name": "stderr",
     "output_type": "stream",
     "text": [
      "     35/100      47.3G      2.292      1.872      2.869         10       1408: 100%|██████████| 140/140 [01:12<00:00,  1.94it/s]\n",
      "                 Class     Images  Instances      Box(P          R      mAP50  mAP50-95): 100%|██████████| 16/16 [00:04<00:00,  3.91it/s]"
     ]
    },
    {
     "name": "stdout",
     "output_type": "stream",
     "text": [
      "                   all        241        406      0.825      0.823      0.882      0.523\n"
     ]
    },
    {
     "name": "stderr",
     "output_type": "stream",
     "text": [
      "\n"
     ]
    },
    {
     "name": "stdout",
     "output_type": "stream",
     "text": [
      "\n",
      "      Epoch    GPU_mem   box_loss   cls_loss   dfl_loss  Instances       Size\n"
     ]
    },
    {
     "name": "stderr",
     "output_type": "stream",
     "text": [
      "     36/100      47.3G      2.284      1.813      2.868         21       1408: 100%|██████████| 140/140 [01:12<00:00,  1.93it/s]\n",
      "                 Class     Images  Instances      Box(P          R      mAP50  mAP50-95): 100%|██████████| 16/16 [00:04<00:00,  3.92it/s]"
     ]
    },
    {
     "name": "stdout",
     "output_type": "stream",
     "text": [
      "                   all        241        406        0.9      0.812       0.91      0.544\n"
     ]
    },
    {
     "name": "stderr",
     "output_type": "stream",
     "text": [
      "\n"
     ]
    },
    {
     "name": "stdout",
     "output_type": "stream",
     "text": [
      "\n",
      "      Epoch    GPU_mem   box_loss   cls_loss   dfl_loss  Instances       Size\n"
     ]
    },
    {
     "name": "stderr",
     "output_type": "stream",
     "text": [
      "     37/100      47.3G      2.286      1.816      2.866         12       1408: 100%|██████████| 140/140 [01:12<00:00,  1.94it/s]\n",
      "                 Class     Images  Instances      Box(P          R      mAP50  mAP50-95): 100%|██████████| 16/16 [00:04<00:00,  3.91it/s]"
     ]
    },
    {
     "name": "stdout",
     "output_type": "stream",
     "text": [
      "                   all        241        406      0.875      0.798       0.88      0.513\n"
     ]
    },
    {
     "name": "stderr",
     "output_type": "stream",
     "text": [
      "\n"
     ]
    },
    {
     "name": "stdout",
     "output_type": "stream",
     "text": [
      "\n",
      "      Epoch    GPU_mem   box_loss   cls_loss   dfl_loss  Instances       Size\n"
     ]
    },
    {
     "name": "stderr",
     "output_type": "stream",
     "text": [
      "     38/100      47.3G      2.265       1.81      2.865          8       1408: 100%|██████████| 140/140 [01:12<00:00,  1.94it/s]\n",
      "                 Class     Images  Instances      Box(P          R      mAP50  mAP50-95): 100%|██████████| 16/16 [00:04<00:00,  3.90it/s]"
     ]
    },
    {
     "name": "stdout",
     "output_type": "stream",
     "text": [
      "                   all        241        406      0.844      0.847      0.898      0.538\n"
     ]
    },
    {
     "name": "stderr",
     "output_type": "stream",
     "text": [
      "\n"
     ]
    },
    {
     "name": "stdout",
     "output_type": "stream",
     "text": [
      "\n",
      "      Epoch    GPU_mem   box_loss   cls_loss   dfl_loss  Instances       Size\n"
     ]
    },
    {
     "name": "stderr",
     "output_type": "stream",
     "text": [
      "     39/100      47.3G      2.256      1.769      2.874         12       1408: 100%|██████████| 140/140 [01:12<00:00,  1.94it/s]\n",
      "                 Class     Images  Instances      Box(P          R      mAP50  mAP50-95): 100%|██████████| 16/16 [00:04<00:00,  3.92it/s]"
     ]
    },
    {
     "name": "stdout",
     "output_type": "stream",
     "text": [
      "                   all        241        406      0.873      0.836      0.904      0.552\n"
     ]
    },
    {
     "name": "stderr",
     "output_type": "stream",
     "text": [
      "\n"
     ]
    },
    {
     "name": "stdout",
     "output_type": "stream",
     "text": [
      "\n",
      "      Epoch    GPU_mem   box_loss   cls_loss   dfl_loss  Instances       Size\n"
     ]
    },
    {
     "name": "stderr",
     "output_type": "stream",
     "text": [
      "     40/100      47.3G      2.263      1.794      2.848         12       1408: 100%|██████████| 140/140 [01:12<00:00,  1.94it/s]\n",
      "                 Class     Images  Instances      Box(P          R      mAP50  mAP50-95): 100%|██████████| 16/16 [00:04<00:00,  3.92it/s]"
     ]
    },
    {
     "name": "stdout",
     "output_type": "stream",
     "text": [
      "                   all        241        406      0.878      0.812      0.911      0.542\n"
     ]
    },
    {
     "name": "stderr",
     "output_type": "stream",
     "text": [
      "\n"
     ]
    },
    {
     "name": "stdout",
     "output_type": "stream",
     "text": [
      "\n",
      "      Epoch    GPU_mem   box_loss   cls_loss   dfl_loss  Instances       Size\n"
     ]
    },
    {
     "name": "stderr",
     "output_type": "stream",
     "text": [
      "     41/100      47.3G      2.295      1.815      2.863         14       1408: 100%|██████████| 140/140 [01:12<00:00,  1.94it/s]\n",
      "                 Class     Images  Instances      Box(P          R      mAP50  mAP50-95): 100%|██████████| 16/16 [00:04<00:00,  3.92it/s]"
     ]
    },
    {
     "name": "stdout",
     "output_type": "stream",
     "text": [
      "                   all        241        406        0.9      0.819      0.914      0.562\n"
     ]
    },
    {
     "name": "stderr",
     "output_type": "stream",
     "text": [
      "\n"
     ]
    },
    {
     "name": "stdout",
     "output_type": "stream",
     "text": [
      "\n",
      "      Epoch    GPU_mem   box_loss   cls_loss   dfl_loss  Instances       Size\n"
     ]
    },
    {
     "name": "stderr",
     "output_type": "stream",
     "text": [
      "     42/100      47.3G      2.253      1.736      2.849         12       1408: 100%|██████████| 140/140 [01:12<00:00,  1.94it/s]\n",
      "                 Class     Images  Instances      Box(P          R      mAP50  mAP50-95): 100%|██████████| 16/16 [00:04<00:00,  3.91it/s]"
     ]
    },
    {
     "name": "stdout",
     "output_type": "stream",
     "text": [
      "                   all        241        406      0.867      0.867      0.922      0.554\n"
     ]
    },
    {
     "name": "stderr",
     "output_type": "stream",
     "text": [
      "\n"
     ]
    },
    {
     "name": "stdout",
     "output_type": "stream",
     "text": [
      "\n",
      "      Epoch    GPU_mem   box_loss   cls_loss   dfl_loss  Instances       Size\n"
     ]
    },
    {
     "name": "stderr",
     "output_type": "stream",
     "text": [
      "     43/100      47.3G      2.217      1.713      2.828         13       1408: 100%|██████████| 140/140 [01:12<00:00,  1.94it/s]\n",
      "                 Class     Images  Instances      Box(P          R      mAP50  mAP50-95): 100%|██████████| 16/16 [00:04<00:00,  3.92it/s]"
     ]
    },
    {
     "name": "stdout",
     "output_type": "stream",
     "text": [
      "                   all        241        406      0.869       0.84      0.916      0.551\n"
     ]
    },
    {
     "name": "stderr",
     "output_type": "stream",
     "text": [
      "\n"
     ]
    },
    {
     "name": "stdout",
     "output_type": "stream",
     "text": [
      "\n",
      "      Epoch    GPU_mem   box_loss   cls_loss   dfl_loss  Instances       Size\n"
     ]
    },
    {
     "name": "stderr",
     "output_type": "stream",
     "text": [
      "     44/100      47.3G       2.19       1.73      2.805         18       1408: 100%|██████████| 140/140 [01:12<00:00,  1.94it/s]\n",
      "                 Class     Images  Instances      Box(P          R      mAP50  mAP50-95): 100%|██████████| 16/16 [00:04<00:00,  3.92it/s]"
     ]
    },
    {
     "name": "stdout",
     "output_type": "stream",
     "text": [
      "                   all        241        406      0.916      0.828       0.92      0.555\n"
     ]
    },
    {
     "name": "stderr",
     "output_type": "stream",
     "text": [
      "\n"
     ]
    },
    {
     "name": "stdout",
     "output_type": "stream",
     "text": [
      "\n",
      "      Epoch    GPU_mem   box_loss   cls_loss   dfl_loss  Instances       Size\n"
     ]
    },
    {
     "name": "stderr",
     "output_type": "stream",
     "text": [
      "     45/100      47.3G      2.216      1.751       2.81         15       1408: 100%|██████████| 140/140 [01:12<00:00,  1.94it/s]\n",
      "                 Class     Images  Instances      Box(P          R      mAP50  mAP50-95): 100%|██████████| 16/16 [00:04<00:00,  3.92it/s]"
     ]
    },
    {
     "name": "stdout",
     "output_type": "stream",
     "text": [
      "                   all        241        406      0.911      0.821      0.918      0.569\n"
     ]
    },
    {
     "name": "stderr",
     "output_type": "stream",
     "text": [
      "\n"
     ]
    },
    {
     "name": "stdout",
     "output_type": "stream",
     "text": [
      "\n",
      "      Epoch    GPU_mem   box_loss   cls_loss   dfl_loss  Instances       Size\n"
     ]
    },
    {
     "name": "stderr",
     "output_type": "stream",
     "text": [
      "     46/100      47.3G      2.213      1.699      2.793         11       1408: 100%|██████████| 140/140 [01:12<00:00,  1.94it/s]\n",
      "                 Class     Images  Instances      Box(P          R      mAP50  mAP50-95): 100%|██████████| 16/16 [00:04<00:00,  3.92it/s]"
     ]
    },
    {
     "name": "stdout",
     "output_type": "stream",
     "text": [
      "                   all        241        406      0.886      0.819      0.916      0.561\n"
     ]
    },
    {
     "name": "stderr",
     "output_type": "stream",
     "text": [
      "\n"
     ]
    },
    {
     "name": "stdout",
     "output_type": "stream",
     "text": [
      "\n",
      "      Epoch    GPU_mem   box_loss   cls_loss   dfl_loss  Instances       Size\n"
     ]
    },
    {
     "name": "stderr",
     "output_type": "stream",
     "text": [
      "     47/100      47.3G      2.155      1.657      2.735         13       1408: 100%|██████████| 140/140 [01:12<00:00,  1.94it/s]\n",
      "                 Class     Images  Instances      Box(P          R      mAP50  mAP50-95): 100%|██████████| 16/16 [00:04<00:00,  3.91it/s]"
     ]
    },
    {
     "name": "stdout",
     "output_type": "stream",
     "text": [
      "                   all        241        406      0.888      0.792      0.908      0.549\n"
     ]
    },
    {
     "name": "stderr",
     "output_type": "stream",
     "text": [
      "\n"
     ]
    },
    {
     "name": "stdout",
     "output_type": "stream",
     "text": [
      "\n",
      "      Epoch    GPU_mem   box_loss   cls_loss   dfl_loss  Instances       Size\n"
     ]
    },
    {
     "name": "stderr",
     "output_type": "stream",
     "text": [
      "     48/100      47.3G      2.226      1.664      2.802          7       1408: 100%|██████████| 140/140 [01:12<00:00,  1.94it/s]\n",
      "                 Class     Images  Instances      Box(P          R      mAP50  mAP50-95): 100%|██████████| 16/16 [00:04<00:00,  3.92it/s]"
     ]
    },
    {
     "name": "stdout",
     "output_type": "stream",
     "text": [
      "                   all        241        406       0.86      0.823      0.912      0.555\n"
     ]
    },
    {
     "name": "stderr",
     "output_type": "stream",
     "text": [
      "\n"
     ]
    },
    {
     "name": "stdout",
     "output_type": "stream",
     "text": [
      "\n",
      "      Epoch    GPU_mem   box_loss   cls_loss   dfl_loss  Instances       Size\n"
     ]
    },
    {
     "name": "stderr",
     "output_type": "stream",
     "text": [
      "     49/100      47.3G       2.19      1.667      2.758         10       1408: 100%|██████████| 140/140 [01:12<00:00,  1.94it/s]\n",
      "                 Class     Images  Instances      Box(P          R      mAP50  mAP50-95): 100%|██████████| 16/16 [00:04<00:00,  3.92it/s]"
     ]
    },
    {
     "name": "stdout",
     "output_type": "stream",
     "text": [
      "                   all        241        406      0.901      0.818      0.915       0.56\n"
     ]
    },
    {
     "name": "stderr",
     "output_type": "stream",
     "text": [
      "\n"
     ]
    },
    {
     "name": "stdout",
     "output_type": "stream",
     "text": [
      "\n",
      "      Epoch    GPU_mem   box_loss   cls_loss   dfl_loss  Instances       Size\n"
     ]
    },
    {
     "name": "stderr",
     "output_type": "stream",
     "text": [
      "     50/100      47.3G      2.196      1.684      2.778         12       1408: 100%|██████████| 140/140 [01:12<00:00,  1.94it/s]\n",
      "                 Class     Images  Instances      Box(P          R      mAP50  mAP50-95): 100%|██████████| 16/16 [00:04<00:00,  3.92it/s]"
     ]
    },
    {
     "name": "stdout",
     "output_type": "stream",
     "text": [
      "                   all        241        406      0.891      0.853      0.924      0.569\n"
     ]
    },
    {
     "name": "stderr",
     "output_type": "stream",
     "text": [
      "\n"
     ]
    },
    {
     "name": "stdout",
     "output_type": "stream",
     "text": [
      "\n",
      "      Epoch    GPU_mem   box_loss   cls_loss   dfl_loss  Instances       Size\n"
     ]
    },
    {
     "name": "stderr",
     "output_type": "stream",
     "text": [
      "     51/100      47.3G      2.137      1.651      2.736         11       1408: 100%|██████████| 140/140 [01:12<00:00,  1.94it/s]\n",
      "                 Class     Images  Instances      Box(P          R      mAP50  mAP50-95): 100%|██████████| 16/16 [00:04<00:00,  3.92it/s]"
     ]
    },
    {
     "name": "stdout",
     "output_type": "stream",
     "text": [
      "                   all        241        406        0.9      0.843      0.931      0.567\n"
     ]
    },
    {
     "name": "stderr",
     "output_type": "stream",
     "text": [
      "\n"
     ]
    },
    {
     "name": "stdout",
     "output_type": "stream",
     "text": [
      "\n",
      "      Epoch    GPU_mem   box_loss   cls_loss   dfl_loss  Instances       Size\n"
     ]
    },
    {
     "name": "stderr",
     "output_type": "stream",
     "text": [
      "     52/100      47.3G      2.139      1.641      2.739         11       1408: 100%|██████████| 140/140 [01:12<00:00,  1.93it/s]\n",
      "                 Class     Images  Instances      Box(P          R      mAP50  mAP50-95): 100%|██████████| 16/16 [00:04<00:00,  3.91it/s]"
     ]
    },
    {
     "name": "stdout",
     "output_type": "stream",
     "text": [
      "                   all        241        406      0.868      0.873      0.927      0.562\n"
     ]
    },
    {
     "name": "stderr",
     "output_type": "stream",
     "text": [
      "\n"
     ]
    },
    {
     "name": "stdout",
     "output_type": "stream",
     "text": [
      "\n",
      "      Epoch    GPU_mem   box_loss   cls_loss   dfl_loss  Instances       Size\n"
     ]
    },
    {
     "name": "stderr",
     "output_type": "stream",
     "text": [
      "     53/100      47.3G      2.175      1.602      2.761         12       1408: 100%|██████████| 140/140 [01:11<00:00,  1.95it/s]\n",
      "                 Class     Images  Instances      Box(P          R      mAP50  mAP50-95): 100%|██████████| 16/16 [00:04<00:00,  3.91it/s]"
     ]
    },
    {
     "name": "stdout",
     "output_type": "stream",
     "text": [
      "                   all        241        406      0.901      0.823      0.923      0.568\n"
     ]
    },
    {
     "name": "stderr",
     "output_type": "stream",
     "text": [
      "\n"
     ]
    },
    {
     "name": "stdout",
     "output_type": "stream",
     "text": [
      "\n",
      "      Epoch    GPU_mem   box_loss   cls_loss   dfl_loss  Instances       Size\n"
     ]
    },
    {
     "name": "stderr",
     "output_type": "stream",
     "text": [
      "     54/100      47.3G      2.175      1.563      2.759          8       1408: 100%|██████████| 140/140 [01:11<00:00,  1.95it/s]\n",
      "                 Class     Images  Instances      Box(P          R      mAP50  mAP50-95): 100%|██████████| 16/16 [00:04<00:00,  3.91it/s]"
     ]
    },
    {
     "name": "stdout",
     "output_type": "stream",
     "text": [
      "                   all        241        406      0.907      0.816      0.916      0.571\n"
     ]
    },
    {
     "name": "stderr",
     "output_type": "stream",
     "text": [
      "\n"
     ]
    },
    {
     "name": "stdout",
     "output_type": "stream",
     "text": [
      "\n",
      "      Epoch    GPU_mem   box_loss   cls_loss   dfl_loss  Instances       Size\n"
     ]
    },
    {
     "name": "stderr",
     "output_type": "stream",
     "text": [
      "     55/100      47.3G      2.172      1.591      2.738          9       1408: 100%|██████████| 140/140 [01:11<00:00,  1.95it/s]\n",
      "                 Class     Images  Instances      Box(P          R      mAP50  mAP50-95): 100%|██████████| 16/16 [00:04<00:00,  3.89it/s]"
     ]
    },
    {
     "name": "stdout",
     "output_type": "stream",
     "text": [
      "                   all        241        406      0.868      0.863      0.932      0.586\n"
     ]
    },
    {
     "name": "stderr",
     "output_type": "stream",
     "text": [
      "\n"
     ]
    },
    {
     "name": "stdout",
     "output_type": "stream",
     "text": [
      "\n",
      "      Epoch    GPU_mem   box_loss   cls_loss   dfl_loss  Instances       Size\n"
     ]
    },
    {
     "name": "stderr",
     "output_type": "stream",
     "text": [
      "     56/100      47.3G      2.101      1.529      2.687         11       1408: 100%|██████████| 140/140 [01:11<00:00,  1.95it/s]\n",
      "                 Class     Images  Instances      Box(P          R      mAP50  mAP50-95): 100%|██████████| 16/16 [00:04<00:00,  3.92it/s]"
     ]
    },
    {
     "name": "stdout",
     "output_type": "stream",
     "text": [
      "                   all        241        406      0.869      0.881      0.931      0.584\n"
     ]
    },
    {
     "name": "stderr",
     "output_type": "stream",
     "text": [
      "\n"
     ]
    },
    {
     "name": "stdout",
     "output_type": "stream",
     "text": [
      "\n",
      "      Epoch    GPU_mem   box_loss   cls_loss   dfl_loss  Instances       Size\n"
     ]
    },
    {
     "name": "stderr",
     "output_type": "stream",
     "text": [
      "     57/100      47.3G      2.149       1.56      2.715         12       1408: 100%|██████████| 140/140 [01:12<00:00,  1.94it/s]\n",
      "                 Class     Images  Instances      Box(P          R      mAP50  mAP50-95): 100%|██████████| 16/16 [00:04<00:00,  3.92it/s]"
     ]
    },
    {
     "name": "stdout",
     "output_type": "stream",
     "text": [
      "                   all        241        406      0.865      0.818      0.925      0.563\n"
     ]
    },
    {
     "name": "stderr",
     "output_type": "stream",
     "text": [
      "\n"
     ]
    },
    {
     "name": "stdout",
     "output_type": "stream",
     "text": [
      "\n",
      "      Epoch    GPU_mem   box_loss   cls_loss   dfl_loss  Instances       Size\n"
     ]
    },
    {
     "name": "stderr",
     "output_type": "stream",
     "text": [
      "     58/100      47.3G      2.116      1.516      2.742          6       1408: 100%|██████████| 140/140 [01:11<00:00,  1.95it/s]\n",
      "                 Class     Images  Instances      Box(P          R      mAP50  mAP50-95): 100%|██████████| 16/16 [00:04<00:00,  3.92it/s]"
     ]
    },
    {
     "name": "stdout",
     "output_type": "stream",
     "text": [
      "                   all        241        406      0.926       0.85      0.933      0.589\n"
     ]
    },
    {
     "name": "stderr",
     "output_type": "stream",
     "text": [
      "\n"
     ]
    },
    {
     "name": "stdout",
     "output_type": "stream",
     "text": [
      "\n",
      "      Epoch    GPU_mem   box_loss   cls_loss   dfl_loss  Instances       Size\n"
     ]
    },
    {
     "name": "stderr",
     "output_type": "stream",
     "text": [
      "     59/100      47.3G      2.145      1.614      2.717         16       1408: 100%|██████████| 140/140 [01:12<00:00,  1.94it/s]\n",
      "                 Class     Images  Instances      Box(P          R      mAP50  mAP50-95): 100%|██████████| 16/16 [00:04<00:00,  3.91it/s]"
     ]
    },
    {
     "name": "stdout",
     "output_type": "stream",
     "text": [
      "                   all        241        406      0.884      0.845      0.914       0.57\n"
     ]
    },
    {
     "name": "stderr",
     "output_type": "stream",
     "text": [
      "\n"
     ]
    },
    {
     "name": "stdout",
     "output_type": "stream",
     "text": [
      "\n",
      "      Epoch    GPU_mem   box_loss   cls_loss   dfl_loss  Instances       Size\n"
     ]
    },
    {
     "name": "stderr",
     "output_type": "stream",
     "text": [
      "     60/100      47.3G       2.15      1.519      2.694         12       1408: 100%|██████████| 140/140 [01:12<00:00,  1.94it/s]\n",
      "                 Class     Images  Instances      Box(P          R      mAP50  mAP50-95): 100%|██████████| 16/16 [00:04<00:00,  3.92it/s]"
     ]
    },
    {
     "name": "stdout",
     "output_type": "stream",
     "text": [
      "                   all        241        406       0.81      0.868      0.918      0.576\n"
     ]
    },
    {
     "name": "stderr",
     "output_type": "stream",
     "text": [
      "\n"
     ]
    },
    {
     "name": "stdout",
     "output_type": "stream",
     "text": [
      "\n",
      "      Epoch    GPU_mem   box_loss   cls_loss   dfl_loss  Instances       Size\n"
     ]
    },
    {
     "name": "stderr",
     "output_type": "stream",
     "text": [
      "     61/100      47.3G       2.07      1.519      2.645         13       1408: 100%|██████████| 140/140 [01:12<00:00,  1.94it/s]\n",
      "                 Class     Images  Instances      Box(P          R      mAP50  mAP50-95): 100%|██████████| 16/16 [00:04<00:00,  3.92it/s]"
     ]
    },
    {
     "name": "stdout",
     "output_type": "stream",
     "text": [
      "                   all        241        406      0.887      0.838      0.919      0.583\n"
     ]
    },
    {
     "name": "stderr",
     "output_type": "stream",
     "text": [
      "\n"
     ]
    },
    {
     "name": "stdout",
     "output_type": "stream",
     "text": [
      "\n",
      "      Epoch    GPU_mem   box_loss   cls_loss   dfl_loss  Instances       Size\n"
     ]
    },
    {
     "name": "stderr",
     "output_type": "stream",
     "text": [
      "     62/100      47.3G      2.103      1.512      2.699         13       1408: 100%|██████████| 140/140 [01:12<00:00,  1.94it/s]\n",
      "                 Class     Images  Instances      Box(P          R      mAP50  mAP50-95): 100%|██████████| 16/16 [00:04<00:00,  3.92it/s]"
     ]
    },
    {
     "name": "stdout",
     "output_type": "stream",
     "text": [
      "                   all        241        406       0.89      0.859      0.922      0.575\n"
     ]
    },
    {
     "name": "stderr",
     "output_type": "stream",
     "text": [
      "\n"
     ]
    },
    {
     "name": "stdout",
     "output_type": "stream",
     "text": [
      "\n",
      "      Epoch    GPU_mem   box_loss   cls_loss   dfl_loss  Instances       Size\n"
     ]
    },
    {
     "name": "stderr",
     "output_type": "stream",
     "text": [
      "     63/100      47.3G      2.102      1.523      2.693          9       1408: 100%|██████████| 140/140 [01:12<00:00,  1.94it/s]\n",
      "                 Class     Images  Instances      Box(P          R      mAP50  mAP50-95): 100%|██████████| 16/16 [00:04<00:00,  3.91it/s]"
     ]
    },
    {
     "name": "stdout",
     "output_type": "stream",
     "text": [
      "                   all        241        406      0.888      0.843      0.933       0.58\n"
     ]
    },
    {
     "name": "stderr",
     "output_type": "stream",
     "text": [
      "\n"
     ]
    },
    {
     "name": "stdout",
     "output_type": "stream",
     "text": [
      "\n",
      "      Epoch    GPU_mem   box_loss   cls_loss   dfl_loss  Instances       Size\n"
     ]
    },
    {
     "name": "stderr",
     "output_type": "stream",
     "text": [
      "     64/100      47.3G      2.102      1.507      2.665         11       1408: 100%|██████████| 140/140 [01:12<00:00,  1.93it/s]\n",
      "                 Class     Images  Instances      Box(P          R      mAP50  mAP50-95): 100%|██████████| 16/16 [00:04<00:00,  3.93it/s]"
     ]
    },
    {
     "name": "stdout",
     "output_type": "stream",
     "text": [
      "                   all        241        406      0.914      0.831      0.927      0.586\n"
     ]
    },
    {
     "name": "stderr",
     "output_type": "stream",
     "text": [
      "\n"
     ]
    },
    {
     "name": "stdout",
     "output_type": "stream",
     "text": [
      "\n",
      "      Epoch    GPU_mem   box_loss   cls_loss   dfl_loss  Instances       Size\n"
     ]
    },
    {
     "name": "stderr",
     "output_type": "stream",
     "text": [
      "     65/100      47.3G      2.071      1.462      2.661         12       1408: 100%|██████████| 140/140 [01:12<00:00,  1.94it/s]\n",
      "                 Class     Images  Instances      Box(P          R      mAP50  mAP50-95): 100%|██████████| 16/16 [00:04<00:00,  3.91it/s]"
     ]
    },
    {
     "name": "stdout",
     "output_type": "stream",
     "text": [
      "                   all        241        406      0.842      0.859      0.906      0.574\n"
     ]
    },
    {
     "name": "stderr",
     "output_type": "stream",
     "text": [
      "\n"
     ]
    },
    {
     "name": "stdout",
     "output_type": "stream",
     "text": [
      "\n",
      "      Epoch    GPU_mem   box_loss   cls_loss   dfl_loss  Instances       Size\n"
     ]
    },
    {
     "name": "stderr",
     "output_type": "stream",
     "text": [
      "     66/100      47.3G      2.048      1.481      2.637         18       1408: 100%|██████████| 140/140 [01:12<00:00,  1.94it/s]\n",
      "                 Class     Images  Instances      Box(P          R      mAP50  mAP50-95): 100%|██████████| 16/16 [00:04<00:00,  3.92it/s]"
     ]
    },
    {
     "name": "stdout",
     "output_type": "stream",
     "text": [
      "                   all        241        406      0.916      0.859      0.934      0.585\n"
     ]
    },
    {
     "name": "stderr",
     "output_type": "stream",
     "text": [
      "\n"
     ]
    },
    {
     "name": "stdout",
     "output_type": "stream",
     "text": [
      "\n",
      "      Epoch    GPU_mem   box_loss   cls_loss   dfl_loss  Instances       Size\n"
     ]
    },
    {
     "name": "stderr",
     "output_type": "stream",
     "text": [
      "     67/100      47.3G      2.051      1.469       2.63         12       1408: 100%|██████████| 140/140 [01:12<00:00,  1.94it/s]\n",
      "                 Class     Images  Instances      Box(P          R      mAP50  mAP50-95): 100%|██████████| 16/16 [00:04<00:00,  3.92it/s]"
     ]
    },
    {
     "name": "stdout",
     "output_type": "stream",
     "text": [
      "                   all        241        406      0.901      0.866      0.933      0.591\n"
     ]
    },
    {
     "name": "stderr",
     "output_type": "stream",
     "text": [
      "\n"
     ]
    },
    {
     "name": "stdout",
     "output_type": "stream",
     "text": [
      "\n",
      "      Epoch    GPU_mem   box_loss   cls_loss   dfl_loss  Instances       Size\n"
     ]
    },
    {
     "name": "stderr",
     "output_type": "stream",
     "text": [
      "     68/100      47.3G      2.031      1.476      2.645         15       1408: 100%|██████████| 140/140 [01:12<00:00,  1.93it/s]\n",
      "                 Class     Images  Instances      Box(P          R      mAP50  mAP50-95): 100%|██████████| 16/16 [00:04<00:00,  3.91it/s]"
     ]
    },
    {
     "name": "stdout",
     "output_type": "stream",
     "text": [
      "                   all        241        406      0.902      0.834      0.927      0.587\n"
     ]
    },
    {
     "name": "stderr",
     "output_type": "stream",
     "text": [
      "\n"
     ]
    },
    {
     "name": "stdout",
     "output_type": "stream",
     "text": [
      "\n",
      "      Epoch    GPU_mem   box_loss   cls_loss   dfl_loss  Instances       Size\n"
     ]
    },
    {
     "name": "stderr",
     "output_type": "stream",
     "text": [
      "     69/100      47.3G      2.073      1.478      2.678         12       1408: 100%|██████████| 140/140 [01:12<00:00,  1.94it/s]\n",
      "                 Class     Images  Instances      Box(P          R      mAP50  mAP50-95): 100%|██████████| 16/16 [00:04<00:00,  3.91it/s]"
     ]
    },
    {
     "name": "stdout",
     "output_type": "stream",
     "text": [
      "                   all        241        406      0.879      0.868      0.928      0.587\n"
     ]
    },
    {
     "name": "stderr",
     "output_type": "stream",
     "text": [
      "\n"
     ]
    },
    {
     "name": "stdout",
     "output_type": "stream",
     "text": [
      "\n",
      "      Epoch    GPU_mem   box_loss   cls_loss   dfl_loss  Instances       Size\n"
     ]
    },
    {
     "name": "stderr",
     "output_type": "stream",
     "text": [
      "     70/100      47.3G       2.02      1.444      2.611         12       1408: 100%|██████████| 140/140 [01:12<00:00,  1.94it/s]\n",
      "                 Class     Images  Instances      Box(P          R      mAP50  mAP50-95): 100%|██████████| 16/16 [00:04<00:00,  3.91it/s]"
     ]
    },
    {
     "name": "stdout",
     "output_type": "stream",
     "text": [
      "                   all        241        406      0.918      0.845      0.934      0.601\n"
     ]
    },
    {
     "name": "stderr",
     "output_type": "stream",
     "text": [
      "\n"
     ]
    },
    {
     "name": "stdout",
     "output_type": "stream",
     "text": [
      "\n",
      "      Epoch    GPU_mem   box_loss   cls_loss   dfl_loss  Instances       Size\n"
     ]
    },
    {
     "name": "stderr",
     "output_type": "stream",
     "text": [
      "     71/100      47.3G      2.031      1.438       2.64         11       1408: 100%|██████████| 140/140 [01:12<00:00,  1.94it/s]\n",
      "                 Class     Images  Instances      Box(P          R      mAP50  mAP50-95): 100%|██████████| 16/16 [00:04<00:00,  3.91it/s]"
     ]
    },
    {
     "name": "stdout",
     "output_type": "stream",
     "text": [
      "                   all        241        406      0.903      0.821      0.918      0.581\n"
     ]
    },
    {
     "name": "stderr",
     "output_type": "stream",
     "text": [
      "\n"
     ]
    },
    {
     "name": "stdout",
     "output_type": "stream",
     "text": [
      "\n",
      "      Epoch    GPU_mem   box_loss   cls_loss   dfl_loss  Instances       Size\n"
     ]
    },
    {
     "name": "stderr",
     "output_type": "stream",
     "text": [
      "     72/100      47.3G      2.052      1.451      2.636          7       1408: 100%|██████████| 140/140 [01:12<00:00,  1.93it/s]\n",
      "                 Class     Images  Instances      Box(P          R      mAP50  mAP50-95): 100%|██████████| 16/16 [00:04<00:00,  3.90it/s]"
     ]
    },
    {
     "name": "stdout",
     "output_type": "stream",
     "text": [
      "                   all        241        406      0.893      0.842      0.928      0.598\n"
     ]
    },
    {
     "name": "stderr",
     "output_type": "stream",
     "text": [
      "\n"
     ]
    },
    {
     "name": "stdout",
     "output_type": "stream",
     "text": [
      "\n",
      "      Epoch    GPU_mem   box_loss   cls_loss   dfl_loss  Instances       Size\n"
     ]
    },
    {
     "name": "stderr",
     "output_type": "stream",
     "text": [
      "     73/100      47.3G      1.993      1.461      2.629         10       1408: 100%|██████████| 140/140 [01:12<00:00,  1.94it/s]\n",
      "                 Class     Images  Instances      Box(P          R      mAP50  mAP50-95): 100%|██████████| 16/16 [00:04<00:00,  3.91it/s]"
     ]
    },
    {
     "name": "stdout",
     "output_type": "stream",
     "text": [
      "                   all        241        406      0.866      0.831      0.917      0.591\n"
     ]
    },
    {
     "name": "stderr",
     "output_type": "stream",
     "text": [
      "\n"
     ]
    },
    {
     "name": "stdout",
     "output_type": "stream",
     "text": [
      "\n",
      "      Epoch    GPU_mem   box_loss   cls_loss   dfl_loss  Instances       Size\n"
     ]
    },
    {
     "name": "stderr",
     "output_type": "stream",
     "text": [
      "     74/100      47.3G      2.007      1.405      2.616         10       1408: 100%|██████████| 140/140 [01:12<00:00,  1.94it/s]\n",
      "                 Class     Images  Instances      Box(P          R      mAP50  mAP50-95): 100%|██████████| 16/16 [00:04<00:00,  3.92it/s]"
     ]
    },
    {
     "name": "stdout",
     "output_type": "stream",
     "text": [
      "                   all        241        406      0.858      0.876      0.929      0.593\n"
     ]
    },
    {
     "name": "stderr",
     "output_type": "stream",
     "text": [
      "\n"
     ]
    },
    {
     "name": "stdout",
     "output_type": "stream",
     "text": [
      "\n",
      "      Epoch    GPU_mem   box_loss   cls_loss   dfl_loss  Instances       Size\n"
     ]
    },
    {
     "name": "stderr",
     "output_type": "stream",
     "text": [
      "     75/100      47.3G      1.994      1.413      2.611         15       1408: 100%|██████████| 140/140 [01:12<00:00,  1.94it/s]\n",
      "                 Class     Images  Instances      Box(P          R      mAP50  mAP50-95): 100%|██████████| 16/16 [00:04<00:00,  3.92it/s]"
     ]
    },
    {
     "name": "stdout",
     "output_type": "stream",
     "text": [
      "                   all        241        406      0.877      0.862       0.93      0.576\n"
     ]
    },
    {
     "name": "stderr",
     "output_type": "stream",
     "text": [
      "\n"
     ]
    },
    {
     "name": "stdout",
     "output_type": "stream",
     "text": [
      "\n",
      "      Epoch    GPU_mem   box_loss   cls_loss   dfl_loss  Instances       Size\n"
     ]
    },
    {
     "name": "stderr",
     "output_type": "stream",
     "text": [
      "     76/100      47.3G      2.029       1.41      2.608         17       1408: 100%|██████████| 140/140 [01:12<00:00,  1.93it/s]\n",
      "                 Class     Images  Instances      Box(P          R      mAP50  mAP50-95): 100%|██████████| 16/16 [00:04<00:00,  3.91it/s]"
     ]
    },
    {
     "name": "stdout",
     "output_type": "stream",
     "text": [
      "                   all        241        406       0.87      0.855      0.921       0.59\n"
     ]
    },
    {
     "name": "stderr",
     "output_type": "stream",
     "text": [
      "\n"
     ]
    },
    {
     "name": "stdout",
     "output_type": "stream",
     "text": [
      "\n",
      "      Epoch    GPU_mem   box_loss   cls_loss   dfl_loss  Instances       Size\n"
     ]
    },
    {
     "name": "stderr",
     "output_type": "stream",
     "text": [
      "     77/100      47.3G      2.025      1.405      2.615          5       1408: 100%|██████████| 140/140 [01:12<00:00,  1.94it/s]\n",
      "                 Class     Images  Instances      Box(P          R      mAP50  mAP50-95): 100%|██████████| 16/16 [00:04<00:00,  3.92it/s]"
     ]
    },
    {
     "name": "stdout",
     "output_type": "stream",
     "text": [
      "                   all        241        406      0.888      0.873      0.932      0.595\n"
     ]
    },
    {
     "name": "stderr",
     "output_type": "stream",
     "text": [
      "\n"
     ]
    },
    {
     "name": "stdout",
     "output_type": "stream",
     "text": [
      "\n",
      "      Epoch    GPU_mem   box_loss   cls_loss   dfl_loss  Instances       Size\n"
     ]
    },
    {
     "name": "stderr",
     "output_type": "stream",
     "text": [
      "     78/100      47.3G      1.983       1.37      2.609          5       1408: 100%|██████████| 140/140 [01:12<00:00,  1.94it/s]\n",
      "                 Class     Images  Instances      Box(P          R      mAP50  mAP50-95): 100%|██████████| 16/16 [00:04<00:00,  3.92it/s]"
     ]
    },
    {
     "name": "stdout",
     "output_type": "stream",
     "text": [
      "                   all        241        406      0.926      0.858      0.933      0.603\n"
     ]
    },
    {
     "name": "stderr",
     "output_type": "stream",
     "text": [
      "\n"
     ]
    },
    {
     "name": "stdout",
     "output_type": "stream",
     "text": [
      "\n",
      "      Epoch    GPU_mem   box_loss   cls_loss   dfl_loss  Instances       Size\n"
     ]
    },
    {
     "name": "stderr",
     "output_type": "stream",
     "text": [
      "     79/100      47.3G      1.972      1.394       2.58          8       1408: 100%|██████████| 140/140 [01:12<00:00,  1.94it/s]\n",
      "                 Class     Images  Instances      Box(P          R      mAP50  mAP50-95): 100%|██████████| 16/16 [00:04<00:00,  3.91it/s]"
     ]
    },
    {
     "name": "stdout",
     "output_type": "stream",
     "text": [
      "                   all        241        406      0.869      0.898      0.932      0.601\n"
     ]
    },
    {
     "name": "stderr",
     "output_type": "stream",
     "text": [
      "\n"
     ]
    },
    {
     "name": "stdout",
     "output_type": "stream",
     "text": [
      "\n",
      "      Epoch    GPU_mem   box_loss   cls_loss   dfl_loss  Instances       Size\n"
     ]
    },
    {
     "name": "stderr",
     "output_type": "stream",
     "text": [
      "     80/100      47.3G      1.967      1.374      2.613         13       1408: 100%|██████████| 140/140 [01:12<00:00,  1.94it/s]\n",
      "                 Class     Images  Instances      Box(P          R      mAP50  mAP50-95): 100%|██████████| 16/16 [00:04<00:00,  3.92it/s]"
     ]
    },
    {
     "name": "stdout",
     "output_type": "stream",
     "text": [
      "                   all        241        406      0.879      0.835      0.918      0.585\n"
     ]
    },
    {
     "name": "stderr",
     "output_type": "stream",
     "text": [
      "\n"
     ]
    },
    {
     "name": "stdout",
     "output_type": "stream",
     "text": [
      "\n",
      "      Epoch    GPU_mem   box_loss   cls_loss   dfl_loss  Instances       Size\n"
     ]
    },
    {
     "name": "stderr",
     "output_type": "stream",
     "text": [
      "     81/100      47.3G      1.946      1.357      2.573         10       1408: 100%|██████████| 140/140 [01:12<00:00,  1.94it/s]\n",
      "                 Class     Images  Instances      Box(P          R      mAP50  mAP50-95): 100%|██████████| 16/16 [00:04<00:00,  3.92it/s]"
     ]
    },
    {
     "name": "stdout",
     "output_type": "stream",
     "text": [
      "                   all        241        406      0.896      0.891      0.933      0.595\n"
     ]
    },
    {
     "name": "stderr",
     "output_type": "stream",
     "text": [
      "\n"
     ]
    },
    {
     "name": "stdout",
     "output_type": "stream",
     "text": [
      "\n",
      "      Epoch    GPU_mem   box_loss   cls_loss   dfl_loss  Instances       Size\n"
     ]
    },
    {
     "name": "stderr",
     "output_type": "stream",
     "text": [
      "     82/100      47.3G      1.948      1.329      2.571          6       1408: 100%|██████████| 140/140 [01:11<00:00,  1.95it/s]\n",
      "                 Class     Images  Instances      Box(P          R      mAP50  mAP50-95): 100%|██████████| 16/16 [00:04<00:00,  3.92it/s]"
     ]
    },
    {
     "name": "stdout",
     "output_type": "stream",
     "text": [
      "                   all        241        406      0.905      0.844      0.932      0.589\n"
     ]
    },
    {
     "name": "stderr",
     "output_type": "stream",
     "text": [
      "\n"
     ]
    },
    {
     "name": "stdout",
     "output_type": "stream",
     "text": [
      "\n",
      "      Epoch    GPU_mem   box_loss   cls_loss   dfl_loss  Instances       Size\n"
     ]
    },
    {
     "name": "stderr",
     "output_type": "stream",
     "text": [
      "     83/100      47.3G      2.006      1.402      2.578         11       1408: 100%|██████████| 140/140 [01:12<00:00,  1.94it/s]\n",
      "                 Class     Images  Instances      Box(P          R      mAP50  mAP50-95): 100%|██████████| 16/16 [00:04<00:00,  3.92it/s]"
     ]
    },
    {
     "name": "stdout",
     "output_type": "stream",
     "text": [
      "                   all        241        406      0.897       0.87      0.934      0.598\n"
     ]
    },
    {
     "name": "stderr",
     "output_type": "stream",
     "text": [
      "\n"
     ]
    },
    {
     "name": "stdout",
     "output_type": "stream",
     "text": [
      "\n",
      "      Epoch    GPU_mem   box_loss   cls_loss   dfl_loss  Instances       Size\n"
     ]
    },
    {
     "name": "stderr",
     "output_type": "stream",
     "text": [
      "     84/100      47.3G      1.955      1.368      2.559         14       1408: 100%|██████████| 140/140 [01:12<00:00,  1.94it/s]\n",
      "                 Class     Images  Instances      Box(P          R      mAP50  mAP50-95): 100%|██████████| 16/16 [00:04<00:00,  3.92it/s]"
     ]
    },
    {
     "name": "stdout",
     "output_type": "stream",
     "text": [
      "                   all        241        406      0.885       0.89      0.939      0.599\n"
     ]
    },
    {
     "name": "stderr",
     "output_type": "stream",
     "text": [
      "\n"
     ]
    },
    {
     "name": "stdout",
     "output_type": "stream",
     "text": [
      "\n",
      "      Epoch    GPU_mem   box_loss   cls_loss   dfl_loss  Instances       Size\n"
     ]
    },
    {
     "name": "stderr",
     "output_type": "stream",
     "text": [
      "     85/100      47.3G      1.885      1.272      2.524         11       1408: 100%|██████████| 140/140 [01:12<00:00,  1.94it/s]\n",
      "                 Class     Images  Instances      Box(P          R      mAP50  mAP50-95): 100%|██████████| 16/16 [00:04<00:00,  3.92it/s]"
     ]
    },
    {
     "name": "stdout",
     "output_type": "stream",
     "text": [
      "                   all        241        406      0.891      0.858      0.932      0.594\n"
     ]
    },
    {
     "name": "stderr",
     "output_type": "stream",
     "text": [
      "\n"
     ]
    },
    {
     "name": "stdout",
     "output_type": "stream",
     "text": [
      "\n",
      "      Epoch    GPU_mem   box_loss   cls_loss   dfl_loss  Instances       Size\n"
     ]
    },
    {
     "name": "stderr",
     "output_type": "stream",
     "text": [
      "     86/100      47.3G      1.903      1.302      2.566          9       1408: 100%|██████████| 140/140 [01:11<00:00,  1.94it/s]\n",
      "                 Class     Images  Instances      Box(P          R      mAP50  mAP50-95): 100%|██████████| 16/16 [00:04<00:00,  3.92it/s]"
     ]
    },
    {
     "name": "stdout",
     "output_type": "stream",
     "text": [
      "                   all        241        406      0.887      0.879       0.93      0.594\n"
     ]
    },
    {
     "name": "stderr",
     "output_type": "stream",
     "text": [
      "\n"
     ]
    },
    {
     "name": "stdout",
     "output_type": "stream",
     "text": [
      "\n",
      "      Epoch    GPU_mem   box_loss   cls_loss   dfl_loss  Instances       Size\n"
     ]
    },
    {
     "name": "stderr",
     "output_type": "stream",
     "text": [
      "     87/100      47.3G      1.906      1.314      2.559         13       1408: 100%|██████████| 140/140 [01:12<00:00,  1.94it/s]\n",
      "                 Class     Images  Instances      Box(P          R      mAP50  mAP50-95): 100%|██████████| 16/16 [00:04<00:00,  3.91it/s]"
     ]
    },
    {
     "name": "stdout",
     "output_type": "stream",
     "text": [
      "                   all        241        406      0.885      0.879      0.927      0.593\n"
     ]
    },
    {
     "name": "stderr",
     "output_type": "stream",
     "text": [
      "\n"
     ]
    },
    {
     "name": "stdout",
     "output_type": "stream",
     "text": [
      "\n",
      "      Epoch    GPU_mem   box_loss   cls_loss   dfl_loss  Instances       Size\n"
     ]
    },
    {
     "name": "stderr",
     "output_type": "stream",
     "text": [
      "     88/100      47.3G      1.924      1.291      2.568         14       1408: 100%|██████████| 140/140 [01:12<00:00,  1.94it/s]\n",
      "                 Class     Images  Instances      Box(P          R      mAP50  mAP50-95): 100%|██████████| 16/16 [00:04<00:00,  3.91it/s]"
     ]
    },
    {
     "name": "stdout",
     "output_type": "stream",
     "text": [
      "                   all        241        406      0.874      0.891      0.929      0.599\n"
     ]
    },
    {
     "name": "stderr",
     "output_type": "stream",
     "text": [
      "\n"
     ]
    },
    {
     "name": "stdout",
     "output_type": "stream",
     "text": [
      "\n",
      "      Epoch    GPU_mem   box_loss   cls_loss   dfl_loss  Instances       Size\n"
     ]
    },
    {
     "name": "stderr",
     "output_type": "stream",
     "text": [
      "     89/100      47.3G      1.929      1.301      2.522         12       1408: 100%|██████████| 140/140 [01:12<00:00,  1.94it/s]\n",
      "                 Class     Images  Instances      Box(P          R      mAP50  mAP50-95): 100%|██████████| 16/16 [00:04<00:00,  3.91it/s]"
     ]
    },
    {
     "name": "stdout",
     "output_type": "stream",
     "text": [
      "                   all        241        406      0.905       0.88      0.937      0.603\n"
     ]
    },
    {
     "name": "stderr",
     "output_type": "stream",
     "text": [
      "\n"
     ]
    },
    {
     "name": "stdout",
     "output_type": "stream",
     "text": [
      "\n",
      "      Epoch    GPU_mem   box_loss   cls_loss   dfl_loss  Instances       Size\n"
     ]
    },
    {
     "name": "stderr",
     "output_type": "stream",
     "text": [
      "     90/100      47.3G      1.839      1.249      2.537         16       1408: 100%|██████████| 140/140 [01:12<00:00,  1.94it/s]\n",
      "                 Class     Images  Instances      Box(P          R      mAP50  mAP50-95): 100%|██████████| 16/16 [00:04<00:00,  3.92it/s]"
     ]
    },
    {
     "name": "stdout",
     "output_type": "stream",
     "text": [
      "                   all        241        406       0.91      0.875      0.937      0.608\n"
     ]
    },
    {
     "name": "stderr",
     "output_type": "stream",
     "text": [
      "\n"
     ]
    },
    {
     "name": "stdout",
     "output_type": "stream",
     "text": [
      "Closing dataloader mosaic\n",
      "\n",
      "      Epoch    GPU_mem   box_loss   cls_loss   dfl_loss  Instances       Size\n"
     ]
    },
    {
     "name": "stderr",
     "output_type": "stream",
     "text": [
      "     91/100      47.3G      2.459      1.109      2.323          4       1408: 100%|██████████| 140/140 [01:12<00:00,  1.93it/s]\n",
      "                 Class     Images  Instances      Box(P          R      mAP50  mAP50-95): 100%|██████████| 16/16 [00:04<00:00,  3.92it/s]"
     ]
    },
    {
     "name": "stdout",
     "output_type": "stream",
     "text": [
      "                   all        241        406      0.919      0.837      0.928      0.595\n"
     ]
    },
    {
     "name": "stderr",
     "output_type": "stream",
     "text": [
      "\n"
     ]
    },
    {
     "name": "stdout",
     "output_type": "stream",
     "text": [
      "\n",
      "      Epoch    GPU_mem   box_loss   cls_loss   dfl_loss  Instances       Size\n"
     ]
    },
    {
     "name": "stderr",
     "output_type": "stream",
     "text": [
      "     92/100      47.3G      2.463      1.056      2.234          5       1408: 100%|██████████| 140/140 [01:11<00:00,  1.95it/s]\n",
      "                 Class     Images  Instances      Box(P          R      mAP50  mAP50-95): 100%|██████████| 16/16 [00:04<00:00,  3.91it/s]"
     ]
    },
    {
     "name": "stdout",
     "output_type": "stream",
     "text": [
      "                   all        241        406      0.897      0.887      0.924      0.594\n"
     ]
    },
    {
     "name": "stderr",
     "output_type": "stream",
     "text": [
      "\n"
     ]
    },
    {
     "name": "stdout",
     "output_type": "stream",
     "text": [
      "\n",
      "      Epoch    GPU_mem   box_loss   cls_loss   dfl_loss  Instances       Size\n"
     ]
    },
    {
     "name": "stderr",
     "output_type": "stream",
     "text": [
      "     93/100      47.3G      2.415       1.03      2.204          5       1408: 100%|██████████| 140/140 [01:12<00:00,  1.94it/s]\n",
      "                 Class     Images  Instances      Box(P          R      mAP50  mAP50-95): 100%|██████████| 16/16 [00:04<00:00,  3.92it/s]"
     ]
    },
    {
     "name": "stdout",
     "output_type": "stream",
     "text": [
      "                   all        241        406      0.887      0.859      0.929      0.598\n"
     ]
    },
    {
     "name": "stderr",
     "output_type": "stream",
     "text": [
      "\n"
     ]
    },
    {
     "name": "stdout",
     "output_type": "stream",
     "text": [
      "\n",
      "      Epoch    GPU_mem   box_loss   cls_loss   dfl_loss  Instances       Size\n"
     ]
    },
    {
     "name": "stderr",
     "output_type": "stream",
     "text": [
      "     94/100      47.3G      2.399      1.004      2.214          5       1408: 100%|██████████| 140/140 [01:12<00:00,  1.94it/s]\n",
      "                 Class     Images  Instances      Box(P          R      mAP50  mAP50-95): 100%|██████████| 16/16 [00:04<00:00,  3.92it/s]"
     ]
    },
    {
     "name": "stdout",
     "output_type": "stream",
     "text": [
      "                   all        241        406      0.892      0.884      0.935      0.599\n"
     ]
    },
    {
     "name": "stderr",
     "output_type": "stream",
     "text": [
      "\n"
     ]
    },
    {
     "name": "stdout",
     "output_type": "stream",
     "text": [
      "\n",
      "      Epoch    GPU_mem   box_loss   cls_loss   dfl_loss  Instances       Size\n"
     ]
    },
    {
     "name": "stderr",
     "output_type": "stream",
     "text": [
      "     95/100      47.3G      2.354     0.9996      2.197          5       1408: 100%|██████████| 140/140 [01:12<00:00,  1.94it/s]\n",
      "                 Class     Images  Instances      Box(P          R      mAP50  mAP50-95): 100%|██████████| 16/16 [00:04<00:00,  3.92it/s]"
     ]
    },
    {
     "name": "stdout",
     "output_type": "stream",
     "text": [
      "                   all        241        406      0.905      0.861      0.929      0.596\n"
     ]
    },
    {
     "name": "stderr",
     "output_type": "stream",
     "text": [
      "\n"
     ]
    },
    {
     "name": "stdout",
     "output_type": "stream",
     "text": [
      "\n",
      "      Epoch    GPU_mem   box_loss   cls_loss   dfl_loss  Instances       Size\n"
     ]
    },
    {
     "name": "stderr",
     "output_type": "stream",
     "text": [
      "     96/100      47.3G      2.298     0.9675      2.191          5       1408: 100%|██████████| 140/140 [01:11<00:00,  1.95it/s]\n",
      "                 Class     Images  Instances      Box(P          R      mAP50  mAP50-95): 100%|██████████| 16/16 [00:04<00:00,  3.92it/s]"
     ]
    },
    {
     "name": "stdout",
     "output_type": "stream",
     "text": [
      "                   all        241        406       0.88      0.874      0.925      0.592\n"
     ]
    },
    {
     "name": "stderr",
     "output_type": "stream",
     "text": [
      "\n"
     ]
    },
    {
     "name": "stdout",
     "output_type": "stream",
     "text": [
      "\n",
      "      Epoch    GPU_mem   box_loss   cls_loss   dfl_loss  Instances       Size\n"
     ]
    },
    {
     "name": "stderr",
     "output_type": "stream",
     "text": [
      "     97/100      47.3G       2.38     0.9931      2.195          4       1408: 100%|██████████| 140/140 [01:11<00:00,  1.95it/s]\n",
      "                 Class     Images  Instances      Box(P          R      mAP50  mAP50-95): 100%|██████████| 16/16 [00:04<00:00,  3.92it/s]"
     ]
    },
    {
     "name": "stdout",
     "output_type": "stream",
     "text": [
      "                   all        241        406       0.91      0.857      0.928      0.597\n"
     ]
    },
    {
     "name": "stderr",
     "output_type": "stream",
     "text": [
      "\n"
     ]
    },
    {
     "name": "stdout",
     "output_type": "stream",
     "text": [
      "\n",
      "      Epoch    GPU_mem   box_loss   cls_loss   dfl_loss  Instances       Size\n"
     ]
    },
    {
     "name": "stderr",
     "output_type": "stream",
     "text": [
      "     98/100      47.3G      2.281     0.9535      2.185          6       1408: 100%|██████████| 140/140 [01:11<00:00,  1.95it/s]\n",
      "                 Class     Images  Instances      Box(P          R      mAP50  mAP50-95): 100%|██████████| 16/16 [00:04<00:00,  3.93it/s]"
     ]
    },
    {
     "name": "stdout",
     "output_type": "stream",
     "text": [
      "                   all        241        406      0.872      0.866      0.922      0.595\n"
     ]
    },
    {
     "name": "stderr",
     "output_type": "stream",
     "text": [
      "\n"
     ]
    },
    {
     "name": "stdout",
     "output_type": "stream",
     "text": [
      "\n",
      "      Epoch    GPU_mem   box_loss   cls_loss   dfl_loss  Instances       Size\n"
     ]
    },
    {
     "name": "stderr",
     "output_type": "stream",
     "text": [
      "     99/100      47.3G      2.377     0.9696      2.173          4       1408: 100%|██████████| 140/140 [01:11<00:00,  1.95it/s]\n",
      "                 Class     Images  Instances      Box(P          R      mAP50  mAP50-95): 100%|██████████| 16/16 [00:04<00:00,  3.92it/s]"
     ]
    },
    {
     "name": "stdout",
     "output_type": "stream",
     "text": [
      "                   all        241        406       0.89      0.863      0.919      0.595\n"
     ]
    },
    {
     "name": "stderr",
     "output_type": "stream",
     "text": [
      "\n"
     ]
    },
    {
     "name": "stdout",
     "output_type": "stream",
     "text": [
      "\n",
      "      Epoch    GPU_mem   box_loss   cls_loss   dfl_loss  Instances       Size\n"
     ]
    },
    {
     "name": "stderr",
     "output_type": "stream",
     "text": [
      "    100/100      47.3G      2.242     0.9302      2.158          5       1408: 100%|██████████| 140/140 [01:11<00:00,  1.95it/s]\n",
      "                 Class     Images  Instances      Box(P          R      mAP50  mAP50-95): 100%|██████████| 16/16 [00:04<00:00,  3.91it/s]"
     ]
    },
    {
     "name": "stdout",
     "output_type": "stream",
     "text": [
      "                   all        241        406      0.843      0.908      0.921      0.593\n"
     ]
    },
    {
     "name": "stderr",
     "output_type": "stream",
     "text": [
      "\n"
     ]
    },
    {
     "name": "stdout",
     "output_type": "stream",
     "text": [
      "\n",
      "100 epochs completed in 2.170 hours.\n",
      "Optimizer stripped from runs/detect/yolov10x_n1_n2_custom/weights/last.pt, 64.2MB\n",
      "Optimizer stripped from runs/detect/yolov10x_n1_n2_custom/weights/best.pt, 64.2MB\n",
      "\n",
      "Validating runs/detect/yolov10x_n1_n2_custom/weights/best.pt...\n",
      "Ultralytics 8.3.90 🚀 Python-3.12.3 torch-2.6.0+cu124 CUDA:0 (NVIDIA A100 80GB PCIe, 81038MiB)\n",
      "YOLOv10x summary (fused): 215 layers, 31,589,858 parameters, 0 gradients, 169.8 GFLOPs\n"
     ]
    },
    {
     "name": "stderr",
     "output_type": "stream",
     "text": [
      "                 Class     Images  Instances      Box(P          R      mAP50  mAP50-95): 100%|██████████| 16/16 [00:04<00:00,  3.90it/s]\n"
     ]
    },
    {
     "name": "stdout",
     "output_type": "stream",
     "text": [
      "                   all        241        406      0.908      0.875      0.937      0.608\n",
      "              Artifact         73         73      0.876       0.89      0.939      0.474\n",
      "                    N1        166        169      0.928      0.828      0.932      0.596\n",
      "                    N2        164        164       0.92      0.907      0.939      0.754\n",
      "Speed: 0.2ms preprocess, 14.3ms inference, 0.0ms loss, 0.1ms postprocess per image\n",
      "Results saved to \u001b[1mruns/detect/yolov10x_n1_n2_custom\u001b[0m\n",
      "WARNING ⚠️ updating to 'imgsz=1408'. 'train' and 'val' imgsz must be an integer, while 'predict' and 'export' imgsz may be a [h, w] list or an integer, i.e. 'yolo export imgsz=640,480' or 'yolo export imgsz=640'\n",
      "Ultralytics 8.3.90 🚀 Python-3.12.3 torch-2.6.0+cu124 CUDA:0 (NVIDIA A100 80GB PCIe, 81038MiB)\n",
      "YOLOv10x summary (fused): 215 layers, 31,589,858 parameters, 0 gradients, 169.8 GFLOPs\n"
     ]
    },
    {
     "name": "stderr",
     "output_type": "stream",
     "text": [
      "\u001b[34m\u001b[1mval: \u001b[0mScanning /data/user/home/sahaj432/Desktop/NSPM_Lab/main_n_peak/code_v2/Dataset/n1_n2_new.v7i.yolov8/valid/labels.cache... 241 images, 0 backgrounds, 0 corrupt: 100%|██████████| 241/241 [00:00<?, ?it/s]\n",
      "                 Class     Images  Instances      Box(P          R      mAP50  mAP50-95): 100%|██████████| 31/31 [00:05<00:00,  5.26it/s]\n"
     ]
    },
    {
     "name": "stdout",
     "output_type": "stream",
     "text": [
      "                   all        241        406      0.908      0.877      0.937      0.608\n",
      "              Artifact         73         73      0.876       0.89      0.939      0.474\n",
      "                    N1        166        169      0.928      0.834      0.932      0.595\n",
      "                    N2        164        164       0.92      0.907      0.939      0.754\n",
      "Speed: 0.5ms preprocess, 20.3ms inference, 0.0ms loss, 0.1ms postprocess per image\n",
      "Results saved to \u001b[1mruns/detect/yolov10x_n1_n2_custom2\u001b[0m\n",
      "Validation Metrics: ultralytics.utils.metrics.DetMetrics object with attributes:\n",
      "\n",
      "ap_class_index: array([0, 1, 2])\n",
      "box: ultralytics.utils.metrics.Metric object\n",
      "confusion_matrix: <ultralytics.utils.metrics.ConfusionMatrix object at 0x2aacede49e80>\n",
      "curves: ['Precision-Recall(B)', 'F1-Confidence(B)', 'Precision-Confidence(B)', 'Recall-Confidence(B)']\n",
      "curves_results: [[array([          0,    0.001001,    0.002002,    0.003003,    0.004004,    0.005005,    0.006006,    0.007007,    0.008008,    0.009009,     0.01001,    0.011011,    0.012012,    0.013013,    0.014014,    0.015015,    0.016016,    0.017017,    0.018018,    0.019019,     0.02002,    0.021021,    0.022022,    0.023023,\n",
      "          0.024024,    0.025025,    0.026026,    0.027027,    0.028028,    0.029029,     0.03003,    0.031031,    0.032032,    0.033033,    0.034034,    0.035035,    0.036036,    0.037037,    0.038038,    0.039039,     0.04004,    0.041041,    0.042042,    0.043043,    0.044044,    0.045045,    0.046046,    0.047047,\n",
      "          0.048048,    0.049049,     0.05005,    0.051051,    0.052052,    0.053053,    0.054054,    0.055055,    0.056056,    0.057057,    0.058058,    0.059059,     0.06006,    0.061061,    0.062062,    0.063063,    0.064064,    0.065065,    0.066066,    0.067067,    0.068068,    0.069069,     0.07007,    0.071071,\n",
      "          0.072072,    0.073073,    0.074074,    0.075075,    0.076076,    0.077077,    0.078078,    0.079079,     0.08008,    0.081081,    0.082082,    0.083083,    0.084084,    0.085085,    0.086086,    0.087087,    0.088088,    0.089089,     0.09009,    0.091091,    0.092092,    0.093093,    0.094094,    0.095095,\n",
      "          0.096096,    0.097097,    0.098098,    0.099099,      0.1001,      0.1011,      0.1021,      0.1031,      0.1041,     0.10511,     0.10611,     0.10711,     0.10811,     0.10911,     0.11011,     0.11111,     0.11211,     0.11311,     0.11411,     0.11512,     0.11612,     0.11712,     0.11812,     0.11912,\n",
      "           0.12012,     0.12112,     0.12212,     0.12312,     0.12412,     0.12513,     0.12613,     0.12713,     0.12813,     0.12913,     0.13013,     0.13113,     0.13213,     0.13313,     0.13413,     0.13514,     0.13614,     0.13714,     0.13814,     0.13914,     0.14014,     0.14114,     0.14214,     0.14314,\n",
      "           0.14414,     0.14515,     0.14615,     0.14715,     0.14815,     0.14915,     0.15015,     0.15115,     0.15215,     0.15315,     0.15415,     0.15516,     0.15616,     0.15716,     0.15816,     0.15916,     0.16016,     0.16116,     0.16216,     0.16316,     0.16416,     0.16517,     0.16617,     0.16717,\n",
      "           0.16817,     0.16917,     0.17017,     0.17117,     0.17217,     0.17317,     0.17417,     0.17518,     0.17618,     0.17718,     0.17818,     0.17918,     0.18018,     0.18118,     0.18218,     0.18318,     0.18418,     0.18519,     0.18619,     0.18719,     0.18819,     0.18919,     0.19019,     0.19119,\n",
      "           0.19219,     0.19319,     0.19419,      0.1952,      0.1962,      0.1972,      0.1982,      0.1992,      0.2002,      0.2012,      0.2022,      0.2032,      0.2042,     0.20521,     0.20621,     0.20721,     0.20821,     0.20921,     0.21021,     0.21121,     0.21221,     0.21321,     0.21421,     0.21522,\n",
      "           0.21622,     0.21722,     0.21822,     0.21922,     0.22022,     0.22122,     0.22222,     0.22322,     0.22422,     0.22523,     0.22623,     0.22723,     0.22823,     0.22923,     0.23023,     0.23123,     0.23223,     0.23323,     0.23423,     0.23524,     0.23624,     0.23724,     0.23824,     0.23924,\n",
      "           0.24024,     0.24124,     0.24224,     0.24324,     0.24424,     0.24525,     0.24625,     0.24725,     0.24825,     0.24925,     0.25025,     0.25125,     0.25225,     0.25325,     0.25425,     0.25526,     0.25626,     0.25726,     0.25826,     0.25926,     0.26026,     0.26126,     0.26226,     0.26326,\n",
      "           0.26426,     0.26527,     0.26627,     0.26727,     0.26827,     0.26927,     0.27027,     0.27127,     0.27227,     0.27327,     0.27427,     0.27528,     0.27628,     0.27728,     0.27828,     0.27928,     0.28028,     0.28128,     0.28228,     0.28328,     0.28428,     0.28529,     0.28629,     0.28729,\n",
      "           0.28829,     0.28929,     0.29029,     0.29129,     0.29229,     0.29329,     0.29429,      0.2953,      0.2963,      0.2973,      0.2983,      0.2993,      0.3003,      0.3013,      0.3023,      0.3033,      0.3043,     0.30531,     0.30631,     0.30731,     0.30831,     0.30931,     0.31031,     0.31131,\n",
      "           0.31231,     0.31331,     0.31431,     0.31532,     0.31632,     0.31732,     0.31832,     0.31932,     0.32032,     0.32132,     0.32232,     0.32332,     0.32432,     0.32533,     0.32633,     0.32733,     0.32833,     0.32933,     0.33033,     0.33133,     0.33233,     0.33333,     0.33433,     0.33534,\n",
      "           0.33634,     0.33734,     0.33834,     0.33934,     0.34034,     0.34134,     0.34234,     0.34334,     0.34434,     0.34535,     0.34635,     0.34735,     0.34835,     0.34935,     0.35035,     0.35135,     0.35235,     0.35335,     0.35435,     0.35536,     0.35636,     0.35736,     0.35836,     0.35936,\n",
      "           0.36036,     0.36136,     0.36236,     0.36336,     0.36436,     0.36537,     0.36637,     0.36737,     0.36837,     0.36937,     0.37037,     0.37137,     0.37237,     0.37337,     0.37437,     0.37538,     0.37638,     0.37738,     0.37838,     0.37938,     0.38038,     0.38138,     0.38238,     0.38338,\n",
      "           0.38438,     0.38539,     0.38639,     0.38739,     0.38839,     0.38939,     0.39039,     0.39139,     0.39239,     0.39339,     0.39439,      0.3954,      0.3964,      0.3974,      0.3984,      0.3994,      0.4004,      0.4014,      0.4024,      0.4034,      0.4044,     0.40541,     0.40641,     0.40741,\n",
      "           0.40841,     0.40941,     0.41041,     0.41141,     0.41241,     0.41341,     0.41441,     0.41542,     0.41642,     0.41742,     0.41842,     0.41942,     0.42042,     0.42142,     0.42242,     0.42342,     0.42442,     0.42543,     0.42643,     0.42743,     0.42843,     0.42943,     0.43043,     0.43143,\n",
      "           0.43243,     0.43343,     0.43443,     0.43544,     0.43644,     0.43744,     0.43844,     0.43944,     0.44044,     0.44144,     0.44244,     0.44344,     0.44444,     0.44545,     0.44645,     0.44745,     0.44845,     0.44945,     0.45045,     0.45145,     0.45245,     0.45345,     0.45445,     0.45546,\n",
      "           0.45646,     0.45746,     0.45846,     0.45946,     0.46046,     0.46146,     0.46246,     0.46346,     0.46446,     0.46547,     0.46647,     0.46747,     0.46847,     0.46947,     0.47047,     0.47147,     0.47247,     0.47347,     0.47447,     0.47548,     0.47648,     0.47748,     0.47848,     0.47948,\n",
      "           0.48048,     0.48148,     0.48248,     0.48348,     0.48448,     0.48549,     0.48649,     0.48749,     0.48849,     0.48949,     0.49049,     0.49149,     0.49249,     0.49349,     0.49449,      0.4955,      0.4965,      0.4975,      0.4985,      0.4995,      0.5005,      0.5015,      0.5025,      0.5035,\n",
      "            0.5045,     0.50551,     0.50651,     0.50751,     0.50851,     0.50951,     0.51051,     0.51151,     0.51251,     0.51351,     0.51451,     0.51552,     0.51652,     0.51752,     0.51852,     0.51952,     0.52052,     0.52152,     0.52252,     0.52352,     0.52452,     0.52553,     0.52653,     0.52753,\n",
      "           0.52853,     0.52953,     0.53053,     0.53153,     0.53253,     0.53353,     0.53453,     0.53554,     0.53654,     0.53754,     0.53854,     0.53954,     0.54054,     0.54154,     0.54254,     0.54354,     0.54454,     0.54555,     0.54655,     0.54755,     0.54855,     0.54955,     0.55055,     0.55155,\n",
      "           0.55255,     0.55355,     0.55455,     0.55556,     0.55656,     0.55756,     0.55856,     0.55956,     0.56056,     0.56156,     0.56256,     0.56356,     0.56456,     0.56557,     0.56657,     0.56757,     0.56857,     0.56957,     0.57057,     0.57157,     0.57257,     0.57357,     0.57457,     0.57558,\n",
      "           0.57658,     0.57758,     0.57858,     0.57958,     0.58058,     0.58158,     0.58258,     0.58358,     0.58458,     0.58559,     0.58659,     0.58759,     0.58859,     0.58959,     0.59059,     0.59159,     0.59259,     0.59359,     0.59459,      0.5956,      0.5966,      0.5976,      0.5986,      0.5996,\n",
      "            0.6006,      0.6016,      0.6026,      0.6036,      0.6046,     0.60561,     0.60661,     0.60761,     0.60861,     0.60961,     0.61061,     0.61161,     0.61261,     0.61361,     0.61461,     0.61562,     0.61662,     0.61762,     0.61862,     0.61962,     0.62062,     0.62162,     0.62262,     0.62362,\n",
      "           0.62462,     0.62563,     0.62663,     0.62763,     0.62863,     0.62963,     0.63063,     0.63163,     0.63263,     0.63363,     0.63463,     0.63564,     0.63664,     0.63764,     0.63864,     0.63964,     0.64064,     0.64164,     0.64264,     0.64364,     0.64464,     0.64565,     0.64665,     0.64765,\n",
      "           0.64865,     0.64965,     0.65065,     0.65165,     0.65265,     0.65365,     0.65465,     0.65566,     0.65666,     0.65766,     0.65866,     0.65966,     0.66066,     0.66166,     0.66266,     0.66366,     0.66466,     0.66567,     0.66667,     0.66767,     0.66867,     0.66967,     0.67067,     0.67167,\n",
      "           0.67267,     0.67367,     0.67467,     0.67568,     0.67668,     0.67768,     0.67868,     0.67968,     0.68068,     0.68168,     0.68268,     0.68368,     0.68468,     0.68569,     0.68669,     0.68769,     0.68869,     0.68969,     0.69069,     0.69169,     0.69269,     0.69369,     0.69469,      0.6957,\n",
      "            0.6967,      0.6977,      0.6987,      0.6997,      0.7007,      0.7017,      0.7027,      0.7037,      0.7047,     0.70571,     0.70671,     0.70771,     0.70871,     0.70971,     0.71071,     0.71171,     0.71271,     0.71371,     0.71471,     0.71572,     0.71672,     0.71772,     0.71872,     0.71972,\n",
      "           0.72072,     0.72172,     0.72272,     0.72372,     0.72472,     0.72573,     0.72673,     0.72773,     0.72873,     0.72973,     0.73073,     0.73173,     0.73273,     0.73373,     0.73473,     0.73574,     0.73674,     0.73774,     0.73874,     0.73974,     0.74074,     0.74174,     0.74274,     0.74374,\n",
      "           0.74474,     0.74575,     0.74675,     0.74775,     0.74875,     0.74975,     0.75075,     0.75175,     0.75275,     0.75375,     0.75475,     0.75576,     0.75676,     0.75776,     0.75876,     0.75976,     0.76076,     0.76176,     0.76276,     0.76376,     0.76476,     0.76577,     0.76677,     0.76777,\n",
      "           0.76877,     0.76977,     0.77077,     0.77177,     0.77277,     0.77377,     0.77477,     0.77578,     0.77678,     0.77778,     0.77878,     0.77978,     0.78078,     0.78178,     0.78278,     0.78378,     0.78478,     0.78579,     0.78679,     0.78779,     0.78879,     0.78979,     0.79079,     0.79179,\n",
      "           0.79279,     0.79379,     0.79479,      0.7958,      0.7968,      0.7978,      0.7988,      0.7998,      0.8008,      0.8018,      0.8028,      0.8038,      0.8048,     0.80581,     0.80681,     0.80781,     0.80881,     0.80981,     0.81081,     0.81181,     0.81281,     0.81381,     0.81481,     0.81582,\n",
      "           0.81682,     0.81782,     0.81882,     0.81982,     0.82082,     0.82182,     0.82282,     0.82382,     0.82482,     0.82583,     0.82683,     0.82783,     0.82883,     0.82983,     0.83083,     0.83183,     0.83283,     0.83383,     0.83483,     0.83584,     0.83684,     0.83784,     0.83884,     0.83984,\n",
      "           0.84084,     0.84184,     0.84284,     0.84384,     0.84484,     0.84585,     0.84685,     0.84785,     0.84885,     0.84985,     0.85085,     0.85185,     0.85285,     0.85385,     0.85485,     0.85586,     0.85686,     0.85786,     0.85886,     0.85986,     0.86086,     0.86186,     0.86286,     0.86386,\n",
      "           0.86486,     0.86587,     0.86687,     0.86787,     0.86887,     0.86987,     0.87087,     0.87187,     0.87287,     0.87387,     0.87487,     0.87588,     0.87688,     0.87788,     0.87888,     0.87988,     0.88088,     0.88188,     0.88288,     0.88388,     0.88488,     0.88589,     0.88689,     0.88789,\n",
      "           0.88889,     0.88989,     0.89089,     0.89189,     0.89289,     0.89389,     0.89489,      0.8959,      0.8969,      0.8979,      0.8989,      0.8999,      0.9009,      0.9019,      0.9029,      0.9039,      0.9049,     0.90591,     0.90691,     0.90791,     0.90891,     0.90991,     0.91091,     0.91191,\n",
      "           0.91291,     0.91391,     0.91491,     0.91592,     0.91692,     0.91792,     0.91892,     0.91992,     0.92092,     0.92192,     0.92292,     0.92392,     0.92492,     0.92593,     0.92693,     0.92793,     0.92893,     0.92993,     0.93093,     0.93193,     0.93293,     0.93393,     0.93493,     0.93594,\n",
      "           0.93694,     0.93794,     0.93894,     0.93994,     0.94094,     0.94194,     0.94294,     0.94394,     0.94494,     0.94595,     0.94695,     0.94795,     0.94895,     0.94995,     0.95095,     0.95195,     0.95295,     0.95395,     0.95495,     0.95596,     0.95696,     0.95796,     0.95896,     0.95996,\n",
      "           0.96096,     0.96196,     0.96296,     0.96396,     0.96496,     0.96597,     0.96697,     0.96797,     0.96897,     0.96997,     0.97097,     0.97197,     0.97297,     0.97397,     0.97497,     0.97598,     0.97698,     0.97798,     0.97898,     0.97998,     0.98098,     0.98198,     0.98298,     0.98398,\n",
      "           0.98498,     0.98599,     0.98699,     0.98799,     0.98899,     0.98999,     0.99099,     0.99199,     0.99299,     0.99399,     0.99499,       0.996,       0.997,       0.998,       0.999,           1]), array([[          1,           1,           1, ...,    0.031505,    0.015752,           0],\n",
      "       [          1,           1,           1, ...,    0.020732,    0.010366,           0],\n",
      "       [          1,           1,           1, ...,    0.048091,    0.024046,           0]]), 'Recall', 'Precision'], [array([          0,    0.001001,    0.002002,    0.003003,    0.004004,    0.005005,    0.006006,    0.007007,    0.008008,    0.009009,     0.01001,    0.011011,    0.012012,    0.013013,    0.014014,    0.015015,    0.016016,    0.017017,    0.018018,    0.019019,     0.02002,    0.021021,    0.022022,    0.023023,\n",
      "          0.024024,    0.025025,    0.026026,    0.027027,    0.028028,    0.029029,     0.03003,    0.031031,    0.032032,    0.033033,    0.034034,    0.035035,    0.036036,    0.037037,    0.038038,    0.039039,     0.04004,    0.041041,    0.042042,    0.043043,    0.044044,    0.045045,    0.046046,    0.047047,\n",
      "          0.048048,    0.049049,     0.05005,    0.051051,    0.052052,    0.053053,    0.054054,    0.055055,    0.056056,    0.057057,    0.058058,    0.059059,     0.06006,    0.061061,    0.062062,    0.063063,    0.064064,    0.065065,    0.066066,    0.067067,    0.068068,    0.069069,     0.07007,    0.071071,\n",
      "          0.072072,    0.073073,    0.074074,    0.075075,    0.076076,    0.077077,    0.078078,    0.079079,     0.08008,    0.081081,    0.082082,    0.083083,    0.084084,    0.085085,    0.086086,    0.087087,    0.088088,    0.089089,     0.09009,    0.091091,    0.092092,    0.093093,    0.094094,    0.095095,\n",
      "          0.096096,    0.097097,    0.098098,    0.099099,      0.1001,      0.1011,      0.1021,      0.1031,      0.1041,     0.10511,     0.10611,     0.10711,     0.10811,     0.10911,     0.11011,     0.11111,     0.11211,     0.11311,     0.11411,     0.11512,     0.11612,     0.11712,     0.11812,     0.11912,\n",
      "           0.12012,     0.12112,     0.12212,     0.12312,     0.12412,     0.12513,     0.12613,     0.12713,     0.12813,     0.12913,     0.13013,     0.13113,     0.13213,     0.13313,     0.13413,     0.13514,     0.13614,     0.13714,     0.13814,     0.13914,     0.14014,     0.14114,     0.14214,     0.14314,\n",
      "           0.14414,     0.14515,     0.14615,     0.14715,     0.14815,     0.14915,     0.15015,     0.15115,     0.15215,     0.15315,     0.15415,     0.15516,     0.15616,     0.15716,     0.15816,     0.15916,     0.16016,     0.16116,     0.16216,     0.16316,     0.16416,     0.16517,     0.16617,     0.16717,\n",
      "           0.16817,     0.16917,     0.17017,     0.17117,     0.17217,     0.17317,     0.17417,     0.17518,     0.17618,     0.17718,     0.17818,     0.17918,     0.18018,     0.18118,     0.18218,     0.18318,     0.18418,     0.18519,     0.18619,     0.18719,     0.18819,     0.18919,     0.19019,     0.19119,\n",
      "           0.19219,     0.19319,     0.19419,      0.1952,      0.1962,      0.1972,      0.1982,      0.1992,      0.2002,      0.2012,      0.2022,      0.2032,      0.2042,     0.20521,     0.20621,     0.20721,     0.20821,     0.20921,     0.21021,     0.21121,     0.21221,     0.21321,     0.21421,     0.21522,\n",
      "           0.21622,     0.21722,     0.21822,     0.21922,     0.22022,     0.22122,     0.22222,     0.22322,     0.22422,     0.22523,     0.22623,     0.22723,     0.22823,     0.22923,     0.23023,     0.23123,     0.23223,     0.23323,     0.23423,     0.23524,     0.23624,     0.23724,     0.23824,     0.23924,\n",
      "           0.24024,     0.24124,     0.24224,     0.24324,     0.24424,     0.24525,     0.24625,     0.24725,     0.24825,     0.24925,     0.25025,     0.25125,     0.25225,     0.25325,     0.25425,     0.25526,     0.25626,     0.25726,     0.25826,     0.25926,     0.26026,     0.26126,     0.26226,     0.26326,\n",
      "           0.26426,     0.26527,     0.26627,     0.26727,     0.26827,     0.26927,     0.27027,     0.27127,     0.27227,     0.27327,     0.27427,     0.27528,     0.27628,     0.27728,     0.27828,     0.27928,     0.28028,     0.28128,     0.28228,     0.28328,     0.28428,     0.28529,     0.28629,     0.28729,\n",
      "           0.28829,     0.28929,     0.29029,     0.29129,     0.29229,     0.29329,     0.29429,      0.2953,      0.2963,      0.2973,      0.2983,      0.2993,      0.3003,      0.3013,      0.3023,      0.3033,      0.3043,     0.30531,     0.30631,     0.30731,     0.30831,     0.30931,     0.31031,     0.31131,\n",
      "           0.31231,     0.31331,     0.31431,     0.31532,     0.31632,     0.31732,     0.31832,     0.31932,     0.32032,     0.32132,     0.32232,     0.32332,     0.32432,     0.32533,     0.32633,     0.32733,     0.32833,     0.32933,     0.33033,     0.33133,     0.33233,     0.33333,     0.33433,     0.33534,\n",
      "           0.33634,     0.33734,     0.33834,     0.33934,     0.34034,     0.34134,     0.34234,     0.34334,     0.34434,     0.34535,     0.34635,     0.34735,     0.34835,     0.34935,     0.35035,     0.35135,     0.35235,     0.35335,     0.35435,     0.35536,     0.35636,     0.35736,     0.35836,     0.35936,\n",
      "           0.36036,     0.36136,     0.36236,     0.36336,     0.36436,     0.36537,     0.36637,     0.36737,     0.36837,     0.36937,     0.37037,     0.37137,     0.37237,     0.37337,     0.37437,     0.37538,     0.37638,     0.37738,     0.37838,     0.37938,     0.38038,     0.38138,     0.38238,     0.38338,\n",
      "           0.38438,     0.38539,     0.38639,     0.38739,     0.38839,     0.38939,     0.39039,     0.39139,     0.39239,     0.39339,     0.39439,      0.3954,      0.3964,      0.3974,      0.3984,      0.3994,      0.4004,      0.4014,      0.4024,      0.4034,      0.4044,     0.40541,     0.40641,     0.40741,\n",
      "           0.40841,     0.40941,     0.41041,     0.41141,     0.41241,     0.41341,     0.41441,     0.41542,     0.41642,     0.41742,     0.41842,     0.41942,     0.42042,     0.42142,     0.42242,     0.42342,     0.42442,     0.42543,     0.42643,     0.42743,     0.42843,     0.42943,     0.43043,     0.43143,\n",
      "           0.43243,     0.43343,     0.43443,     0.43544,     0.43644,     0.43744,     0.43844,     0.43944,     0.44044,     0.44144,     0.44244,     0.44344,     0.44444,     0.44545,     0.44645,     0.44745,     0.44845,     0.44945,     0.45045,     0.45145,     0.45245,     0.45345,     0.45445,     0.45546,\n",
      "           0.45646,     0.45746,     0.45846,     0.45946,     0.46046,     0.46146,     0.46246,     0.46346,     0.46446,     0.46547,     0.46647,     0.46747,     0.46847,     0.46947,     0.47047,     0.47147,     0.47247,     0.47347,     0.47447,     0.47548,     0.47648,     0.47748,     0.47848,     0.47948,\n",
      "           0.48048,     0.48148,     0.48248,     0.48348,     0.48448,     0.48549,     0.48649,     0.48749,     0.48849,     0.48949,     0.49049,     0.49149,     0.49249,     0.49349,     0.49449,      0.4955,      0.4965,      0.4975,      0.4985,      0.4995,      0.5005,      0.5015,      0.5025,      0.5035,\n",
      "            0.5045,     0.50551,     0.50651,     0.50751,     0.50851,     0.50951,     0.51051,     0.51151,     0.51251,     0.51351,     0.51451,     0.51552,     0.51652,     0.51752,     0.51852,     0.51952,     0.52052,     0.52152,     0.52252,     0.52352,     0.52452,     0.52553,     0.52653,     0.52753,\n",
      "           0.52853,     0.52953,     0.53053,     0.53153,     0.53253,     0.53353,     0.53453,     0.53554,     0.53654,     0.53754,     0.53854,     0.53954,     0.54054,     0.54154,     0.54254,     0.54354,     0.54454,     0.54555,     0.54655,     0.54755,     0.54855,     0.54955,     0.55055,     0.55155,\n",
      "           0.55255,     0.55355,     0.55455,     0.55556,     0.55656,     0.55756,     0.55856,     0.55956,     0.56056,     0.56156,     0.56256,     0.56356,     0.56456,     0.56557,     0.56657,     0.56757,     0.56857,     0.56957,     0.57057,     0.57157,     0.57257,     0.57357,     0.57457,     0.57558,\n",
      "           0.57658,     0.57758,     0.57858,     0.57958,     0.58058,     0.58158,     0.58258,     0.58358,     0.58458,     0.58559,     0.58659,     0.58759,     0.58859,     0.58959,     0.59059,     0.59159,     0.59259,     0.59359,     0.59459,      0.5956,      0.5966,      0.5976,      0.5986,      0.5996,\n",
      "            0.6006,      0.6016,      0.6026,      0.6036,      0.6046,     0.60561,     0.60661,     0.60761,     0.60861,     0.60961,     0.61061,     0.61161,     0.61261,     0.61361,     0.61461,     0.61562,     0.61662,     0.61762,     0.61862,     0.61962,     0.62062,     0.62162,     0.62262,     0.62362,\n",
      "           0.62462,     0.62563,     0.62663,     0.62763,     0.62863,     0.62963,     0.63063,     0.63163,     0.63263,     0.63363,     0.63463,     0.63564,     0.63664,     0.63764,     0.63864,     0.63964,     0.64064,     0.64164,     0.64264,     0.64364,     0.64464,     0.64565,     0.64665,     0.64765,\n",
      "           0.64865,     0.64965,     0.65065,     0.65165,     0.65265,     0.65365,     0.65465,     0.65566,     0.65666,     0.65766,     0.65866,     0.65966,     0.66066,     0.66166,     0.66266,     0.66366,     0.66466,     0.66567,     0.66667,     0.66767,     0.66867,     0.66967,     0.67067,     0.67167,\n",
      "           0.67267,     0.67367,     0.67467,     0.67568,     0.67668,     0.67768,     0.67868,     0.67968,     0.68068,     0.68168,     0.68268,     0.68368,     0.68468,     0.68569,     0.68669,     0.68769,     0.68869,     0.68969,     0.69069,     0.69169,     0.69269,     0.69369,     0.69469,      0.6957,\n",
      "            0.6967,      0.6977,      0.6987,      0.6997,      0.7007,      0.7017,      0.7027,      0.7037,      0.7047,     0.70571,     0.70671,     0.70771,     0.70871,     0.70971,     0.71071,     0.71171,     0.71271,     0.71371,     0.71471,     0.71572,     0.71672,     0.71772,     0.71872,     0.71972,\n",
      "           0.72072,     0.72172,     0.72272,     0.72372,     0.72472,     0.72573,     0.72673,     0.72773,     0.72873,     0.72973,     0.73073,     0.73173,     0.73273,     0.73373,     0.73473,     0.73574,     0.73674,     0.73774,     0.73874,     0.73974,     0.74074,     0.74174,     0.74274,     0.74374,\n",
      "           0.74474,     0.74575,     0.74675,     0.74775,     0.74875,     0.74975,     0.75075,     0.75175,     0.75275,     0.75375,     0.75475,     0.75576,     0.75676,     0.75776,     0.75876,     0.75976,     0.76076,     0.76176,     0.76276,     0.76376,     0.76476,     0.76577,     0.76677,     0.76777,\n",
      "           0.76877,     0.76977,     0.77077,     0.77177,     0.77277,     0.77377,     0.77477,     0.77578,     0.77678,     0.77778,     0.77878,     0.77978,     0.78078,     0.78178,     0.78278,     0.78378,     0.78478,     0.78579,     0.78679,     0.78779,     0.78879,     0.78979,     0.79079,     0.79179,\n",
      "           0.79279,     0.79379,     0.79479,      0.7958,      0.7968,      0.7978,      0.7988,      0.7998,      0.8008,      0.8018,      0.8028,      0.8038,      0.8048,     0.80581,     0.80681,     0.80781,     0.80881,     0.80981,     0.81081,     0.81181,     0.81281,     0.81381,     0.81481,     0.81582,\n",
      "           0.81682,     0.81782,     0.81882,     0.81982,     0.82082,     0.82182,     0.82282,     0.82382,     0.82482,     0.82583,     0.82683,     0.82783,     0.82883,     0.82983,     0.83083,     0.83183,     0.83283,     0.83383,     0.83483,     0.83584,     0.83684,     0.83784,     0.83884,     0.83984,\n",
      "           0.84084,     0.84184,     0.84284,     0.84384,     0.84484,     0.84585,     0.84685,     0.84785,     0.84885,     0.84985,     0.85085,     0.85185,     0.85285,     0.85385,     0.85485,     0.85586,     0.85686,     0.85786,     0.85886,     0.85986,     0.86086,     0.86186,     0.86286,     0.86386,\n",
      "           0.86486,     0.86587,     0.86687,     0.86787,     0.86887,     0.86987,     0.87087,     0.87187,     0.87287,     0.87387,     0.87487,     0.87588,     0.87688,     0.87788,     0.87888,     0.87988,     0.88088,     0.88188,     0.88288,     0.88388,     0.88488,     0.88589,     0.88689,     0.88789,\n",
      "           0.88889,     0.88989,     0.89089,     0.89189,     0.89289,     0.89389,     0.89489,      0.8959,      0.8969,      0.8979,      0.8989,      0.8999,      0.9009,      0.9019,      0.9029,      0.9039,      0.9049,     0.90591,     0.90691,     0.90791,     0.90891,     0.90991,     0.91091,     0.91191,\n",
      "           0.91291,     0.91391,     0.91491,     0.91592,     0.91692,     0.91792,     0.91892,     0.91992,     0.92092,     0.92192,     0.92292,     0.92392,     0.92492,     0.92593,     0.92693,     0.92793,     0.92893,     0.92993,     0.93093,     0.93193,     0.93293,     0.93393,     0.93493,     0.93594,\n",
      "           0.93694,     0.93794,     0.93894,     0.93994,     0.94094,     0.94194,     0.94294,     0.94394,     0.94494,     0.94595,     0.94695,     0.94795,     0.94895,     0.94995,     0.95095,     0.95195,     0.95295,     0.95395,     0.95495,     0.95596,     0.95696,     0.95796,     0.95896,     0.95996,\n",
      "           0.96096,     0.96196,     0.96296,     0.96396,     0.96496,     0.96597,     0.96697,     0.96797,     0.96897,     0.96997,     0.97097,     0.97197,     0.97297,     0.97397,     0.97497,     0.97598,     0.97698,     0.97798,     0.97898,     0.97998,     0.98098,     0.98198,     0.98298,     0.98398,\n",
      "           0.98498,     0.98599,     0.98699,     0.98799,     0.98899,     0.98999,     0.99099,     0.99199,     0.99299,     0.99399,     0.99499,       0.996,       0.997,       0.998,       0.999,           1]), array([[    0.35381,     0.35381,     0.44831, ...,           0,           0,           0],\n",
      "       [     0.3097,     0.31002,     0.38978, ...,           0,           0,           0],\n",
      "       [    0.45188,     0.45188,     0.53197, ...,           0,           0,           0]]), 'Confidence', 'F1'], [array([          0,    0.001001,    0.002002,    0.003003,    0.004004,    0.005005,    0.006006,    0.007007,    0.008008,    0.009009,     0.01001,    0.011011,    0.012012,    0.013013,    0.014014,    0.015015,    0.016016,    0.017017,    0.018018,    0.019019,     0.02002,    0.021021,    0.022022,    0.023023,\n",
      "          0.024024,    0.025025,    0.026026,    0.027027,    0.028028,    0.029029,     0.03003,    0.031031,    0.032032,    0.033033,    0.034034,    0.035035,    0.036036,    0.037037,    0.038038,    0.039039,     0.04004,    0.041041,    0.042042,    0.043043,    0.044044,    0.045045,    0.046046,    0.047047,\n",
      "          0.048048,    0.049049,     0.05005,    0.051051,    0.052052,    0.053053,    0.054054,    0.055055,    0.056056,    0.057057,    0.058058,    0.059059,     0.06006,    0.061061,    0.062062,    0.063063,    0.064064,    0.065065,    0.066066,    0.067067,    0.068068,    0.069069,     0.07007,    0.071071,\n",
      "          0.072072,    0.073073,    0.074074,    0.075075,    0.076076,    0.077077,    0.078078,    0.079079,     0.08008,    0.081081,    0.082082,    0.083083,    0.084084,    0.085085,    0.086086,    0.087087,    0.088088,    0.089089,     0.09009,    0.091091,    0.092092,    0.093093,    0.094094,    0.095095,\n",
      "          0.096096,    0.097097,    0.098098,    0.099099,      0.1001,      0.1011,      0.1021,      0.1031,      0.1041,     0.10511,     0.10611,     0.10711,     0.10811,     0.10911,     0.11011,     0.11111,     0.11211,     0.11311,     0.11411,     0.11512,     0.11612,     0.11712,     0.11812,     0.11912,\n",
      "           0.12012,     0.12112,     0.12212,     0.12312,     0.12412,     0.12513,     0.12613,     0.12713,     0.12813,     0.12913,     0.13013,     0.13113,     0.13213,     0.13313,     0.13413,     0.13514,     0.13614,     0.13714,     0.13814,     0.13914,     0.14014,     0.14114,     0.14214,     0.14314,\n",
      "           0.14414,     0.14515,     0.14615,     0.14715,     0.14815,     0.14915,     0.15015,     0.15115,     0.15215,     0.15315,     0.15415,     0.15516,     0.15616,     0.15716,     0.15816,     0.15916,     0.16016,     0.16116,     0.16216,     0.16316,     0.16416,     0.16517,     0.16617,     0.16717,\n",
      "           0.16817,     0.16917,     0.17017,     0.17117,     0.17217,     0.17317,     0.17417,     0.17518,     0.17618,     0.17718,     0.17818,     0.17918,     0.18018,     0.18118,     0.18218,     0.18318,     0.18418,     0.18519,     0.18619,     0.18719,     0.18819,     0.18919,     0.19019,     0.19119,\n",
      "           0.19219,     0.19319,     0.19419,      0.1952,      0.1962,      0.1972,      0.1982,      0.1992,      0.2002,      0.2012,      0.2022,      0.2032,      0.2042,     0.20521,     0.20621,     0.20721,     0.20821,     0.20921,     0.21021,     0.21121,     0.21221,     0.21321,     0.21421,     0.21522,\n",
      "           0.21622,     0.21722,     0.21822,     0.21922,     0.22022,     0.22122,     0.22222,     0.22322,     0.22422,     0.22523,     0.22623,     0.22723,     0.22823,     0.22923,     0.23023,     0.23123,     0.23223,     0.23323,     0.23423,     0.23524,     0.23624,     0.23724,     0.23824,     0.23924,\n",
      "           0.24024,     0.24124,     0.24224,     0.24324,     0.24424,     0.24525,     0.24625,     0.24725,     0.24825,     0.24925,     0.25025,     0.25125,     0.25225,     0.25325,     0.25425,     0.25526,     0.25626,     0.25726,     0.25826,     0.25926,     0.26026,     0.26126,     0.26226,     0.26326,\n",
      "           0.26426,     0.26527,     0.26627,     0.26727,     0.26827,     0.26927,     0.27027,     0.27127,     0.27227,     0.27327,     0.27427,     0.27528,     0.27628,     0.27728,     0.27828,     0.27928,     0.28028,     0.28128,     0.28228,     0.28328,     0.28428,     0.28529,     0.28629,     0.28729,\n",
      "           0.28829,     0.28929,     0.29029,     0.29129,     0.29229,     0.29329,     0.29429,      0.2953,      0.2963,      0.2973,      0.2983,      0.2993,      0.3003,      0.3013,      0.3023,      0.3033,      0.3043,     0.30531,     0.30631,     0.30731,     0.30831,     0.30931,     0.31031,     0.31131,\n",
      "           0.31231,     0.31331,     0.31431,     0.31532,     0.31632,     0.31732,     0.31832,     0.31932,     0.32032,     0.32132,     0.32232,     0.32332,     0.32432,     0.32533,     0.32633,     0.32733,     0.32833,     0.32933,     0.33033,     0.33133,     0.33233,     0.33333,     0.33433,     0.33534,\n",
      "           0.33634,     0.33734,     0.33834,     0.33934,     0.34034,     0.34134,     0.34234,     0.34334,     0.34434,     0.34535,     0.34635,     0.34735,     0.34835,     0.34935,     0.35035,     0.35135,     0.35235,     0.35335,     0.35435,     0.35536,     0.35636,     0.35736,     0.35836,     0.35936,\n",
      "           0.36036,     0.36136,     0.36236,     0.36336,     0.36436,     0.36537,     0.36637,     0.36737,     0.36837,     0.36937,     0.37037,     0.37137,     0.37237,     0.37337,     0.37437,     0.37538,     0.37638,     0.37738,     0.37838,     0.37938,     0.38038,     0.38138,     0.38238,     0.38338,\n",
      "           0.38438,     0.38539,     0.38639,     0.38739,     0.38839,     0.38939,     0.39039,     0.39139,     0.39239,     0.39339,     0.39439,      0.3954,      0.3964,      0.3974,      0.3984,      0.3994,      0.4004,      0.4014,      0.4024,      0.4034,      0.4044,     0.40541,     0.40641,     0.40741,\n",
      "           0.40841,     0.40941,     0.41041,     0.41141,     0.41241,     0.41341,     0.41441,     0.41542,     0.41642,     0.41742,     0.41842,     0.41942,     0.42042,     0.42142,     0.42242,     0.42342,     0.42442,     0.42543,     0.42643,     0.42743,     0.42843,     0.42943,     0.43043,     0.43143,\n",
      "           0.43243,     0.43343,     0.43443,     0.43544,     0.43644,     0.43744,     0.43844,     0.43944,     0.44044,     0.44144,     0.44244,     0.44344,     0.44444,     0.44545,     0.44645,     0.44745,     0.44845,     0.44945,     0.45045,     0.45145,     0.45245,     0.45345,     0.45445,     0.45546,\n",
      "           0.45646,     0.45746,     0.45846,     0.45946,     0.46046,     0.46146,     0.46246,     0.46346,     0.46446,     0.46547,     0.46647,     0.46747,     0.46847,     0.46947,     0.47047,     0.47147,     0.47247,     0.47347,     0.47447,     0.47548,     0.47648,     0.47748,     0.47848,     0.47948,\n",
      "           0.48048,     0.48148,     0.48248,     0.48348,     0.48448,     0.48549,     0.48649,     0.48749,     0.48849,     0.48949,     0.49049,     0.49149,     0.49249,     0.49349,     0.49449,      0.4955,      0.4965,      0.4975,      0.4985,      0.4995,      0.5005,      0.5015,      0.5025,      0.5035,\n",
      "            0.5045,     0.50551,     0.50651,     0.50751,     0.50851,     0.50951,     0.51051,     0.51151,     0.51251,     0.51351,     0.51451,     0.51552,     0.51652,     0.51752,     0.51852,     0.51952,     0.52052,     0.52152,     0.52252,     0.52352,     0.52452,     0.52553,     0.52653,     0.52753,\n",
      "           0.52853,     0.52953,     0.53053,     0.53153,     0.53253,     0.53353,     0.53453,     0.53554,     0.53654,     0.53754,     0.53854,     0.53954,     0.54054,     0.54154,     0.54254,     0.54354,     0.54454,     0.54555,     0.54655,     0.54755,     0.54855,     0.54955,     0.55055,     0.55155,\n",
      "           0.55255,     0.55355,     0.55455,     0.55556,     0.55656,     0.55756,     0.55856,     0.55956,     0.56056,     0.56156,     0.56256,     0.56356,     0.56456,     0.56557,     0.56657,     0.56757,     0.56857,     0.56957,     0.57057,     0.57157,     0.57257,     0.57357,     0.57457,     0.57558,\n",
      "           0.57658,     0.57758,     0.57858,     0.57958,     0.58058,     0.58158,     0.58258,     0.58358,     0.58458,     0.58559,     0.58659,     0.58759,     0.58859,     0.58959,     0.59059,     0.59159,     0.59259,     0.59359,     0.59459,      0.5956,      0.5966,      0.5976,      0.5986,      0.5996,\n",
      "            0.6006,      0.6016,      0.6026,      0.6036,      0.6046,     0.60561,     0.60661,     0.60761,     0.60861,     0.60961,     0.61061,     0.61161,     0.61261,     0.61361,     0.61461,     0.61562,     0.61662,     0.61762,     0.61862,     0.61962,     0.62062,     0.62162,     0.62262,     0.62362,\n",
      "           0.62462,     0.62563,     0.62663,     0.62763,     0.62863,     0.62963,     0.63063,     0.63163,     0.63263,     0.63363,     0.63463,     0.63564,     0.63664,     0.63764,     0.63864,     0.63964,     0.64064,     0.64164,     0.64264,     0.64364,     0.64464,     0.64565,     0.64665,     0.64765,\n",
      "           0.64865,     0.64965,     0.65065,     0.65165,     0.65265,     0.65365,     0.65465,     0.65566,     0.65666,     0.65766,     0.65866,     0.65966,     0.66066,     0.66166,     0.66266,     0.66366,     0.66466,     0.66567,     0.66667,     0.66767,     0.66867,     0.66967,     0.67067,     0.67167,\n",
      "           0.67267,     0.67367,     0.67467,     0.67568,     0.67668,     0.67768,     0.67868,     0.67968,     0.68068,     0.68168,     0.68268,     0.68368,     0.68468,     0.68569,     0.68669,     0.68769,     0.68869,     0.68969,     0.69069,     0.69169,     0.69269,     0.69369,     0.69469,      0.6957,\n",
      "            0.6967,      0.6977,      0.6987,      0.6997,      0.7007,      0.7017,      0.7027,      0.7037,      0.7047,     0.70571,     0.70671,     0.70771,     0.70871,     0.70971,     0.71071,     0.71171,     0.71271,     0.71371,     0.71471,     0.71572,     0.71672,     0.71772,     0.71872,     0.71972,\n",
      "           0.72072,     0.72172,     0.72272,     0.72372,     0.72472,     0.72573,     0.72673,     0.72773,     0.72873,     0.72973,     0.73073,     0.73173,     0.73273,     0.73373,     0.73473,     0.73574,     0.73674,     0.73774,     0.73874,     0.73974,     0.74074,     0.74174,     0.74274,     0.74374,\n",
      "           0.74474,     0.74575,     0.74675,     0.74775,     0.74875,     0.74975,     0.75075,     0.75175,     0.75275,     0.75375,     0.75475,     0.75576,     0.75676,     0.75776,     0.75876,     0.75976,     0.76076,     0.76176,     0.76276,     0.76376,     0.76476,     0.76577,     0.76677,     0.76777,\n",
      "           0.76877,     0.76977,     0.77077,     0.77177,     0.77277,     0.77377,     0.77477,     0.77578,     0.77678,     0.77778,     0.77878,     0.77978,     0.78078,     0.78178,     0.78278,     0.78378,     0.78478,     0.78579,     0.78679,     0.78779,     0.78879,     0.78979,     0.79079,     0.79179,\n",
      "           0.79279,     0.79379,     0.79479,      0.7958,      0.7968,      0.7978,      0.7988,      0.7998,      0.8008,      0.8018,      0.8028,      0.8038,      0.8048,     0.80581,     0.80681,     0.80781,     0.80881,     0.80981,     0.81081,     0.81181,     0.81281,     0.81381,     0.81481,     0.81582,\n",
      "           0.81682,     0.81782,     0.81882,     0.81982,     0.82082,     0.82182,     0.82282,     0.82382,     0.82482,     0.82583,     0.82683,     0.82783,     0.82883,     0.82983,     0.83083,     0.83183,     0.83283,     0.83383,     0.83483,     0.83584,     0.83684,     0.83784,     0.83884,     0.83984,\n",
      "           0.84084,     0.84184,     0.84284,     0.84384,     0.84484,     0.84585,     0.84685,     0.84785,     0.84885,     0.84985,     0.85085,     0.85185,     0.85285,     0.85385,     0.85485,     0.85586,     0.85686,     0.85786,     0.85886,     0.85986,     0.86086,     0.86186,     0.86286,     0.86386,\n",
      "           0.86486,     0.86587,     0.86687,     0.86787,     0.86887,     0.86987,     0.87087,     0.87187,     0.87287,     0.87387,     0.87487,     0.87588,     0.87688,     0.87788,     0.87888,     0.87988,     0.88088,     0.88188,     0.88288,     0.88388,     0.88488,     0.88589,     0.88689,     0.88789,\n",
      "           0.88889,     0.88989,     0.89089,     0.89189,     0.89289,     0.89389,     0.89489,      0.8959,      0.8969,      0.8979,      0.8989,      0.8999,      0.9009,      0.9019,      0.9029,      0.9039,      0.9049,     0.90591,     0.90691,     0.90791,     0.90891,     0.90991,     0.91091,     0.91191,\n",
      "           0.91291,     0.91391,     0.91491,     0.91592,     0.91692,     0.91792,     0.91892,     0.91992,     0.92092,     0.92192,     0.92292,     0.92392,     0.92492,     0.92593,     0.92693,     0.92793,     0.92893,     0.92993,     0.93093,     0.93193,     0.93293,     0.93393,     0.93493,     0.93594,\n",
      "           0.93694,     0.93794,     0.93894,     0.93994,     0.94094,     0.94194,     0.94294,     0.94394,     0.94494,     0.94595,     0.94695,     0.94795,     0.94895,     0.94995,     0.95095,     0.95195,     0.95295,     0.95395,     0.95495,     0.95596,     0.95696,     0.95796,     0.95896,     0.95996,\n",
      "           0.96096,     0.96196,     0.96296,     0.96396,     0.96496,     0.96597,     0.96697,     0.96797,     0.96897,     0.96997,     0.97097,     0.97197,     0.97297,     0.97397,     0.97497,     0.97598,     0.97698,     0.97798,     0.97898,     0.97998,     0.98098,     0.98198,     0.98298,     0.98398,\n",
      "           0.98498,     0.98599,     0.98699,     0.98799,     0.98899,     0.98999,     0.99099,     0.99199,     0.99299,     0.99399,     0.99499,       0.996,       0.997,       0.998,       0.999,           1]), array([[    0.21557,     0.21557,     0.29008, ...,           1,           1,           1],\n",
      "       [    0.18383,     0.18406,     0.24313, ...,           1,           1,           1],\n",
      "       [    0.29295,     0.29295,       0.364, ...,           1,           1,           1]]), 'Confidence', 'Precision'], [array([          0,    0.001001,    0.002002,    0.003003,    0.004004,    0.005005,    0.006006,    0.007007,    0.008008,    0.009009,     0.01001,    0.011011,    0.012012,    0.013013,    0.014014,    0.015015,    0.016016,    0.017017,    0.018018,    0.019019,     0.02002,    0.021021,    0.022022,    0.023023,\n",
      "          0.024024,    0.025025,    0.026026,    0.027027,    0.028028,    0.029029,     0.03003,    0.031031,    0.032032,    0.033033,    0.034034,    0.035035,    0.036036,    0.037037,    0.038038,    0.039039,     0.04004,    0.041041,    0.042042,    0.043043,    0.044044,    0.045045,    0.046046,    0.047047,\n",
      "          0.048048,    0.049049,     0.05005,    0.051051,    0.052052,    0.053053,    0.054054,    0.055055,    0.056056,    0.057057,    0.058058,    0.059059,     0.06006,    0.061061,    0.062062,    0.063063,    0.064064,    0.065065,    0.066066,    0.067067,    0.068068,    0.069069,     0.07007,    0.071071,\n",
      "          0.072072,    0.073073,    0.074074,    0.075075,    0.076076,    0.077077,    0.078078,    0.079079,     0.08008,    0.081081,    0.082082,    0.083083,    0.084084,    0.085085,    0.086086,    0.087087,    0.088088,    0.089089,     0.09009,    0.091091,    0.092092,    0.093093,    0.094094,    0.095095,\n",
      "          0.096096,    0.097097,    0.098098,    0.099099,      0.1001,      0.1011,      0.1021,      0.1031,      0.1041,     0.10511,     0.10611,     0.10711,     0.10811,     0.10911,     0.11011,     0.11111,     0.11211,     0.11311,     0.11411,     0.11512,     0.11612,     0.11712,     0.11812,     0.11912,\n",
      "           0.12012,     0.12112,     0.12212,     0.12312,     0.12412,     0.12513,     0.12613,     0.12713,     0.12813,     0.12913,     0.13013,     0.13113,     0.13213,     0.13313,     0.13413,     0.13514,     0.13614,     0.13714,     0.13814,     0.13914,     0.14014,     0.14114,     0.14214,     0.14314,\n",
      "           0.14414,     0.14515,     0.14615,     0.14715,     0.14815,     0.14915,     0.15015,     0.15115,     0.15215,     0.15315,     0.15415,     0.15516,     0.15616,     0.15716,     0.15816,     0.15916,     0.16016,     0.16116,     0.16216,     0.16316,     0.16416,     0.16517,     0.16617,     0.16717,\n",
      "           0.16817,     0.16917,     0.17017,     0.17117,     0.17217,     0.17317,     0.17417,     0.17518,     0.17618,     0.17718,     0.17818,     0.17918,     0.18018,     0.18118,     0.18218,     0.18318,     0.18418,     0.18519,     0.18619,     0.18719,     0.18819,     0.18919,     0.19019,     0.19119,\n",
      "           0.19219,     0.19319,     0.19419,      0.1952,      0.1962,      0.1972,      0.1982,      0.1992,      0.2002,      0.2012,      0.2022,      0.2032,      0.2042,     0.20521,     0.20621,     0.20721,     0.20821,     0.20921,     0.21021,     0.21121,     0.21221,     0.21321,     0.21421,     0.21522,\n",
      "           0.21622,     0.21722,     0.21822,     0.21922,     0.22022,     0.22122,     0.22222,     0.22322,     0.22422,     0.22523,     0.22623,     0.22723,     0.22823,     0.22923,     0.23023,     0.23123,     0.23223,     0.23323,     0.23423,     0.23524,     0.23624,     0.23724,     0.23824,     0.23924,\n",
      "           0.24024,     0.24124,     0.24224,     0.24324,     0.24424,     0.24525,     0.24625,     0.24725,     0.24825,     0.24925,     0.25025,     0.25125,     0.25225,     0.25325,     0.25425,     0.25526,     0.25626,     0.25726,     0.25826,     0.25926,     0.26026,     0.26126,     0.26226,     0.26326,\n",
      "           0.26426,     0.26527,     0.26627,     0.26727,     0.26827,     0.26927,     0.27027,     0.27127,     0.27227,     0.27327,     0.27427,     0.27528,     0.27628,     0.27728,     0.27828,     0.27928,     0.28028,     0.28128,     0.28228,     0.28328,     0.28428,     0.28529,     0.28629,     0.28729,\n",
      "           0.28829,     0.28929,     0.29029,     0.29129,     0.29229,     0.29329,     0.29429,      0.2953,      0.2963,      0.2973,      0.2983,      0.2993,      0.3003,      0.3013,      0.3023,      0.3033,      0.3043,     0.30531,     0.30631,     0.30731,     0.30831,     0.30931,     0.31031,     0.31131,\n",
      "           0.31231,     0.31331,     0.31431,     0.31532,     0.31632,     0.31732,     0.31832,     0.31932,     0.32032,     0.32132,     0.32232,     0.32332,     0.32432,     0.32533,     0.32633,     0.32733,     0.32833,     0.32933,     0.33033,     0.33133,     0.33233,     0.33333,     0.33433,     0.33534,\n",
      "           0.33634,     0.33734,     0.33834,     0.33934,     0.34034,     0.34134,     0.34234,     0.34334,     0.34434,     0.34535,     0.34635,     0.34735,     0.34835,     0.34935,     0.35035,     0.35135,     0.35235,     0.35335,     0.35435,     0.35536,     0.35636,     0.35736,     0.35836,     0.35936,\n",
      "           0.36036,     0.36136,     0.36236,     0.36336,     0.36436,     0.36537,     0.36637,     0.36737,     0.36837,     0.36937,     0.37037,     0.37137,     0.37237,     0.37337,     0.37437,     0.37538,     0.37638,     0.37738,     0.37838,     0.37938,     0.38038,     0.38138,     0.38238,     0.38338,\n",
      "           0.38438,     0.38539,     0.38639,     0.38739,     0.38839,     0.38939,     0.39039,     0.39139,     0.39239,     0.39339,     0.39439,      0.3954,      0.3964,      0.3974,      0.3984,      0.3994,      0.4004,      0.4014,      0.4024,      0.4034,      0.4044,     0.40541,     0.40641,     0.40741,\n",
      "           0.40841,     0.40941,     0.41041,     0.41141,     0.41241,     0.41341,     0.41441,     0.41542,     0.41642,     0.41742,     0.41842,     0.41942,     0.42042,     0.42142,     0.42242,     0.42342,     0.42442,     0.42543,     0.42643,     0.42743,     0.42843,     0.42943,     0.43043,     0.43143,\n",
      "           0.43243,     0.43343,     0.43443,     0.43544,     0.43644,     0.43744,     0.43844,     0.43944,     0.44044,     0.44144,     0.44244,     0.44344,     0.44444,     0.44545,     0.44645,     0.44745,     0.44845,     0.44945,     0.45045,     0.45145,     0.45245,     0.45345,     0.45445,     0.45546,\n",
      "           0.45646,     0.45746,     0.45846,     0.45946,     0.46046,     0.46146,     0.46246,     0.46346,     0.46446,     0.46547,     0.46647,     0.46747,     0.46847,     0.46947,     0.47047,     0.47147,     0.47247,     0.47347,     0.47447,     0.47548,     0.47648,     0.47748,     0.47848,     0.47948,\n",
      "           0.48048,     0.48148,     0.48248,     0.48348,     0.48448,     0.48549,     0.48649,     0.48749,     0.48849,     0.48949,     0.49049,     0.49149,     0.49249,     0.49349,     0.49449,      0.4955,      0.4965,      0.4975,      0.4985,      0.4995,      0.5005,      0.5015,      0.5025,      0.5035,\n",
      "            0.5045,     0.50551,     0.50651,     0.50751,     0.50851,     0.50951,     0.51051,     0.51151,     0.51251,     0.51351,     0.51451,     0.51552,     0.51652,     0.51752,     0.51852,     0.51952,     0.52052,     0.52152,     0.52252,     0.52352,     0.52452,     0.52553,     0.52653,     0.52753,\n",
      "           0.52853,     0.52953,     0.53053,     0.53153,     0.53253,     0.53353,     0.53453,     0.53554,     0.53654,     0.53754,     0.53854,     0.53954,     0.54054,     0.54154,     0.54254,     0.54354,     0.54454,     0.54555,     0.54655,     0.54755,     0.54855,     0.54955,     0.55055,     0.55155,\n",
      "           0.55255,     0.55355,     0.55455,     0.55556,     0.55656,     0.55756,     0.55856,     0.55956,     0.56056,     0.56156,     0.56256,     0.56356,     0.56456,     0.56557,     0.56657,     0.56757,     0.56857,     0.56957,     0.57057,     0.57157,     0.57257,     0.57357,     0.57457,     0.57558,\n",
      "           0.57658,     0.57758,     0.57858,     0.57958,     0.58058,     0.58158,     0.58258,     0.58358,     0.58458,     0.58559,     0.58659,     0.58759,     0.58859,     0.58959,     0.59059,     0.59159,     0.59259,     0.59359,     0.59459,      0.5956,      0.5966,      0.5976,      0.5986,      0.5996,\n",
      "            0.6006,      0.6016,      0.6026,      0.6036,      0.6046,     0.60561,     0.60661,     0.60761,     0.60861,     0.60961,     0.61061,     0.61161,     0.61261,     0.61361,     0.61461,     0.61562,     0.61662,     0.61762,     0.61862,     0.61962,     0.62062,     0.62162,     0.62262,     0.62362,\n",
      "           0.62462,     0.62563,     0.62663,     0.62763,     0.62863,     0.62963,     0.63063,     0.63163,     0.63263,     0.63363,     0.63463,     0.63564,     0.63664,     0.63764,     0.63864,     0.63964,     0.64064,     0.64164,     0.64264,     0.64364,     0.64464,     0.64565,     0.64665,     0.64765,\n",
      "           0.64865,     0.64965,     0.65065,     0.65165,     0.65265,     0.65365,     0.65465,     0.65566,     0.65666,     0.65766,     0.65866,     0.65966,     0.66066,     0.66166,     0.66266,     0.66366,     0.66466,     0.66567,     0.66667,     0.66767,     0.66867,     0.66967,     0.67067,     0.67167,\n",
      "           0.67267,     0.67367,     0.67467,     0.67568,     0.67668,     0.67768,     0.67868,     0.67968,     0.68068,     0.68168,     0.68268,     0.68368,     0.68468,     0.68569,     0.68669,     0.68769,     0.68869,     0.68969,     0.69069,     0.69169,     0.69269,     0.69369,     0.69469,      0.6957,\n",
      "            0.6967,      0.6977,      0.6987,      0.6997,      0.7007,      0.7017,      0.7027,      0.7037,      0.7047,     0.70571,     0.70671,     0.70771,     0.70871,     0.70971,     0.71071,     0.71171,     0.71271,     0.71371,     0.71471,     0.71572,     0.71672,     0.71772,     0.71872,     0.71972,\n",
      "           0.72072,     0.72172,     0.72272,     0.72372,     0.72472,     0.72573,     0.72673,     0.72773,     0.72873,     0.72973,     0.73073,     0.73173,     0.73273,     0.73373,     0.73473,     0.73574,     0.73674,     0.73774,     0.73874,     0.73974,     0.74074,     0.74174,     0.74274,     0.74374,\n",
      "           0.74474,     0.74575,     0.74675,     0.74775,     0.74875,     0.74975,     0.75075,     0.75175,     0.75275,     0.75375,     0.75475,     0.75576,     0.75676,     0.75776,     0.75876,     0.75976,     0.76076,     0.76176,     0.76276,     0.76376,     0.76476,     0.76577,     0.76677,     0.76777,\n",
      "           0.76877,     0.76977,     0.77077,     0.77177,     0.77277,     0.77377,     0.77477,     0.77578,     0.77678,     0.77778,     0.77878,     0.77978,     0.78078,     0.78178,     0.78278,     0.78378,     0.78478,     0.78579,     0.78679,     0.78779,     0.78879,     0.78979,     0.79079,     0.79179,\n",
      "           0.79279,     0.79379,     0.79479,      0.7958,      0.7968,      0.7978,      0.7988,      0.7998,      0.8008,      0.8018,      0.8028,      0.8038,      0.8048,     0.80581,     0.80681,     0.80781,     0.80881,     0.80981,     0.81081,     0.81181,     0.81281,     0.81381,     0.81481,     0.81582,\n",
      "           0.81682,     0.81782,     0.81882,     0.81982,     0.82082,     0.82182,     0.82282,     0.82382,     0.82482,     0.82583,     0.82683,     0.82783,     0.82883,     0.82983,     0.83083,     0.83183,     0.83283,     0.83383,     0.83483,     0.83584,     0.83684,     0.83784,     0.83884,     0.83984,\n",
      "           0.84084,     0.84184,     0.84284,     0.84384,     0.84484,     0.84585,     0.84685,     0.84785,     0.84885,     0.84985,     0.85085,     0.85185,     0.85285,     0.85385,     0.85485,     0.85586,     0.85686,     0.85786,     0.85886,     0.85986,     0.86086,     0.86186,     0.86286,     0.86386,\n",
      "           0.86486,     0.86587,     0.86687,     0.86787,     0.86887,     0.86987,     0.87087,     0.87187,     0.87287,     0.87387,     0.87487,     0.87588,     0.87688,     0.87788,     0.87888,     0.87988,     0.88088,     0.88188,     0.88288,     0.88388,     0.88488,     0.88589,     0.88689,     0.88789,\n",
      "           0.88889,     0.88989,     0.89089,     0.89189,     0.89289,     0.89389,     0.89489,      0.8959,      0.8969,      0.8979,      0.8989,      0.8999,      0.9009,      0.9019,      0.9029,      0.9039,      0.9049,     0.90591,     0.90691,     0.90791,     0.90891,     0.90991,     0.91091,     0.91191,\n",
      "           0.91291,     0.91391,     0.91491,     0.91592,     0.91692,     0.91792,     0.91892,     0.91992,     0.92092,     0.92192,     0.92292,     0.92392,     0.92492,     0.92593,     0.92693,     0.92793,     0.92893,     0.92993,     0.93093,     0.93193,     0.93293,     0.93393,     0.93493,     0.93594,\n",
      "           0.93694,     0.93794,     0.93894,     0.93994,     0.94094,     0.94194,     0.94294,     0.94394,     0.94494,     0.94595,     0.94695,     0.94795,     0.94895,     0.94995,     0.95095,     0.95195,     0.95295,     0.95395,     0.95495,     0.95596,     0.95696,     0.95796,     0.95896,     0.95996,\n",
      "           0.96096,     0.96196,     0.96296,     0.96396,     0.96496,     0.96597,     0.96697,     0.96797,     0.96897,     0.96997,     0.97097,     0.97197,     0.97297,     0.97397,     0.97497,     0.97598,     0.97698,     0.97798,     0.97898,     0.97998,     0.98098,     0.98198,     0.98298,     0.98398,\n",
      "           0.98498,     0.98599,     0.98699,     0.98799,     0.98899,     0.98999,     0.99099,     0.99199,     0.99299,     0.99399,     0.99499,       0.996,       0.997,       0.998,       0.999,           1]), array([[     0.9863,      0.9863,      0.9863, ...,           0,           0,           0],\n",
      "       [    0.98225,     0.98225,     0.98225, ...,           0,           0,           0],\n",
      "       [     0.9878,      0.9878,      0.9878, ...,           0,           0,           0]]), 'Confidence', 'Recall']]\n",
      "fitness: 0.6404569486395191\n",
      "keys: ['metrics/precision(B)', 'metrics/recall(B)', 'metrics/mAP50(B)', 'metrics/mAP50-95(B)']\n",
      "maps: array([    0.47354,     0.59493,     0.75411])\n",
      "names: {0: 'Artifact', 1: 'N1', 2: 'N2'}\n",
      "plot: True\n",
      "results_dict: {'metrics/precision(B)': 0.9076329961110207, 'metrics/recall(B)': 0.8771855548060546, 'metrics/mAP50(B)': 0.9368104764552408, 'metrics/mAP50-95(B)': 0.6075287788822167, 'fitness': 0.6404569486395191}\n",
      "save_dir: PosixPath('runs/detect/yolov10x_n1_n2_custom2')\n",
      "speed: {'preprocess': 0.540412954707858, 'inference': 20.252802938655698, 'loss': 0.0009129704961638233, 'postprocess': 0.07945239056999258}\n",
      "task: 'detect'\n"
     ]
    }
   ],
   "source": [
    "\n",
    "# Step 2: Train the YOLOv8 model\n",
    "model.train(\n",
    "    data=\"/home/sahaj432/Desktop/NSPM_Lab/main_n_peak/code_v2/Dataset/n1_n2_new.v7i.yolov8/data.yaml\",  # Path to dataset configuration file\n",
    "    imgsz=(1016, 1408),  # Original image size (Height, Width)\n",
    "    epochs=100,           # Number of epochs\n",
    "    batch=8,             # Batch size (adjust based on GPU memory)\n",
    "    workers=8,           # Number of data-loading workers\n",
    "    device=0,            # GPU device (set \"cpu\" to run on CPU)\n",
    "    name=\"yolov10x_n1_n2_custom\"  # Name of the training run\n",
    ")\n",
    "\n",
    "\n",
    "# # Step 3: Save the trained model\n",
    "# model_path = \"/home/sahaj432/Desktop/NSPM_Lab/main_n_peak/code_v2/yolov12m_n1_n2_custom.pt\"  # Define the path to save the model\n",
    "# model.save(model_path)\n",
    "# print(f\"Model saved at {model_path}\")\n",
    "\n",
    "\n",
    "# Step 3: Validate the trained model\n",
    "metrics = model.val(\n",
    "    imgsz=(1016, 1408),  # Image size for validation\n",
    "    device=0             # Use GPU or CPU\n",
    ")\n",
    "\n",
    "# Step 4: Print validation metrics\n",
    "print(\"Validation Metrics:\", metrics)\n"
   ]
  },
  {
   "cell_type": "code",
   "execution_count": null,
   "id": "381290ea",
   "metadata": {},
   "outputs": [],
   "source": []
  },
  {
   "cell_type": "code",
   "execution_count": null,
   "id": "7d71da80",
   "metadata": {},
   "outputs": [],
   "source": []
  },
  {
   "cell_type": "code",
   "execution_count": 4,
   "id": "4e953f48",
   "metadata": {
    "scrolled": true
   },
   "outputs": [
    {
     "name": "stdout",
     "output_type": "stream",
     "text": [
      "\n",
      "WARNING ⚠️ imgsz=[1016, 1400] must be multiple of max stride 32, updating to [1024, 1408]\n",
      "\n",
      "WARNING ⚠️ inference results will accumulate in RAM unless `stream=True` is passed, causing potential out-of-memory\n",
      "errors for large sources or long-running streams and videos. See https://docs.ultralytics.com/modes/predict/ for help.\n",
      "\n",
      "Example:\n",
      "    results = model(source=..., stream=True)  # generator of Results objects\n",
      "    for r in results:\n",
      "        boxes = r.boxes  # Boxes object for bbox outputs\n",
      "        masks = r.masks  # Masks object for segment masks outputs\n",
      "        probs = r.probs  # Class probabilities for classification outputs\n",
      "\n",
      "image 1/1996 /home/sahaj432/Desktop/NSPM_Lab/main_n_peak/code_v2/Dataset/UAB_unknown_patients/signal_plot_P0123_LAST1_LAST2_59.png: 1024x1408 (no detections), 19.1ms\n",
      "image 2/1996 /home/sahaj432/Desktop/NSPM_Lab/main_n_peak/code_v2/Dataset/UAB_unknown_patients/signal_plot_P0123_LAST1_LAST2_60.png: 1024x1408 1 N1, 19.0ms\n",
      "image 3/1996 /home/sahaj432/Desktop/NSPM_Lab/main_n_peak/code_v2/Dataset/UAB_unknown_patients/signal_plot_P0123_LAST1_LAST2_89.png: 1024x1408 1 Artifact, 19.3ms\n",
      "image 4/1996 /home/sahaj432/Desktop/NSPM_Lab/main_n_peak/code_v2/Dataset/UAB_unknown_patients/signal_plot_P0123_LAST1_LAST2_92.png: 1024x1408 1 N1, 1 N2, 19.0ms\n",
      "image 5/1996 /home/sahaj432/Desktop/NSPM_Lab/main_n_peak/code_v2/Dataset/UAB_unknown_patients/signal_plot_P0123_LAST1_LAST2_93.png: 1024x1408 1 N1, 1 N2, 19.0ms\n",
      "image 6/1996 /home/sahaj432/Desktop/NSPM_Lab/main_n_peak/code_v2/Dataset/UAB_unknown_patients/signal_plot_P0123_LAST1_LAST2_94.png: 1024x1408 1 N1, 1 N2, 19.0ms\n",
      "image 7/1996 /home/sahaj432/Desktop/NSPM_Lab/main_n_peak/code_v2/Dataset/UAB_unknown_patients/signal_plot_P0123_LAST2_LAST3_59.png: 1024x1408 1 N1, 19.0ms\n",
      "image 8/1996 /home/sahaj432/Desktop/NSPM_Lab/main_n_peak/code_v2/Dataset/UAB_unknown_patients/signal_plot_P0123_LAST2_LAST3_60.png: 1024x1408 1 N1, 1 N2, 19.0ms\n",
      "image 9/1996 /home/sahaj432/Desktop/NSPM_Lab/main_n_peak/code_v2/Dataset/UAB_unknown_patients/signal_plot_P0123_LAST2_LAST3_65.png: 1024x1408 1 N1, 1 N2, 19.0ms\n",
      "image 10/1996 /home/sahaj432/Desktop/NSPM_Lab/main_n_peak/code_v2/Dataset/UAB_unknown_patients/signal_plot_P0123_LAST2_LAST3_66.png: 1024x1408 2 N1s, 1 N2, 19.0ms\n",
      "image 11/1996 /home/sahaj432/Desktop/NSPM_Lab/main_n_peak/code_v2/Dataset/UAB_unknown_patients/signal_plot_P0123_LAST2_LAST3_71.png: 1024x1408 1 N1, 1 N2, 19.0ms\n",
      "image 12/1996 /home/sahaj432/Desktop/NSPM_Lab/main_n_peak/code_v2/Dataset/UAB_unknown_patients/signal_plot_P0123_LAST2_LAST3_94.png: 1024x1408 1 N1, 1 N2, 19.0ms\n",
      "image 13/1996 /home/sahaj432/Desktop/NSPM_Lab/main_n_peak/code_v2/Dataset/UAB_unknown_patients/signal_plot_P0123_LAST2_LAST3_95.png: 1024x1408 1 N1, 1 N2, 19.0ms\n",
      "image 14/1996 /home/sahaj432/Desktop/NSPM_Lab/main_n_peak/code_v2/Dataset/UAB_unknown_patients/signal_plot_P0123_LAST3_LAST4_59.png: 1024x1408 1 N1, 1 N2, 19.2ms\n",
      "image 15/1996 /home/sahaj432/Desktop/NSPM_Lab/main_n_peak/code_v2/Dataset/UAB_unknown_patients/signal_plot_P0123_LAST3_LAST4_60.png: 1024x1408 2 N1s, 1 N2, 19.0ms\n",
      "image 16/1996 /home/sahaj432/Desktop/NSPM_Lab/main_n_peak/code_v2/Dataset/UAB_unknown_patients/signal_plot_P0123_LAST3_LAST4_65.png: 1024x1408 1 N1, 1 N2, 19.0ms\n",
      "image 17/1996 /home/sahaj432/Desktop/NSPM_Lab/main_n_peak/code_v2/Dataset/UAB_unknown_patients/signal_plot_P0123_LAST3_LAST4_66.png: 1024x1408 1 N1, 1 N2, 19.0ms\n",
      "image 18/1996 /home/sahaj432/Desktop/NSPM_Lab/main_n_peak/code_v2/Dataset/UAB_unknown_patients/signal_plot_P0123_LAST3_LAST4_90.png: 1024x1408 1 N1, 1 N2, 19.0ms\n",
      "image 19/1996 /home/sahaj432/Desktop/NSPM_Lab/main_n_peak/code_v2/Dataset/UAB_unknown_patients/signal_plot_P0123_LAST3_LAST4_94.png: 1024x1408 1 N1, 1 N2, 19.1ms\n",
      "image 20/1996 /home/sahaj432/Desktop/NSPM_Lab/main_n_peak/code_v2/Dataset/UAB_unknown_patients/signal_plot_P0123_LAST3_LAST4_95.png: 1024x1408 1 N1, 1 N2, 19.0ms\n",
      "image 21/1996 /home/sahaj432/Desktop/NSPM_Lab/main_n_peak/code_v2/Dataset/UAB_unknown_patients/signal_plot_P0123_LG10_LG11_51.png: 1024x1408 2 N1s, 19.4ms\n",
      "image 22/1996 /home/sahaj432/Desktop/NSPM_Lab/main_n_peak/code_v2/Dataset/UAB_unknown_patients/signal_plot_P0123_LG10_LG11_64.png: 1024x1408 2 N1s, 1 N2, 19.0ms\n",
      "image 23/1996 /home/sahaj432/Desktop/NSPM_Lab/main_n_peak/code_v2/Dataset/UAB_unknown_patients/signal_plot_P0123_LG11_LG12_51.png: 1024x1408 1 N1, 1 N2, 19.0ms\n",
      "image 24/1996 /home/sahaj432/Desktop/NSPM_Lab/main_n_peak/code_v2/Dataset/UAB_unknown_patients/signal_plot_P0123_LG11_LG12_63.png: 1024x1408 1 N1, 2 N2s, 19.0ms\n",
      "image 25/1996 /home/sahaj432/Desktop/NSPM_Lab/main_n_peak/code_v2/Dataset/UAB_unknown_patients/signal_plot_P0123_LG11_LG12_64.png: 1024x1408 1 N1, 1 N2, 19.4ms\n",
      "image 26/1996 /home/sahaj432/Desktop/NSPM_Lab/main_n_peak/code_v2/Dataset/UAB_unknown_patients/signal_plot_P0123_LG13_LG14_65.png: 1024x1408 3 N1s, 1 N2, 19.0ms\n",
      "image 27/1996 /home/sahaj432/Desktop/NSPM_Lab/main_n_peak/code_v2/Dataset/UAB_unknown_patients/signal_plot_P0123_LG13_LG14_66.png: 1024x1408 1 N1, 2 N2s, 19.0ms\n",
      "image 28/1996 /home/sahaj432/Desktop/NSPM_Lab/main_n_peak/code_v2/Dataset/UAB_unknown_patients/signal_plot_P0123_LG13_LG14_68.png: 1024x1408 1 N1, 1 N2, 19.1ms\n",
      "image 29/1996 /home/sahaj432/Desktop/NSPM_Lab/main_n_peak/code_v2/Dataset/UAB_unknown_patients/signal_plot_P0123_LG14_LG15_67.png: 1024x1408 1 N1, 1 N2, 19.0ms\n",
      "image 30/1996 /home/sahaj432/Desktop/NSPM_Lab/main_n_peak/code_v2/Dataset/UAB_unknown_patients/signal_plot_P0123_LG15_LG16_67.png: 1024x1408 1 N1, 1 N2, 19.0ms\n",
      "image 31/1996 /home/sahaj432/Desktop/NSPM_Lab/main_n_peak/code_v2/Dataset/UAB_unknown_patients/signal_plot_P0123_LG15_LG16_68.png: 1024x1408 1 N1, 1 N2, 19.0ms\n",
      "image 32/1996 /home/sahaj432/Desktop/NSPM_Lab/main_n_peak/code_v2/Dataset/UAB_unknown_patients/signal_plot_P0123_LG15_LG16_69.png: 1024x1408 1 N1, 1 N2, 19.0ms\n",
      "image 33/1996 /home/sahaj432/Desktop/NSPM_Lab/main_n_peak/code_v2/Dataset/UAB_unknown_patients/signal_plot_P0123_LG15_LG16_71.png: 1024x1408 1 N1, 1 N2, 19.0ms\n",
      "image 34/1996 /home/sahaj432/Desktop/NSPM_Lab/main_n_peak/code_v2/Dataset/UAB_unknown_patients/signal_plot_P0123_LG15_LG16_72.png: 1024x1408 1 N1, 1 N2, 19.2ms\n",
      "image 35/1996 /home/sahaj432/Desktop/NSPM_Lab/main_n_peak/code_v2/Dataset/UAB_unknown_patients/signal_plot_P0123_LG15_LG16_73.png: 1024x1408 1 N1, 1 N2, 19.0ms\n",
      "image 36/1996 /home/sahaj432/Desktop/NSPM_Lab/main_n_peak/code_v2/Dataset/UAB_unknown_patients/signal_plot_P0123_LG16_LG17_65.png: 1024x1408 1 N1, 2 N2s, 19.0ms\n",
      "image 37/1996 /home/sahaj432/Desktop/NSPM_Lab/main_n_peak/code_v2/Dataset/UAB_unknown_patients/signal_plot_P0123_LG16_LG17_68.png: 1024x1408 1 N1, 1 N2, 19.4ms\n",
      "image 38/1996 /home/sahaj432/Desktop/NSPM_Lab/main_n_peak/code_v2/Dataset/UAB_unknown_patients/signal_plot_P0123_LG16_LG17_69.png: 1024x1408 1 N1, 1 N2, 19.0ms\n",
      "image 39/1996 /home/sahaj432/Desktop/NSPM_Lab/main_n_peak/code_v2/Dataset/UAB_unknown_patients/signal_plot_P0123_LG16_LG17_70.png: 1024x1408 1 N1, 1 N2, 20.0ms\n",
      "image 40/1996 /home/sahaj432/Desktop/NSPM_Lab/main_n_peak/code_v2/Dataset/UAB_unknown_patients/signal_plot_P0123_LG16_LG17_71.png: 1024x1408 1 N1, 1 N2, 19.1ms\n",
      "image 41/1996 /home/sahaj432/Desktop/NSPM_Lab/main_n_peak/code_v2/Dataset/UAB_unknown_patients/signal_plot_P0123_LG16_LG17_73.png: 1024x1408 1 N1, 1 N2, 19.1ms\n",
      "image 42/1996 /home/sahaj432/Desktop/NSPM_Lab/main_n_peak/code_v2/Dataset/UAB_unknown_patients/signal_plot_P0123_LG17_LG18_51.png: 1024x1408 1 N1, 2 N2s, 19.6ms\n",
      "image 43/1996 /home/sahaj432/Desktop/NSPM_Lab/main_n_peak/code_v2/Dataset/UAB_unknown_patients/signal_plot_P0123_LG17_LG18_52.png: 1024x1408 1 N1, 1 N2, 19.0ms\n",
      "image 44/1996 /home/sahaj432/Desktop/NSPM_Lab/main_n_peak/code_v2/Dataset/UAB_unknown_patients/signal_plot_P0123_LG17_LG18_57.png: 1024x1408 1 N1, 1 N2, 19.0ms\n",
      "image 45/1996 /home/sahaj432/Desktop/NSPM_Lab/main_n_peak/code_v2/Dataset/UAB_unknown_patients/signal_plot_P0123_LG17_LG18_58.png: 1024x1408 1 N1, 2 N2s, 19.0ms\n",
      "image 46/1996 /home/sahaj432/Desktop/NSPM_Lab/main_n_peak/code_v2/Dataset/UAB_unknown_patients/signal_plot_P0123_LG17_LG18_59.png: 1024x1408 1 N1, 1 N2, 19.0ms\n",
      "image 47/1996 /home/sahaj432/Desktop/NSPM_Lab/main_n_peak/code_v2/Dataset/UAB_unknown_patients/signal_plot_P0123_LG17_LG18_60.png: 1024x1408 1 N1, 1 N2, 19.5ms\n",
      "image 48/1996 /home/sahaj432/Desktop/NSPM_Lab/main_n_peak/code_v2/Dataset/UAB_unknown_patients/signal_plot_P0123_LG17_LG18_62.png: 1024x1408 1 N1, 1 N2, 19.0ms\n"
     ]
    },
    {
     "name": "stdout",
     "output_type": "stream",
     "text": [
      "image 49/1996 /home/sahaj432/Desktop/NSPM_Lab/main_n_peak/code_v2/Dataset/UAB_unknown_patients/signal_plot_P0123_LG17_LG18_68.png: 1024x1408 1 N1, 1 N2, 19.0ms\n",
      "image 50/1996 /home/sahaj432/Desktop/NSPM_Lab/main_n_peak/code_v2/Dataset/UAB_unknown_patients/signal_plot_P0123_LG17_LG18_70.png: 1024x1408 1 N1, 1 N2, 19.4ms\n",
      "image 51/1996 /home/sahaj432/Desktop/NSPM_Lab/main_n_peak/code_v2/Dataset/UAB_unknown_patients/signal_plot_P0123_LG19_LG20_59.png: 1024x1408 1 N1, 1 N2, 19.0ms\n",
      "image 52/1996 /home/sahaj432/Desktop/NSPM_Lab/main_n_peak/code_v2/Dataset/UAB_unknown_patients/signal_plot_P0123_LG19_LG20_60.png: 1024x1408 2 N1s, 1 N2, 19.5ms\n",
      "image 53/1996 /home/sahaj432/Desktop/NSPM_Lab/main_n_peak/code_v2/Dataset/UAB_unknown_patients/signal_plot_P0123_LG19_LG20_62.png: 1024x1408 1 N1, 1 N2, 19.2ms\n",
      "image 54/1996 /home/sahaj432/Desktop/NSPM_Lab/main_n_peak/code_v2/Dataset/UAB_unknown_patients/signal_plot_P0123_LG19_LG20_63.png: 1024x1408 2 N1s, 2 N2s, 19.0ms\n",
      "image 55/1996 /home/sahaj432/Desktop/NSPM_Lab/main_n_peak/code_v2/Dataset/UAB_unknown_patients/signal_plot_P0123_LG19_LG20_68.png: 1024x1408 1 N1, 1 N2, 19.0ms\n",
      "image 56/1996 /home/sahaj432/Desktop/NSPM_Lab/main_n_peak/code_v2/Dataset/UAB_unknown_patients/signal_plot_P0123_LG19_LG20_69.png: 1024x1408 1 N1, 1 N2, 19.0ms\n",
      "image 57/1996 /home/sahaj432/Desktop/NSPM_Lab/main_n_peak/code_v2/Dataset/UAB_unknown_patients/signal_plot_P0123_LG20_LG21_59.png: 1024x1408 1 N1, 1 N2, 19.4ms\n",
      "image 58/1996 /home/sahaj432/Desktop/NSPM_Lab/main_n_peak/code_v2/Dataset/UAB_unknown_patients/signal_plot_P0123_LG20_LG21_60.png: 1024x1408 1 N1, 1 N2, 19.0ms\n",
      "image 59/1996 /home/sahaj432/Desktop/NSPM_Lab/main_n_peak/code_v2/Dataset/UAB_unknown_patients/signal_plot_P0123_LG20_LG21_65.png: 1024x1408 1 N1, 1 N2, 19.0ms\n",
      "image 60/1996 /home/sahaj432/Desktop/NSPM_Lab/main_n_peak/code_v2/Dataset/UAB_unknown_patients/signal_plot_P0123_LG21_LG22_62.png: 1024x1408 1 N1, 1 N2, 19.0ms\n",
      "image 61/1996 /home/sahaj432/Desktop/NSPM_Lab/main_n_peak/code_v2/Dataset/UAB_unknown_patients/signal_plot_P0123_LG21_LG22_63.png: 1024x1408 1 N1, 1 N2, 19.0ms\n",
      "image 62/1996 /home/sahaj432/Desktop/NSPM_Lab/main_n_peak/code_v2/Dataset/UAB_unknown_patients/signal_plot_P0123_LG21_LG22_66.png: 1024x1408 1 N1, 2 N2s, 19.3ms\n",
      "image 63/1996 /home/sahaj432/Desktop/NSPM_Lab/main_n_peak/code_v2/Dataset/UAB_unknown_patients/signal_plot_P0123_LG21_LG22_71.png: 1024x1408 1 N1, 1 N2, 19.0ms\n",
      "image 64/1996 /home/sahaj432/Desktop/NSPM_Lab/main_n_peak/code_v2/Dataset/UAB_unknown_patients/signal_plot_P0123_LG21_LG22_72.png: 1024x1408 2 N1s, 1 N2, 19.3ms\n",
      "image 65/1996 /home/sahaj432/Desktop/NSPM_Lab/main_n_peak/code_v2/Dataset/UAB_unknown_patients/signal_plot_P0123_LG21_LG22_73.png: 1024x1408 1 N1, 1 N2, 19.0ms\n",
      "image 66/1996 /home/sahaj432/Desktop/NSPM_Lab/main_n_peak/code_v2/Dataset/UAB_unknown_patients/signal_plot_P0123_LG21_LG22_74.png: 1024x1408 2 N1s, 1 N2, 19.0ms\n",
      "image 67/1996 /home/sahaj432/Desktop/NSPM_Lab/main_n_peak/code_v2/Dataset/UAB_unknown_patients/signal_plot_P0123_LG22_LG23_60.png: 1024x1408 2 N1s, 19.0ms\n",
      "image 68/1996 /home/sahaj432/Desktop/NSPM_Lab/main_n_peak/code_v2/Dataset/UAB_unknown_patients/signal_plot_P0123_LG22_LG23_62.png: 1024x1408 1 N1, 1 N2, 19.2ms\n",
      "image 69/1996 /home/sahaj432/Desktop/NSPM_Lab/main_n_peak/code_v2/Dataset/UAB_unknown_patients/signal_plot_P0123_LG22_LG23_63.png: 1024x1408 1 N2, 19.3ms\n",
      "image 70/1996 /home/sahaj432/Desktop/NSPM_Lab/main_n_peak/code_v2/Dataset/UAB_unknown_patients/signal_plot_P0123_LG22_LG23_65.png: 1024x1408 1 N1, 1 N2, 19.1ms\n",
      "image 71/1996 /home/sahaj432/Desktop/NSPM_Lab/main_n_peak/code_v2/Dataset/UAB_unknown_patients/signal_plot_P0123_LG22_LG23_66.png: 1024x1408 1 N1, 1 N2, 19.6ms\n",
      "image 72/1996 /home/sahaj432/Desktop/NSPM_Lab/main_n_peak/code_v2/Dataset/UAB_unknown_patients/signal_plot_P0123_LG22_LG23_67.png: 1024x1408 1 N1, 1 N2, 19.0ms\n",
      "image 73/1996 /home/sahaj432/Desktop/NSPM_Lab/main_n_peak/code_v2/Dataset/UAB_unknown_patients/signal_plot_P0123_LG22_LG23_71.png: 1024x1408 1 N1, 1 N2, 19.0ms\n",
      "image 74/1996 /home/sahaj432/Desktop/NSPM_Lab/main_n_peak/code_v2/Dataset/UAB_unknown_patients/signal_plot_P0123_LG22_LG23_72.png: 1024x1408 1 Artifact, 1 N1, 20.0ms\n",
      "image 75/1996 /home/sahaj432/Desktop/NSPM_Lab/main_n_peak/code_v2/Dataset/UAB_unknown_patients/signal_plot_P0123_LG22_LG23_73.png: 1024x1408 1 N1, 1 N2, 19.0ms\n",
      "image 76/1996 /home/sahaj432/Desktop/NSPM_Lab/main_n_peak/code_v2/Dataset/UAB_unknown_patients/signal_plot_P0123_LG23_LG24_57.png: 1024x1408 1 N1, 1 N2, 20.0ms\n",
      "image 77/1996 /home/sahaj432/Desktop/NSPM_Lab/main_n_peak/code_v2/Dataset/UAB_unknown_patients/signal_plot_P0123_LG23_LG24_58.png: 1024x1408 1 N2, 19.1ms\n",
      "image 78/1996 /home/sahaj432/Desktop/NSPM_Lab/main_n_peak/code_v2/Dataset/UAB_unknown_patients/signal_plot_P0123_LG23_LG24_62.png: 1024x1408 1 N1, 1 N2, 19.0ms\n",
      "image 79/1996 /home/sahaj432/Desktop/NSPM_Lab/main_n_peak/code_v2/Dataset/UAB_unknown_patients/signal_plot_P0123_LG23_LG24_63.png: 1024x1408 1 N1, 1 N2, 19.2ms\n",
      "image 80/1996 /home/sahaj432/Desktop/NSPM_Lab/main_n_peak/code_v2/Dataset/UAB_unknown_patients/signal_plot_P0123_LG23_LG24_65.png: 1024x1408 1 N1, 1 N2, 19.5ms\n",
      "image 81/1996 /home/sahaj432/Desktop/NSPM_Lab/main_n_peak/code_v2/Dataset/UAB_unknown_patients/signal_plot_P0123_LG23_LG24_68.png: 1024x1408 1 N1, 1 N2, 19.0ms\n",
      "image 82/1996 /home/sahaj432/Desktop/NSPM_Lab/main_n_peak/code_v2/Dataset/UAB_unknown_patients/signal_plot_P0123_LG23_LG24_72.png: 1024x1408 1 N1, 19.0ms\n",
      "image 83/1996 /home/sahaj432/Desktop/NSPM_Lab/main_n_peak/code_v2/Dataset/UAB_unknown_patients/signal_plot_P0123_LG23_LG24_73.png: 1024x1408 1 N1, 1 N2, 19.0ms\n",
      "image 84/1996 /home/sahaj432/Desktop/NSPM_Lab/main_n_peak/code_v2/Dataset/UAB_unknown_patients/signal_plot_P0123_LG23_LG24_75.png: 1024x1408 1 N1, 1 N2, 19.0ms\n",
      "image 85/1996 /home/sahaj432/Desktop/NSPM_Lab/main_n_peak/code_v2/Dataset/UAB_unknown_patients/signal_plot_P0123_LG25_LG26_62.png: 1024x1408 1 N1, 2 N2s, 19.0ms\n",
      "image 86/1996 /home/sahaj432/Desktop/NSPM_Lab/main_n_peak/code_v2/Dataset/UAB_unknown_patients/signal_plot_P0123_LG25_LG26_63.png: 1024x1408 1 N1, 1 N2, 19.0ms\n",
      "image 87/1996 /home/sahaj432/Desktop/NSPM_Lab/main_n_peak/code_v2/Dataset/UAB_unknown_patients/signal_plot_P0123_LG25_LG26_67.png: 1024x1408 1 N1, 2 N2s, 19.1ms\n",
      "image 88/1996 /home/sahaj432/Desktop/NSPM_Lab/main_n_peak/code_v2/Dataset/UAB_unknown_patients/signal_plot_P0123_LG25_LG26_68.png: 1024x1408 1 N1, 1 N2, 19.0ms\n",
      "image 89/1996 /home/sahaj432/Desktop/NSPM_Lab/main_n_peak/code_v2/Dataset/UAB_unknown_patients/signal_plot_P0123_LG25_LG26_69.png: 1024x1408 1 Artifact, 1 N2, 19.0ms\n",
      "image 90/1996 /home/sahaj432/Desktop/NSPM_Lab/main_n_peak/code_v2/Dataset/UAB_unknown_patients/signal_plot_P0123_LG25_LG26_70.png: 1024x1408 1 N1, 1 N2, 19.0ms\n",
      "image 91/1996 /home/sahaj432/Desktop/NSPM_Lab/main_n_peak/code_v2/Dataset/UAB_unknown_patients/signal_plot_P0123_LG25_LG26_74.png: 1024x1408 1 N1, 1 N2, 19.0ms\n",
      "image 92/1996 /home/sahaj432/Desktop/NSPM_Lab/main_n_peak/code_v2/Dataset/UAB_unknown_patients/signal_plot_P0123_LG25_LG26_75.png: 1024x1408 1 N1, 1 N2, 19.0ms\n",
      "image 93/1996 /home/sahaj432/Desktop/NSPM_Lab/main_n_peak/code_v2/Dataset/UAB_unknown_patients/signal_plot_P0123_LG25_LG26_76.png: 1024x1408 1 N1, 2 N2s, 19.0ms\n",
      "image 94/1996 /home/sahaj432/Desktop/NSPM_Lab/main_n_peak/code_v2/Dataset/UAB_unknown_patients/signal_plot_P0123_LG25_LG26_77.png: 1024x1408 1 N1, 1 N2, 19.0ms\n",
      "image 95/1996 /home/sahaj432/Desktop/NSPM_Lab/main_n_peak/code_v2/Dataset/UAB_unknown_patients/signal_plot_P0123_LG25_LG26_78.png: 1024x1408 1 N1, 1 N2, 19.1ms\n",
      "image 96/1996 /home/sahaj432/Desktop/NSPM_Lab/main_n_peak/code_v2/Dataset/UAB_unknown_patients/signal_plot_P0123_LG26_LG27_57.png: 1024x1408 1 N1, 1 N2, 19.3ms\n",
      "image 97/1996 /home/sahaj432/Desktop/NSPM_Lab/main_n_peak/code_v2/Dataset/UAB_unknown_patients/signal_plot_P0123_LG26_LG27_58.png: 1024x1408 1 N1, 1 N2, 19.0ms\n",
      "image 98/1996 /home/sahaj432/Desktop/NSPM_Lab/main_n_peak/code_v2/Dataset/UAB_unknown_patients/signal_plot_P0123_LG26_LG27_60.png: 1024x1408 1 N1, 1 N2, 19.2ms\n",
      "image 99/1996 /home/sahaj432/Desktop/NSPM_Lab/main_n_peak/code_v2/Dataset/UAB_unknown_patients/signal_plot_P0123_LG26_LG27_62.png: 1024x1408 1 N1, 1 N2, 19.2ms\n",
      "image 100/1996 /home/sahaj432/Desktop/NSPM_Lab/main_n_peak/code_v2/Dataset/UAB_unknown_patients/signal_plot_P0123_LG26_LG27_63.png: 1024x1408 2 N1s, 1 N2, 19.0ms\n"
     ]
    },
    {
     "name": "stdout",
     "output_type": "stream",
     "text": [
      "image 101/1996 /home/sahaj432/Desktop/NSPM_Lab/main_n_peak/code_v2/Dataset/UAB_unknown_patients/signal_plot_P0123_LG26_LG27_64.png: 1024x1408 1 N1, 1 N2, 19.0ms\n",
      "image 102/1996 /home/sahaj432/Desktop/NSPM_Lab/main_n_peak/code_v2/Dataset/UAB_unknown_patients/signal_plot_P0123_LG26_LG27_65.png: 1024x1408 2 N1s, 1 N2, 19.0ms\n",
      "image 103/1996 /home/sahaj432/Desktop/NSPM_Lab/main_n_peak/code_v2/Dataset/UAB_unknown_patients/signal_plot_P0123_LG26_LG27_67.png: 1024x1408 1 N1, 2 N2s, 19.0ms\n",
      "image 104/1996 /home/sahaj432/Desktop/NSPM_Lab/main_n_peak/code_v2/Dataset/UAB_unknown_patients/signal_plot_P0123_LG26_LG27_68.png: 1024x1408 1 N1, 1 N2, 19.0ms\n",
      "image 105/1996 /home/sahaj432/Desktop/NSPM_Lab/main_n_peak/code_v2/Dataset/UAB_unknown_patients/signal_plot_P0123_LG26_LG27_69.png: 1024x1408 1 N1, 1 N2, 19.0ms\n",
      "image 106/1996 /home/sahaj432/Desktop/NSPM_Lab/main_n_peak/code_v2/Dataset/UAB_unknown_patients/signal_plot_P0123_LG26_LG27_71.png: 1024x1408 3 N1s, 1 N2, 19.0ms\n",
      "image 107/1996 /home/sahaj432/Desktop/NSPM_Lab/main_n_peak/code_v2/Dataset/UAB_unknown_patients/signal_plot_P0123_LG26_LG27_76.png: 1024x1408 2 N1s, 1 N2, 19.0ms\n",
      "image 108/1996 /home/sahaj432/Desktop/NSPM_Lab/main_n_peak/code_v2/Dataset/UAB_unknown_patients/signal_plot_P0123_LG27_LG28_57.png: 1024x1408 1 N1, 1 N2, 19.0ms\n",
      "image 109/1996 /home/sahaj432/Desktop/NSPM_Lab/main_n_peak/code_v2/Dataset/UAB_unknown_patients/signal_plot_P0123_LG27_LG28_58.png: 1024x1408 1 N1, 1 N2, 19.0ms\n",
      "image 110/1996 /home/sahaj432/Desktop/NSPM_Lab/main_n_peak/code_v2/Dataset/UAB_unknown_patients/signal_plot_P0123_LG27_LG28_62.png: 1024x1408 1 N1, 1 N2, 19.0ms\n",
      "image 111/1996 /home/sahaj432/Desktop/NSPM_Lab/main_n_peak/code_v2/Dataset/UAB_unknown_patients/signal_plot_P0123_LG27_LG28_63.png: 1024x1408 1 N1, 1 N2, 19.0ms\n",
      "image 112/1996 /home/sahaj432/Desktop/NSPM_Lab/main_n_peak/code_v2/Dataset/UAB_unknown_patients/signal_plot_P0123_LG27_LG28_64.png: 1024x1408 1 N2, 19.0ms\n",
      "image 113/1996 /home/sahaj432/Desktop/NSPM_Lab/main_n_peak/code_v2/Dataset/UAB_unknown_patients/signal_plot_P0123_LG27_LG28_65.png: 1024x1408 1 N1, 1 N2, 19.2ms\n",
      "image 114/1996 /home/sahaj432/Desktop/NSPM_Lab/main_n_peak/code_v2/Dataset/UAB_unknown_patients/signal_plot_P0123_LG27_LG28_67.png: 1024x1408 1 N1, 1 N2, 19.0ms\n",
      "image 115/1996 /home/sahaj432/Desktop/NSPM_Lab/main_n_peak/code_v2/Dataset/UAB_unknown_patients/signal_plot_P0123_LG27_LG28_68.png: 1024x1408 1 N1, 1 N2, 19.1ms\n",
      "image 116/1996 /home/sahaj432/Desktop/NSPM_Lab/main_n_peak/code_v2/Dataset/UAB_unknown_patients/signal_plot_P0123_LG27_LG28_69.png: 1024x1408 1 N1, 1 N2, 19.0ms\n",
      "image 117/1996 /home/sahaj432/Desktop/NSPM_Lab/main_n_peak/code_v2/Dataset/UAB_unknown_patients/signal_plot_P0123_LG27_LG28_71.png: 1024x1408 2 N1s, 1 N2, 19.0ms\n",
      "image 118/1996 /home/sahaj432/Desktop/NSPM_Lab/main_n_peak/code_v2/Dataset/UAB_unknown_patients/signal_plot_P0123_LG27_LG28_76.png: 1024x1408 1 N1, 1 N2, 19.4ms\n",
      "image 119/1996 /home/sahaj432/Desktop/NSPM_Lab/main_n_peak/code_v2/Dataset/UAB_unknown_patients/signal_plot_P0123_LG28_LG29_62.png: 1024x1408 1 N1, 1 N2, 19.0ms\n",
      "image 120/1996 /home/sahaj432/Desktop/NSPM_Lab/main_n_peak/code_v2/Dataset/UAB_unknown_patients/signal_plot_P0123_LG28_LG29_63.png: 1024x1408 1 N1, 1 N2, 19.0ms\n",
      "image 121/1996 /home/sahaj432/Desktop/NSPM_Lab/main_n_peak/code_v2/Dataset/UAB_unknown_patients/signal_plot_P0123_LG28_LG29_67.png: 1024x1408 1 N1, 2 N2s, 19.0ms\n",
      "image 122/1996 /home/sahaj432/Desktop/NSPM_Lab/main_n_peak/code_v2/Dataset/UAB_unknown_patients/signal_plot_P0123_LG28_LG29_68.png: 1024x1408 1 N1, 1 N2, 19.0ms\n",
      "image 123/1996 /home/sahaj432/Desktop/NSPM_Lab/main_n_peak/code_v2/Dataset/UAB_unknown_patients/signal_plot_P0123_LG28_LG29_69.png: 1024x1408 1 N1, 2 N2s, 19.0ms\n",
      "image 124/1996 /home/sahaj432/Desktop/NSPM_Lab/main_n_peak/code_v2/Dataset/UAB_unknown_patients/signal_plot_P0123_LG28_LG29_71.png: 1024x1408 1 N1, 1 N2, 19.0ms\n",
      "image 125/1996 /home/sahaj432/Desktop/NSPM_Lab/main_n_peak/code_v2/Dataset/UAB_unknown_patients/signal_plot_P0123_LG28_LG29_73.png: 1024x1408 1 N1, 1 N2, 19.0ms\n",
      "image 126/1996 /home/sahaj432/Desktop/NSPM_Lab/main_n_peak/code_v2/Dataset/UAB_unknown_patients/signal_plot_P0123_LG28_LG29_77.png: 1024x1408 1 N1, 1 N2, 19.1ms\n",
      "image 127/1996 /home/sahaj432/Desktop/NSPM_Lab/main_n_peak/code_v2/Dataset/UAB_unknown_patients/signal_plot_P0123_LG28_LG29_79.png: 1024x1408 1 N1, 1 N2, 19.0ms\n",
      "image 128/1996 /home/sahaj432/Desktop/NSPM_Lab/main_n_peak/code_v2/Dataset/UAB_unknown_patients/signal_plot_P0123_LG29_LG30_57.png: 1024x1408 1 N2, 19.0ms\n",
      "image 129/1996 /home/sahaj432/Desktop/NSPM_Lab/main_n_peak/code_v2/Dataset/UAB_unknown_patients/signal_plot_P0123_LG29_LG30_58.png: 1024x1408 1 N2, 19.0ms\n",
      "image 130/1996 /home/sahaj432/Desktop/NSPM_Lab/main_n_peak/code_v2/Dataset/UAB_unknown_patients/signal_plot_P0123_LG29_LG30_62.png: 1024x1408 1 N1, 1 N2, 19.3ms\n",
      "image 131/1996 /home/sahaj432/Desktop/NSPM_Lab/main_n_peak/code_v2/Dataset/UAB_unknown_patients/signal_plot_P0123_LG29_LG30_63.png: 1024x1408 1 N1, 1 N2, 19.0ms\n",
      "image 132/1996 /home/sahaj432/Desktop/NSPM_Lab/main_n_peak/code_v2/Dataset/UAB_unknown_patients/signal_plot_P0123_LG29_LG30_64.png: 1024x1408 1 N2, 19.0ms\n",
      "image 133/1996 /home/sahaj432/Desktop/NSPM_Lab/main_n_peak/code_v2/Dataset/UAB_unknown_patients/signal_plot_P0123_LG29_LG30_67.png: 1024x1408 1 N2, 19.2ms\n",
      "image 134/1996 /home/sahaj432/Desktop/NSPM_Lab/main_n_peak/code_v2/Dataset/UAB_unknown_patients/signal_plot_P0123_LG29_LG30_68.png: 1024x1408 1 N1, 1 N2, 19.0ms\n",
      "image 135/1996 /home/sahaj432/Desktop/NSPM_Lab/main_n_peak/code_v2/Dataset/UAB_unknown_patients/signal_plot_P0123_LG29_LG30_69.png: 1024x1408 1 N1, 1 N2, 19.2ms\n",
      "image 136/1996 /home/sahaj432/Desktop/NSPM_Lab/main_n_peak/code_v2/Dataset/UAB_unknown_patients/signal_plot_P0123_LG29_LG30_71.png: 1024x1408 1 N1, 1 N2, 19.0ms\n",
      "image 137/1996 /home/sahaj432/Desktop/NSPM_Lab/main_n_peak/code_v2/Dataset/UAB_unknown_patients/signal_plot_P0123_LG29_LG30_73.png: 1024x1408 1 N1, 1 N2, 19.0ms\n",
      "image 138/1996 /home/sahaj432/Desktop/NSPM_Lab/main_n_peak/code_v2/Dataset/UAB_unknown_patients/signal_plot_P0123_LG29_LG30_74.png: 1024x1408 1 N2, 19.0ms\n",
      "image 139/1996 /home/sahaj432/Desktop/NSPM_Lab/main_n_peak/code_v2/Dataset/UAB_unknown_patients/signal_plot_P0123_LG31_LG32_67.png: 1024x1408 1 N2, 19.1ms\n",
      "image 140/1996 /home/sahaj432/Desktop/NSPM_Lab/main_n_peak/code_v2/Dataset/UAB_unknown_patients/signal_plot_P0123_LG31_LG32_71.png: 1024x1408 1 N1, 1 N2, 19.0ms\n",
      "image 141/1996 /home/sahaj432/Desktop/NSPM_Lab/main_n_peak/code_v2/Dataset/UAB_unknown_patients/signal_plot_P0123_LG31_LG32_72.png: 1024x1408 1 N1, 1 N2, 19.0ms\n",
      "image 142/1996 /home/sahaj432/Desktop/NSPM_Lab/main_n_peak/code_v2/Dataset/UAB_unknown_patients/signal_plot_P0123_LG31_LG32_74.png: 1024x1408 1 N1, 1 N2, 19.0ms\n",
      "image 143/1996 /home/sahaj432/Desktop/NSPM_Lab/main_n_peak/code_v2/Dataset/UAB_unknown_patients/signal_plot_P0123_LG31_LG32_76.png: 1024x1408 1 N1, 1 N2, 19.2ms\n",
      "image 144/1996 /home/sahaj432/Desktop/NSPM_Lab/main_n_peak/code_v2/Dataset/UAB_unknown_patients/signal_plot_P0123_LG31_LG32_80.png: 1024x1408 1 N1, 1 N2, 19.1ms\n",
      "image 145/1996 /home/sahaj432/Desktop/NSPM_Lab/main_n_peak/code_v2/Dataset/UAB_unknown_patients/signal_plot_P0123_LG32_LG33_58.png: 1024x1408 2 N2s, 19.0ms\n",
      "image 146/1996 /home/sahaj432/Desktop/NSPM_Lab/main_n_peak/code_v2/Dataset/UAB_unknown_patients/signal_plot_P0123_LG32_LG33_62.png: 1024x1408 2 N1s, 1 N2, 19.0ms\n",
      "image 147/1996 /home/sahaj432/Desktop/NSPM_Lab/main_n_peak/code_v2/Dataset/UAB_unknown_patients/signal_plot_P0123_LG32_LG33_73.png: 1024x1408 1 N2, 19.0ms\n",
      "image 148/1996 /home/sahaj432/Desktop/NSPM_Lab/main_n_peak/code_v2/Dataset/UAB_unknown_patients/signal_plot_P0123_LG32_LG33_74.png: 1024x1408 1 N1, 1 N2, 19.3ms\n",
      "image 149/1996 /home/sahaj432/Desktop/NSPM_Lab/main_n_peak/code_v2/Dataset/UAB_unknown_patients/signal_plot_P0123_LG32_LG33_77.png: 1024x1408 1 N1, 1 N2, 19.0ms\n",
      "image 150/1996 /home/sahaj432/Desktop/NSPM_Lab/main_n_peak/code_v2/Dataset/UAB_unknown_patients/signal_plot_P0123_LG32_LG33_81.png: 1024x1408 1 N1, 1 N2, 19.1ms\n",
      "image 151/1996 /home/sahaj432/Desktop/NSPM_Lab/main_n_peak/code_v2/Dataset/UAB_unknown_patients/signal_plot_P0123_LG34_LG35_68.png: 1024x1408 1 N1, 1 N2, 19.0ms\n",
      "image 152/1996 /home/sahaj432/Desktop/NSPM_Lab/main_n_peak/code_v2/Dataset/UAB_unknown_patients/signal_plot_P0123_LG34_LG35_70.png: 1024x1408 1 N1, 1 N2, 19.1ms\n"
     ]
    },
    {
     "name": "stdout",
     "output_type": "stream",
     "text": [
      "image 153/1996 /home/sahaj432/Desktop/NSPM_Lab/main_n_peak/code_v2/Dataset/UAB_unknown_patients/signal_plot_P0123_LG34_LG35_71.png: 1024x1408 1 N1, 1 N2, 19.0ms\n",
      "image 154/1996 /home/sahaj432/Desktop/NSPM_Lab/main_n_peak/code_v2/Dataset/UAB_unknown_patients/signal_plot_P0123_LG34_LG35_72.png: 1024x1408 1 N2, 19.0ms\n",
      "image 155/1996 /home/sahaj432/Desktop/NSPM_Lab/main_n_peak/code_v2/Dataset/UAB_unknown_patients/signal_plot_P0123_LG34_LG35_74.png: 1024x1408 1 N1, 1 N2, 19.1ms\n",
      "image 156/1996 /home/sahaj432/Desktop/NSPM_Lab/main_n_peak/code_v2/Dataset/UAB_unknown_patients/signal_plot_P0123_LG34_LG35_77.png: 1024x1408 1 N1, 1 N2, 19.0ms\n",
      "image 157/1996 /home/sahaj432/Desktop/NSPM_Lab/main_n_peak/code_v2/Dataset/UAB_unknown_patients/signal_plot_P0123_LG4_LG5_57.png: 1024x1408 1 N1, 1 N2, 19.0ms\n",
      "image 158/1996 /home/sahaj432/Desktop/NSPM_Lab/main_n_peak/code_v2/Dataset/UAB_unknown_patients/signal_plot_P0123_LG4_LG5_58.png: 1024x1408 1 N1, 1 N2, 19.0ms\n",
      "image 159/1996 /home/sahaj432/Desktop/NSPM_Lab/main_n_peak/code_v2/Dataset/UAB_unknown_patients/signal_plot_P0123_LG5_LG6_55.png: 1024x1408 1 Artifact, 19.0ms\n",
      "image 160/1996 /home/sahaj432/Desktop/NSPM_Lab/main_n_peak/code_v2/Dataset/UAB_unknown_patients/signal_plot_P0123_LG5_LG6_57.png: 1024x1408 1 N1, 1 N2, 19.4ms\n",
      "image 161/1996 /home/sahaj432/Desktop/NSPM_Lab/main_n_peak/code_v2/Dataset/UAB_unknown_patients/signal_plot_P0123_LG5_LG6_58.png: 1024x1408 1 N1, 1 N2, 19.0ms\n",
      "image 162/1996 /home/sahaj432/Desktop/NSPM_Lab/main_n_peak/code_v2/Dataset/UAB_unknown_patients/signal_plot_P0123_LG8_LG9_51.png: 1024x1408 1 Artifact, 19.2ms\n",
      "image 163/1996 /home/sahaj432/Desktop/NSPM_Lab/main_n_peak/code_v2/Dataset/UAB_unknown_patients/signal_plot_P0123_LPIN3_LPIN4_33.png: 1024x1408 1 N1, 1 N2, 19.0ms\n",
      "image 164/1996 /home/sahaj432/Desktop/NSPM_Lab/main_n_peak/code_v2/Dataset/UAB_unknown_patients/signal_plot_P0123_LPIN3_LPIN4_62.png: 1024x1408 1 N1, 1 N2, 19.0ms\n",
      "image 165/1996 /home/sahaj432/Desktop/NSPM_Lab/main_n_peak/code_v2/Dataset/UAB_unknown_patients/signal_plot_P0123_LPIN3_LPIN4_63.png: 1024x1408 1 N1, 2 N2s, 19.0ms\n",
      "image 166/1996 /home/sahaj432/Desktop/NSPM_Lab/main_n_peak/code_v2/Dataset/UAB_unknown_patients/signal_plot_P0123_LPIN3_LPIN4_68.png: 1024x1408 1 N1, 1 N2, 19.0ms\n",
      "image 167/1996 /home/sahaj432/Desktop/NSPM_Lab/main_n_peak/code_v2/Dataset/UAB_unknown_patients/signal_plot_P0123_LPIN3_LPIN4_69.png: 1024x1408 1 N1, 1 N2, 19.0ms\n",
      "image 168/1996 /home/sahaj432/Desktop/NSPM_Lab/main_n_peak/code_v2/Dataset/UAB_unknown_patients/signal_plot_P0123_LPIN3_LPIN4_71.png: 1024x1408 2 N1s, 1 N2, 19.0ms\n",
      "image 169/1996 /home/sahaj432/Desktop/NSPM_Lab/main_n_peak/code_v2/Dataset/UAB_unknown_patients/signal_plot_P0123_LPIN3_LPIN4_73.png: 1024x1408 1 N1, 1 N2, 19.0ms\n",
      "image 170/1996 /home/sahaj432/Desktop/NSPM_Lab/main_n_peak/code_v2/Dataset/UAB_unknown_patients/signal_plot_P0123_LPIN9_LPIN10_43.png: 1024x1408 1 N1, 1 N2, 19.0ms\n",
      "image 171/1996 /home/sahaj432/Desktop/NSPM_Lab/main_n_peak/code_v2/Dataset/UAB_unknown_patients/signal_plot_P0123_LPST1_LPST2_90.png: 1024x1408 1 N1, 1 N2, 19.0ms\n",
      "image 172/1996 /home/sahaj432/Desktop/NSPM_Lab/main_n_peak/code_v2/Dataset/UAB_unknown_patients/signal_plot_P0123_LPST1_LPST2_91.png: 1024x1408 1 N1, 1 N2, 19.0ms\n",
      "image 173/1996 /home/sahaj432/Desktop/NSPM_Lab/main_n_peak/code_v2/Dataset/UAB_unknown_patients/signal_plot_P0123_LPST2_LPST3_59.png: 1024x1408 1 N1, 1 N2, 19.0ms\n",
      "image 174/1996 /home/sahaj432/Desktop/NSPM_Lab/main_n_peak/code_v2/Dataset/UAB_unknown_patients/signal_plot_P0123_LPST2_LPST3_60.png: 1024x1408 1 N1, 1 N2, 19.0ms\n",
      "image 175/1996 /home/sahaj432/Desktop/NSPM_Lab/main_n_peak/code_v2/Dataset/UAB_unknown_patients/signal_plot_P0123_LPST2_LPST3_65.png: 1024x1408 1 N1, 1 N2, 19.2ms\n",
      "image 176/1996 /home/sahaj432/Desktop/NSPM_Lab/main_n_peak/code_v2/Dataset/UAB_unknown_patients/signal_plot_P0123_LPST2_LPST3_66.png: 1024x1408 1 N1, 1 N2, 19.0ms\n",
      "image 177/1996 /home/sahaj432/Desktop/NSPM_Lab/main_n_peak/code_v2/Dataset/UAB_unknown_patients/signal_plot_P0123_LPST2_LPST3_90.png: 1024x1408 1 N1, 1 N2, 19.2ms\n",
      "image 178/1996 /home/sahaj432/Desktop/NSPM_Lab/main_n_peak/code_v2/Dataset/UAB_unknown_patients/signal_plot_P0123_LPST3_LPST4_59.png: 1024x1408 1 N1, 1 N2, 19.0ms\n",
      "image 179/1996 /home/sahaj432/Desktop/NSPM_Lab/main_n_peak/code_v2/Dataset/UAB_unknown_patients/signal_plot_P0123_LPST3_LPST4_60.png: 1024x1408 2 N1s, 1 N2, 19.0ms\n",
      "image 180/1996 /home/sahaj432/Desktop/NSPM_Lab/main_n_peak/code_v2/Dataset/UAB_unknown_patients/signal_plot_P0123_LPST3_LPST4_65.png: 1024x1408 1 N1, 1 N2, 19.0ms\n",
      "image 181/1996 /home/sahaj432/Desktop/NSPM_Lab/main_n_peak/code_v2/Dataset/UAB_unknown_patients/signal_plot_P0123_LPST3_LPST4_66.png: 1024x1408 1 N1, 1 N2, 19.1ms\n",
      "image 182/1996 /home/sahaj432/Desktop/NSPM_Lab/main_n_peak/code_v2/Dataset/UAB_unknown_patients/signal_plot_P0123_LPST3_LPST4_91.png: 1024x1408 1 N1, 2 N2s, 19.0ms\n",
      "image 183/1996 /home/sahaj432/Desktop/NSPM_Lab/main_n_peak/code_v2/Dataset/UAB_unknown_patients/signal_plot_P0123_RA1_RA2_13.png: 1024x1408 2 N1s, 1 N2, 19.2ms\n",
      "image 184/1996 /home/sahaj432/Desktop/NSPM_Lab/main_n_peak/code_v2/Dataset/UAB_unknown_patients/signal_plot_P0123_RA3_RA4_11.png: 1024x1408 1 N1, 1 N2, 19.0ms\n",
      "image 185/1996 /home/sahaj432/Desktop/NSPM_Lab/main_n_peak/code_v2/Dataset/UAB_unknown_patients/signal_plot_P0123_RA5_RA6_11.png: 1024x1408 1 N1, 1 N2, 19.0ms\n",
      "image 186/1996 /home/sahaj432/Desktop/NSPM_Lab/main_n_peak/code_v2/Dataset/UAB_unknown_patients/signal_plot_P0123_RA5_RA6_13.png: 1024x1408 1 N1, 1 N2, 19.0ms\n",
      "image 187/1996 /home/sahaj432/Desktop/NSPM_Lab/main_n_peak/code_v2/Dataset/UAB_unknown_patients/signal_plot_P0123_RA5_RA6_23.png: 1024x1408 1 N1, 1 N2, 19.0ms\n",
      "image 188/1996 /home/sahaj432/Desktop/NSPM_Lab/main_n_peak/code_v2/Dataset/UAB_unknown_patients/signal_plot_P0123_RA7_RA8_10.png: 1024x1408 1 N1, 2 N2s, 19.0ms\n",
      "image 189/1996 /home/sahaj432/Desktop/NSPM_Lab/main_n_peak/code_v2/Dataset/UAB_unknown_patients/signal_plot_P0123_RA7_RA8_11.png: 1024x1408 1 N1, 1 N2, 19.0ms\n",
      "image 190/1996 /home/sahaj432/Desktop/NSPM_Lab/main_n_peak/code_v2/Dataset/UAB_unknown_patients/signal_plot_P0123_RA7_RA8_2.png: 1024x1408 1 N2, 19.0ms\n",
      "image 191/1996 /home/sahaj432/Desktop/NSPM_Lab/main_n_peak/code_v2/Dataset/UAB_unknown_patients/signal_plot_P0123_RA7_RA8_22.png: 1024x1408 2 N1s, 1 N2, 19.0ms\n",
      "image 192/1996 /home/sahaj432/Desktop/NSPM_Lab/main_n_peak/code_v2/Dataset/UAB_unknown_patients/signal_plot_P0123_RA9_RA10_10.png: 1024x1408 1 N1, 1 N2, 19.0ms\n",
      "image 193/1996 /home/sahaj432/Desktop/NSPM_Lab/main_n_peak/code_v2/Dataset/UAB_unknown_patients/signal_plot_P0123_RAH1_RAH2_22.png: 1024x1408 1 N1, 1 N2, 19.0ms\n",
      "image 194/1996 /home/sahaj432/Desktop/NSPM_Lab/main_n_peak/code_v2/Dataset/UAB_unknown_patients/signal_plot_P0123_RAH1_RAH2_23.png: 1024x1408 1 N1, 1 N2, 19.0ms\n",
      "image 195/1996 /home/sahaj432/Desktop/NSPM_Lab/main_n_peak/code_v2/Dataset/UAB_unknown_patients/signal_plot_P0123_RAH3_RAH4_11.png: 1024x1408 1 N1, 1 N2, 19.0ms\n",
      "image 196/1996 /home/sahaj432/Desktop/NSPM_Lab/main_n_peak/code_v2/Dataset/UAB_unknown_patients/signal_plot_P0123_RAH3_RAH4_22.png: 1024x1408 1 N1, 1 N2, 19.0ms\n",
      "image 197/1996 /home/sahaj432/Desktop/NSPM_Lab/main_n_peak/code_v2/Dataset/UAB_unknown_patients/signal_plot_P0123_RPH1_RPH2_11.png: 1024x1408 2 N1s, 1 N2, 19.0ms\n",
      "image 198/1996 /home/sahaj432/Desktop/NSPM_Lab/main_n_peak/code_v2/Dataset/UAB_unknown_patients/signal_plot_P0123_RPH1_RPH2_12.png: 1024x1408 1 N1, 2 N2s, 19.0ms\n",
      "image 199/1996 /home/sahaj432/Desktop/NSPM_Lab/main_n_peak/code_v2/Dataset/UAB_unknown_patients/signal_plot_P0124_LA11_LA12_169.png: 1024x1408 1 N1, 1 N2, 19.0ms\n",
      "image 200/1996 /home/sahaj432/Desktop/NSPM_Lab/main_n_peak/code_v2/Dataset/UAB_unknown_patients/signal_plot_P0124_LA11_LA12_173.png: 1024x1408 1 N1, 1 N2, 19.0ms\n",
      "image 201/1996 /home/sahaj432/Desktop/NSPM_Lab/main_n_peak/code_v2/Dataset/UAB_unknown_patients/signal_plot_P0124_LA11_LA12_174.png: 1024x1408 1 N1, 1 N2, 19.0ms\n",
      "image 202/1996 /home/sahaj432/Desktop/NSPM_Lab/main_n_peak/code_v2/Dataset/UAB_unknown_patients/signal_plot_P0124_LA11_LA12_198.png: 1024x1408 1 N1, 1 N2, 19.0ms\n",
      "image 203/1996 /home/sahaj432/Desktop/NSPM_Lab/main_n_peak/code_v2/Dataset/UAB_unknown_patients/signal_plot_P0124_LA13_LA14_171.png: 1024x1408 1 N1, 2 N2s, 19.2ms\n"
     ]
    },
    {
     "name": "stdout",
     "output_type": "stream",
     "text": [
      "image 204/1996 /home/sahaj432/Desktop/NSPM_Lab/main_n_peak/code_v2/Dataset/UAB_unknown_patients/signal_plot_P0124_LA1_LA2_177.png: 1024x1408 2 N1s, 1 N2, 19.0ms\n",
      "image 205/1996 /home/sahaj432/Desktop/NSPM_Lab/main_n_peak/code_v2/Dataset/UAB_unknown_patients/signal_plot_P0124_LA5_LA6_163.png: 1024x1408 1 N1, 1 N2, 19.0ms\n",
      "image 206/1996 /home/sahaj432/Desktop/NSPM_Lab/main_n_peak/code_v2/Dataset/UAB_unknown_patients/signal_plot_P0124_LA7_LA8_169.png: 1024x1408 1 N1, 1 N2, 19.0ms\n",
      "image 207/1996 /home/sahaj432/Desktop/NSPM_Lab/main_n_peak/code_v2/Dataset/UAB_unknown_patients/signal_plot_P0124_LA7_LA8_171.png: 1024x1408 1 N1, 1 N2, 19.0ms\n",
      "image 208/1996 /home/sahaj432/Desktop/NSPM_Lab/main_n_peak/code_v2/Dataset/UAB_unknown_patients/signal_plot_P0124_LA7_LA8_173.png: 1024x1408 1 N1, 1 N2, 19.0ms\n",
      "image 209/1996 /home/sahaj432/Desktop/NSPM_Lab/main_n_peak/code_v2/Dataset/UAB_unknown_patients/signal_plot_P0124_LA7_LA8_174.png: 1024x1408 1 N1, 1 N2, 19.0ms\n",
      "image 210/1996 /home/sahaj432/Desktop/NSPM_Lab/main_n_peak/code_v2/Dataset/UAB_unknown_patients/signal_plot_P0124_LA7_LA8_187.png: 1024x1408 1 N1, 1 N2, 19.0ms\n",
      "image 211/1996 /home/sahaj432/Desktop/NSPM_Lab/main_n_peak/code_v2/Dataset/UAB_unknown_patients/signal_plot_P0124_LA7_LA8_197.png: 1024x1408 1 N1, 1 N2, 19.0ms\n",
      "image 212/1996 /home/sahaj432/Desktop/NSPM_Lab/main_n_peak/code_v2/Dataset/UAB_unknown_patients/signal_plot_P0124_LA9_LA10_171.png: 1024x1408 1 N1, 1 N2, 19.0ms\n",
      "image 213/1996 /home/sahaj432/Desktop/NSPM_Lab/main_n_peak/code_v2/Dataset/UAB_unknown_patients/signal_plot_P0124_LA9_LA10_172.png: 1024x1408 1 Artifact, 1 N1, 19.0ms\n",
      "image 214/1996 /home/sahaj432/Desktop/NSPM_Lab/main_n_peak/code_v2/Dataset/UAB_unknown_patients/signal_plot_P0124_LA9_LA10_173.png: 1024x1408 1 N1, 1 N2, 19.2ms\n",
      "image 215/1996 /home/sahaj432/Desktop/NSPM_Lab/main_n_peak/code_v2/Dataset/UAB_unknown_patients/signal_plot_P0124_LA9_LA10_174.png: 1024x1408 1 N1, 1 N2, 19.0ms\n",
      "image 216/1996 /home/sahaj432/Desktop/NSPM_Lab/main_n_peak/code_v2/Dataset/UAB_unknown_patients/signal_plot_P0124_LA9_LA10_198.png: 1024x1408 1 N1, 1 N2, 19.2ms\n",
      "image 217/1996 /home/sahaj432/Desktop/NSPM_Lab/main_n_peak/code_v2/Dataset/UAB_unknown_patients/signal_plot_P0124_LAH11_LAH12_169.png: 1024x1408 1 N1, 1 N2, 19.0ms\n",
      "image 218/1996 /home/sahaj432/Desktop/NSPM_Lab/main_n_peak/code_v2/Dataset/UAB_unknown_patients/signal_plot_P0124_LAH11_LAH12_171.png: 1024x1408 1 N1, 1 N2, 19.3ms\n",
      "image 219/1996 /home/sahaj432/Desktop/NSPM_Lab/main_n_peak/code_v2/Dataset/UAB_unknown_patients/signal_plot_P0124_LAH11_LAH12_173.png: 1024x1408 1 N1, 1 N2, 19.0ms\n",
      "image 220/1996 /home/sahaj432/Desktop/NSPM_Lab/main_n_peak/code_v2/Dataset/UAB_unknown_patients/signal_plot_P0124_LAH11_LAH12_174.png: 1024x1408 1 N1, 1 N2, 19.0ms\n",
      "image 221/1996 /home/sahaj432/Desktop/NSPM_Lab/main_n_peak/code_v2/Dataset/UAB_unknown_patients/signal_plot_P0124_LAH11_LAH12_188.png: 1024x1408 1 N1, 1 N2, 19.2ms\n",
      "image 222/1996 /home/sahaj432/Desktop/NSPM_Lab/main_n_peak/code_v2/Dataset/UAB_unknown_patients/signal_plot_P0124_LAH11_LAH12_197.png: 1024x1408 1 N1, 1 N2, 19.0ms\n",
      "image 223/1996 /home/sahaj432/Desktop/NSPM_Lab/main_n_peak/code_v2/Dataset/UAB_unknown_patients/signal_plot_P0124_LAH11_LAH12_198.png: 1024x1408 1 N1, 1 N2, 19.3ms\n",
      "image 224/1996 /home/sahaj432/Desktop/NSPM_Lab/main_n_peak/code_v2/Dataset/UAB_unknown_patients/signal_plot_P0124_LAH1_LAH2_179.png: 1024x1408 1 N1, 1 N2, 19.0ms\n",
      "image 225/1996 /home/sahaj432/Desktop/NSPM_Lab/main_n_peak/code_v2/Dataset/UAB_unknown_patients/signal_plot_P0124_LAH1_LAH2_189.png: 1024x1408 1 N2, 19.0ms\n",
      "image 226/1996 /home/sahaj432/Desktop/NSPM_Lab/main_n_peak/code_v2/Dataset/UAB_unknown_patients/signal_plot_P0124_LAH1_LAH2_190.png: 1024x1408 1 N1, 1 N2, 19.3ms\n",
      "image 227/1996 /home/sahaj432/Desktop/NSPM_Lab/main_n_peak/code_v2/Dataset/UAB_unknown_patients/signal_plot_P0124_LAH3_LAH4_176.png: 1024x1408 2 N1s, 1 N2, 19.0ms\n",
      "image 228/1996 /home/sahaj432/Desktop/NSPM_Lab/main_n_peak/code_v2/Dataset/UAB_unknown_patients/signal_plot_P0124_LAH3_LAH4_180.png: 1024x1408 1 Artifact, 19.1ms\n",
      "image 229/1996 /home/sahaj432/Desktop/NSPM_Lab/main_n_peak/code_v2/Dataset/UAB_unknown_patients/signal_plot_P0124_LAH3_LAH4_189.png: 1024x1408 1 N2, 19.0ms\n",
      "image 230/1996 /home/sahaj432/Desktop/NSPM_Lab/main_n_peak/code_v2/Dataset/UAB_unknown_patients/signal_plot_P0124_LAH3_LAH4_190.png: 1024x1408 1 N1, 1 N2, 19.0ms\n"
     ]
    },
    {
     "name": "stderr",
     "output_type": "stream",
     "text": [
      "\n",
      "KeyboardInterrupt\n",
      "\n"
     ]
    }
   ],
   "source": [
    "import matplotlib.pyplot as plt\n",
    "\n",
    "# Run predictions\n",
    "results = model.predict(\n",
    "    source=\"/home/sahaj432/Desktop/NSPM_Lab/main_n_peak/code_v2/Dataset/UAB_unknown_patients\",\n",
    "    model=\"/home/sahaj432/Desktop/NSPM_Lab/main_n_peak/code_v2/runs/detect/yolov10x_n1_n2_custom3/weights/best.pt\",\n",
    "    imgsz=(1016, 1400),\n",
    "    conf=0.3,\n",
    "    save=False\n",
    ")\n",
    "\n",
    "print(\"Testing Results:\", results)\n",
    "\n",
    "# Visualize the first 10 images with detected boxes"
   ]
  },
  {
   "cell_type": "code",
   "execution_count": null,
   "id": "e27a3fe0",
   "metadata": {},
   "outputs": [],
   "source": [
    "%matplotlib inline\n"
   ]
  },
  {
   "cell_type": "code",
   "execution_count": null,
   "id": "db162303",
   "metadata": {
    "scrolled": true
   },
   "outputs": [],
   "source": [
    "for i, r in enumerate(results):\n",
    "    if i >= 100:\n",
    "        break  # Show only the first 10 images\n",
    "\n",
    "    # Plot the detected boxes\n",
    "    plotted_image = r.plot()  # returns numpy array with overlaid boxes\n",
    "\n",
    "    # Display the image\n",
    "    plt.figure(figsize=(12, 8))\n",
    "    plt.imshow(plotted_image)\n",
    "    plt.axis('off')\n",
    "    plt.title(f\"Detection result for image {i+1}\")\n",
    "    plt.show()\n"
   ]
  },
  {
   "cell_type": "markdown",
   "id": "79fb6dc0",
   "metadata": {},
   "source": [
    "# Test the model on new images or videos\n",
    "results = model.predict(\n",
    "    source=\"path_to_test_images_or_videos\",  # Folder or file path for testing\n",
    "    model=best_model_path,                   # Path to the best model weights\n",
    "    imgsz=(1016, 1400),                      # Original image size\n",
    "    conf=0.25,                               # Confidence threshold\n",
    "    save=True                                # Save the predictions\n",
    ")\n",
    "print(\"Testing Results:\", results)\n",
    "\n",
    "# Export the trained model to ONNX format for deployment\n",
    "export_path = model.export(\n",
    "    format=\"onnx\",                     # Export format (torchscript, onnx, coreml, etc.)\n",
    "    model=best_model_path              # Path to the best model weights\n",
    ")\n",
    "print(f\"Model exported to {export_path}\")\n"
   ]
  },
  {
   "cell_type": "code",
   "execution_count": null,
   "id": "2b7b5028",
   "metadata": {},
   "outputs": [],
   "source": []
  }
 ],
 "metadata": {
  "anaconda-cloud": {},
  "kernelspec": {
   "display_name": "Python [conda env:.conda-mcmc]",
   "language": "python",
   "name": "conda-env-.conda-mcmc-py"
  },
  "language_info": {
   "codemirror_mode": {
    "name": "ipython",
    "version": 3
   },
   "file_extension": ".py",
   "mimetype": "text/x-python",
   "name": "python",
   "nbconvert_exporter": "python",
   "pygments_lexer": "ipython3",
   "version": "3.12.3"
  }
 },
 "nbformat": 4,
 "nbformat_minor": 5
}
